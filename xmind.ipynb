{
  "nbformat": 4,
  "nbformat_minor": 0,
  "metadata": {
    "colab": {
      "name": "xmind.ipynb",
      "provenance": [],
      "authorship_tag": "ABX9TyM/sYn5RjBe+Ek01t7V/zJe",
      "include_colab_link": true
    },
    "kernelspec": {
      "name": "python3",
      "display_name": "Python 3"
    },
    "language_info": {
      "name": "python"
    }
  },
  "cells": [
    {
      "cell_type": "markdown",
      "metadata": {
        "id": "view-in-github",
        "colab_type": "text"
      },
      "source": [
        "<a href=\"https://colab.research.google.com/github/fact-h/Graduation-project/blob/main/xmind.ipynb\" target=\"_parent\"><img src=\"https://colab.research.google.com/assets/colab-badge.svg\" alt=\"Open In Colab\"/></a>"
      ]
    },
    {
      "cell_type": "markdown",
      "source": [
        "**模型目标**：根据降雨序列预测水深变化，即输入降雨序列输出水深变化序列\\\n",
        "**训练特征（模型输入）**：降雨序列\\\n",
        "**模型输出**；水深变化序列，时间与降雨序列对应\\\n",
        "**每一条样本特征**：一场降雨的序列or单个降雨值or前若干个（比如3）时间步的降雨序列及前若干个时序的水深\\\n",
        "**每一个标签**：一场降雨对应的水深变化序列or单个降雨值对应的水深值or下一个时间步的水深\n"
      ],
      "metadata": {
        "id": "KASehPZExhbD"
      }
    },
    {
      "cell_type": "code",
      "source": [
        "import tensorflow as tf\n",
        "x = tf.constant([[1.0, 2.0]])\n",
        "w = tf.constant([[3.0],\n",
        "          [4.0]])\n",
        "y = tf.matmul(x, w) # x w向量乘\n",
        "print(y)"
      ],
      "metadata": {
        "colab": {
          "base_uri": "https://localhost:8080/"
        },
        "id": "XJmoBJ6Y2PO_",
        "outputId": "946d2446-cae0-40fc-ed6f-44c28424d1ba"
      },
      "execution_count": null,
      "outputs": [
        {
          "output_type": "stream",
          "name": "stdout",
          "text": [
            "tf.Tensor([[11.]], shape=(1, 1), dtype=float32)\n"
          ]
        }
      ]
    },
    {
      "cell_type": "code",
      "metadata": {
        "id": "9n9_cTveKmse",
        "colab": {
          "base_uri": "https://localhost:8080/"
        },
        "outputId": "161b3d9e-525f-488a-9ad9-300cbed3fd71"
      },
      "source": [
        "# from __future__ import absolute_import, division, print_function, unicode_literals\n",
        "\n",
        "import numpy as np\n",
        "import pandas as pd\n",
        "import tensorflow as tf\n",
        "from tensorflow import feature_column\n",
        "from tensorflow.keras import layers\n",
        "\n",
        "from matplotlib import pyplot as plt\n",
        "\n",
        "# The following lines adjust the granularity of reporting.\n",
        "pd.options.display.max_rows = 10\n",
        "pd.options.display.float_format = \"{:.1f}\".format\n",
        "\n",
        "tf.keras.backend.set_floatx('float32')\n",
        "\n",
        "print(\"Imported the modules.\")"
      ],
      "execution_count": null,
      "outputs": [
        {
          "output_type": "stream",
          "name": "stdout",
          "text": [
            "Imported the modules.\n"
          ]
        }
      ]
    },
    {
      "cell_type": "code",
      "source": [
        "x1 = [[1,2],[3,4]]\n",
        "x2 = [[5,6],[7,8]]\n",
        "x = [x1,x2]\n",
        "type(x)"
      ],
      "metadata": {
        "colab": {
          "base_uri": "https://localhost:8080/"
        },
        "id": "HRGz4B4EInFT",
        "outputId": "3b19339c-8f66-466b-b3c5-ab3c8e9622f4"
      },
      "execution_count": null,
      "outputs": [
        {
          "output_type": "execute_result",
          "data": {
            "text/plain": [
              "list"
            ]
          },
          "metadata": {},
          "execution_count": 4
        }
      ]
    }
  ]
}