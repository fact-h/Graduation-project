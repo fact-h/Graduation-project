{
  "nbformat": 4,
  "nbformat_minor": 0,
  "metadata": {
    "colab": {
      "name": "LightGBM v4.0",
      "provenance": [],
      "collapsed_sections": [],
      "authorship_tag": "ABX9TyMsn12sh6QIuXl3pFcpPIMf",
      "include_colab_link": true
    },
    "kernelspec": {
      "name": "python3",
      "display_name": "Python 3"
    },
    "language_info": {
      "name": "python"
    },
    "widgets": {
      "application/vnd.jupyter.widget-state+json": {
        "b70fa394a722462681f4af80a008910d": {
          "model_module": "@jupyter-widgets/controls",
          "model_name": "VBoxModel",
          "model_module_version": "1.5.0",
          "state": {
            "_dom_classes": [
              "widget-interact"
            ],
            "_model_module": "@jupyter-widgets/controls",
            "_model_module_version": "1.5.0",
            "_model_name": "VBoxModel",
            "_view_count": null,
            "_view_module": "@jupyter-widgets/controls",
            "_view_module_version": "1.5.0",
            "_view_name": "VBoxView",
            "box_style": "",
            "children": [
              "IPY_MODEL_be9b0466ecab44fc980ce39fec947616",
              "IPY_MODEL_1b67648e758144009bd317facf9f8a41"
            ],
            "layout": "IPY_MODEL_36d524f64a71445eb5677e1a25b3ec4d"
          }
        },
        "be9b0466ecab44fc980ce39fec947616": {
          "model_module": "@jupyter-widgets/controls",
          "model_name": "DropdownModel",
          "model_module_version": "1.5.0",
          "state": {
            "_dom_classes": [],
            "_model_module": "@jupyter-widgets/controls",
            "_model_module_version": "1.5.0",
            "_model_name": "DropdownModel",
            "_options_labels": [
              "rmse",
              "l2"
            ],
            "_view_count": null,
            "_view_module": "@jupyter-widgets/controls",
            "_view_module_version": "1.5.0",
            "_view_name": "DropdownView",
            "description": "metric_name",
            "description_tooltip": null,
            "disabled": false,
            "index": 0,
            "layout": "IPY_MODEL_d3f3328cc8b2481b81ac7d09c86408b2",
            "style": "IPY_MODEL_fb3f8ec4e985449080900a993c49e7a4"
          }
        },
        "1b67648e758144009bd317facf9f8a41": {
          "model_module": "@jupyter-widgets/output",
          "model_name": "OutputModel",
          "model_module_version": "1.0.0",
          "state": {
            "_dom_classes": [],
            "_model_module": "@jupyter-widgets/output",
            "_model_module_version": "1.0.0",
            "_model_name": "OutputModel",
            "_view_count": null,
            "_view_module": "@jupyter-widgets/output",
            "_view_module_version": "1.0.0",
            "_view_name": "OutputView",
            "layout": "IPY_MODEL_67dc8c8690cf42f2918cb2215edd1b63",
            "msg_id": "",
            "outputs": [
              {
                "output_type": "display_data",
                "data": {
                  "text/plain": "<Figure size 720x360 with 1 Axes>",
                  "image/png": "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\n"
                },
                "metadata": {
                  "needs_background": "light"
                }
              }
            ]
          }
        },
        "36d524f64a71445eb5677e1a25b3ec4d": {
          "model_module": "@jupyter-widgets/base",
          "model_name": "LayoutModel",
          "model_module_version": "1.2.0",
          "state": {
            "_model_module": "@jupyter-widgets/base",
            "_model_module_version": "1.2.0",
            "_model_name": "LayoutModel",
            "_view_count": null,
            "_view_module": "@jupyter-widgets/base",
            "_view_module_version": "1.2.0",
            "_view_name": "LayoutView",
            "align_content": null,
            "align_items": null,
            "align_self": null,
            "border": null,
            "bottom": null,
            "display": null,
            "flex": null,
            "flex_flow": null,
            "grid_area": null,
            "grid_auto_columns": null,
            "grid_auto_flow": null,
            "grid_auto_rows": null,
            "grid_column": null,
            "grid_gap": null,
            "grid_row": null,
            "grid_template_areas": null,
            "grid_template_columns": null,
            "grid_template_rows": null,
            "height": null,
            "justify_content": null,
            "justify_items": null,
            "left": null,
            "margin": null,
            "max_height": null,
            "max_width": null,
            "min_height": null,
            "min_width": null,
            "object_fit": null,
            "object_position": null,
            "order": null,
            "overflow": null,
            "overflow_x": null,
            "overflow_y": null,
            "padding": null,
            "right": null,
            "top": null,
            "visibility": null,
            "width": null
          }
        },
        "d3f3328cc8b2481b81ac7d09c86408b2": {
          "model_module": "@jupyter-widgets/base",
          "model_name": "LayoutModel",
          "model_module_version": "1.2.0",
          "state": {
            "_model_module": "@jupyter-widgets/base",
            "_model_module_version": "1.2.0",
            "_model_name": "LayoutModel",
            "_view_count": null,
            "_view_module": "@jupyter-widgets/base",
            "_view_module_version": "1.2.0",
            "_view_name": "LayoutView",
            "align_content": null,
            "align_items": null,
            "align_self": null,
            "border": null,
            "bottom": null,
            "display": null,
            "flex": null,
            "flex_flow": null,
            "grid_area": null,
            "grid_auto_columns": null,
            "grid_auto_flow": null,
            "grid_auto_rows": null,
            "grid_column": null,
            "grid_gap": null,
            "grid_row": null,
            "grid_template_areas": null,
            "grid_template_columns": null,
            "grid_template_rows": null,
            "height": null,
            "justify_content": null,
            "justify_items": null,
            "left": null,
            "margin": null,
            "max_height": null,
            "max_width": null,
            "min_height": null,
            "min_width": null,
            "object_fit": null,
            "object_position": null,
            "order": null,
            "overflow": null,
            "overflow_x": null,
            "overflow_y": null,
            "padding": null,
            "right": null,
            "top": null,
            "visibility": null,
            "width": null
          }
        },
        "fb3f8ec4e985449080900a993c49e7a4": {
          "model_module": "@jupyter-widgets/controls",
          "model_name": "DescriptionStyleModel",
          "model_module_version": "1.5.0",
          "state": {
            "_model_module": "@jupyter-widgets/controls",
            "_model_module_version": "1.5.0",
            "_model_name": "DescriptionStyleModel",
            "_view_count": null,
            "_view_module": "@jupyter-widgets/base",
            "_view_module_version": "1.2.0",
            "_view_name": "StyleView",
            "description_width": ""
          }
        },
        "67dc8c8690cf42f2918cb2215edd1b63": {
          "model_module": "@jupyter-widgets/base",
          "model_name": "LayoutModel",
          "model_module_version": "1.2.0",
          "state": {
            "_model_module": "@jupyter-widgets/base",
            "_model_module_version": "1.2.0",
            "_model_name": "LayoutModel",
            "_view_count": null,
            "_view_module": "@jupyter-widgets/base",
            "_view_module_version": "1.2.0",
            "_view_name": "LayoutView",
            "align_content": null,
            "align_items": null,
            "align_self": null,
            "border": null,
            "bottom": null,
            "display": null,
            "flex": null,
            "flex_flow": null,
            "grid_area": null,
            "grid_auto_columns": null,
            "grid_auto_flow": null,
            "grid_auto_rows": null,
            "grid_column": null,
            "grid_gap": null,
            "grid_row": null,
            "grid_template_areas": null,
            "grid_template_columns": null,
            "grid_template_rows": null,
            "height": null,
            "justify_content": null,
            "justify_items": null,
            "left": null,
            "margin": null,
            "max_height": null,
            "max_width": null,
            "min_height": null,
            "min_width": null,
            "object_fit": null,
            "object_position": null,
            "order": null,
            "overflow": null,
            "overflow_x": null,
            "overflow_y": null,
            "padding": null,
            "right": null,
            "top": null,
            "visibility": null,
            "width": null
          }
        },
        "c7906285a1c14ac0a3b10050d2d41905": {
          "model_module": "@jupyter-widgets/controls",
          "model_name": "VBoxModel",
          "model_module_version": "1.5.0",
          "state": {
            "_dom_classes": [
              "widget-interact"
            ],
            "_model_module": "@jupyter-widgets/controls",
            "_model_module_version": "1.5.0",
            "_model_name": "VBoxModel",
            "_view_count": null,
            "_view_module": "@jupyter-widgets/controls",
            "_view_module_version": "1.5.0",
            "_view_name": "VBoxView",
            "box_style": "",
            "children": [
              "IPY_MODEL_1b256c197f354ea3ab8eb3f0dc7069ef",
              "IPY_MODEL_ca676e67bce64cc181c18ae5cfb4f25e",
              "IPY_MODEL_1db483d0fd914406b6ca8533e864aea2",
              "IPY_MODEL_6ba3aa59b44c4696a1bb6bd3ce5bb770",
              "IPY_MODEL_01490f1986584a04a28ebdc7c8dc3d8e"
            ],
            "layout": "IPY_MODEL_023519c5928d48e4a36f466afd88af34"
          }
        },
        "1b256c197f354ea3ab8eb3f0dc7069ef": {
          "model_module": "@jupyter-widgets/controls",
          "model_name": "DropdownModel",
          "model_module_version": "1.5.0",
          "state": {
            "_dom_classes": [],
            "_model_module": "@jupyter-widgets/controls",
            "_model_module_version": "1.5.0",
            "_model_name": "DropdownModel",
            "_options_labels": [
              "split",
              "gain"
            ],
            "_view_count": null,
            "_view_module": "@jupyter-widgets/controls",
            "_view_module_version": "1.5.0",
            "_view_name": "DropdownView",
            "description": "importance_type",
            "description_tooltip": null,
            "disabled": false,
            "index": 0,
            "layout": "IPY_MODEL_a8f605dc22fc4ff994cf8fbd47584b22",
            "style": "IPY_MODEL_1f544d573a9b4ecf8d78ea1a33a5ecf5"
          }
        },
        "ca676e67bce64cc181c18ae5cfb4f25e": {
          "model_module": "@jupyter-widgets/controls",
          "model_name": "IntSliderModel",
          "model_module_version": "1.5.0",
          "state": {
            "_dom_classes": [],
            "_model_module": "@jupyter-widgets/controls",
            "_model_module_version": "1.5.0",
            "_model_name": "IntSliderModel",
            "_view_count": null,
            "_view_module": "@jupyter-widgets/controls",
            "_view_module_version": "1.5.0",
            "_view_name": "IntSliderView",
            "continuous_update": true,
            "description": "max_features",
            "description_tooltip": null,
            "disabled": false,
            "layout": "IPY_MODEL_8bed368b076e4cd4b7663e99bfa9d5e4",
            "max": 11,
            "min": 1,
            "orientation": "horizontal",
            "readout": true,
            "readout_format": "d",
            "step": 1,
            "style": "IPY_MODEL_30f6f506a01e45018dc74865dae40132",
            "value": 10
          }
        },
        "1db483d0fd914406b6ca8533e864aea2": {
          "model_module": "@jupyter-widgets/controls",
          "model_name": "CheckboxModel",
          "model_module_version": "1.5.0",
          "state": {
            "_dom_classes": [],
            "_model_module": "@jupyter-widgets/controls",
            "_model_module_version": "1.5.0",
            "_model_name": "CheckboxModel",
            "_view_count": null,
            "_view_module": "@jupyter-widgets/controls",
            "_view_module_version": "1.5.0",
            "_view_name": "CheckboxView",
            "description": "ignore_zero",
            "description_tooltip": null,
            "disabled": false,
            "indent": true,
            "layout": "IPY_MODEL_f86073b8e72c4565ad39835e9661e147",
            "style": "IPY_MODEL_f56ab387ea704f27a0d4adbe367b1da6",
            "value": true
          }
        },
        "6ba3aa59b44c4696a1bb6bd3ce5bb770": {
          "model_module": "@jupyter-widgets/controls",
          "model_name": "IntSliderModel",
          "model_module_version": "1.5.0",
          "state": {
            "_dom_classes": [],
            "_model_module": "@jupyter-widgets/controls",
            "_model_module_version": "1.5.0",
            "_model_name": "IntSliderModel",
            "_view_count": null,
            "_view_module": "@jupyter-widgets/controls",
            "_view_module_version": "1.5.0",
            "_view_name": "IntSliderView",
            "continuous_update": true,
            "description": "precision",
            "description_tooltip": null,
            "disabled": false,
            "layout": "IPY_MODEL_153198605cf14363972402ba092f17d2",
            "max": 10,
            "min": 0,
            "orientation": "horizontal",
            "readout": true,
            "readout_format": "d",
            "step": 1,
            "style": "IPY_MODEL_9359fc7ba8044250ba69bdda523cda45",
            "value": 3
          }
        },
        "01490f1986584a04a28ebdc7c8dc3d8e": {
          "model_module": "@jupyter-widgets/output",
          "model_name": "OutputModel",
          "model_module_version": "1.0.0",
          "state": {
            "_dom_classes": [],
            "_model_module": "@jupyter-widgets/output",
            "_model_module_version": "1.0.0",
            "_model_name": "OutputModel",
            "_view_count": null,
            "_view_module": "@jupyter-widgets/output",
            "_view_module_version": "1.0.0",
            "_view_name": "OutputView",
            "layout": "IPY_MODEL_944b78ad609f4a04acddecd820e862bd",
            "msg_id": "",
            "outputs": [
              {
                "output_type": "display_data",
                "data": {
                  "text/plain": "<Figure size 864x576 with 1 Axes>",
                  "image/png": "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\n"
                },
                "metadata": {
                  "needs_background": "light"
                }
              }
            ]
          }
        },
        "023519c5928d48e4a36f466afd88af34": {
          "model_module": "@jupyter-widgets/base",
          "model_name": "LayoutModel",
          "model_module_version": "1.2.0",
          "state": {
            "_model_module": "@jupyter-widgets/base",
            "_model_module_version": "1.2.0",
            "_model_name": "LayoutModel",
            "_view_count": null,
            "_view_module": "@jupyter-widgets/base",
            "_view_module_version": "1.2.0",
            "_view_name": "LayoutView",
            "align_content": null,
            "align_items": null,
            "align_self": null,
            "border": null,
            "bottom": null,
            "display": null,
            "flex": null,
            "flex_flow": null,
            "grid_area": null,
            "grid_auto_columns": null,
            "grid_auto_flow": null,
            "grid_auto_rows": null,
            "grid_column": null,
            "grid_gap": null,
            "grid_row": null,
            "grid_template_areas": null,
            "grid_template_columns": null,
            "grid_template_rows": null,
            "height": null,
            "justify_content": null,
            "justify_items": null,
            "left": null,
            "margin": null,
            "max_height": null,
            "max_width": null,
            "min_height": null,
            "min_width": null,
            "object_fit": null,
            "object_position": null,
            "order": null,
            "overflow": null,
            "overflow_x": null,
            "overflow_y": null,
            "padding": null,
            "right": null,
            "top": null,
            "visibility": null,
            "width": null
          }
        },
        "a8f605dc22fc4ff994cf8fbd47584b22": {
          "model_module": "@jupyter-widgets/base",
          "model_name": "LayoutModel",
          "model_module_version": "1.2.0",
          "state": {
            "_model_module": "@jupyter-widgets/base",
            "_model_module_version": "1.2.0",
            "_model_name": "LayoutModel",
            "_view_count": null,
            "_view_module": "@jupyter-widgets/base",
            "_view_module_version": "1.2.0",
            "_view_name": "LayoutView",
            "align_content": null,
            "align_items": null,
            "align_self": null,
            "border": null,
            "bottom": null,
            "display": null,
            "flex": null,
            "flex_flow": null,
            "grid_area": null,
            "grid_auto_columns": null,
            "grid_auto_flow": null,
            "grid_auto_rows": null,
            "grid_column": null,
            "grid_gap": null,
            "grid_row": null,
            "grid_template_areas": null,
            "grid_template_columns": null,
            "grid_template_rows": null,
            "height": null,
            "justify_content": null,
            "justify_items": null,
            "left": null,
            "margin": null,
            "max_height": null,
            "max_width": null,
            "min_height": null,
            "min_width": null,
            "object_fit": null,
            "object_position": null,
            "order": null,
            "overflow": null,
            "overflow_x": null,
            "overflow_y": null,
            "padding": null,
            "right": null,
            "top": null,
            "visibility": null,
            "width": null
          }
        },
        "1f544d573a9b4ecf8d78ea1a33a5ecf5": {
          "model_module": "@jupyter-widgets/controls",
          "model_name": "DescriptionStyleModel",
          "model_module_version": "1.5.0",
          "state": {
            "_model_module": "@jupyter-widgets/controls",
            "_model_module_version": "1.5.0",
            "_model_name": "DescriptionStyleModel",
            "_view_count": null,
            "_view_module": "@jupyter-widgets/base",
            "_view_module_version": "1.2.0",
            "_view_name": "StyleView",
            "description_width": ""
          }
        },
        "8bed368b076e4cd4b7663e99bfa9d5e4": {
          "model_module": "@jupyter-widgets/base",
          "model_name": "LayoutModel",
          "model_module_version": "1.2.0",
          "state": {
            "_model_module": "@jupyter-widgets/base",
            "_model_module_version": "1.2.0",
            "_model_name": "LayoutModel",
            "_view_count": null,
            "_view_module": "@jupyter-widgets/base",
            "_view_module_version": "1.2.0",
            "_view_name": "LayoutView",
            "align_content": null,
            "align_items": null,
            "align_self": null,
            "border": null,
            "bottom": null,
            "display": null,
            "flex": null,
            "flex_flow": null,
            "grid_area": null,
            "grid_auto_columns": null,
            "grid_auto_flow": null,
            "grid_auto_rows": null,
            "grid_column": null,
            "grid_gap": null,
            "grid_row": null,
            "grid_template_areas": null,
            "grid_template_columns": null,
            "grid_template_rows": null,
            "height": null,
            "justify_content": null,
            "justify_items": null,
            "left": null,
            "margin": null,
            "max_height": null,
            "max_width": null,
            "min_height": null,
            "min_width": null,
            "object_fit": null,
            "object_position": null,
            "order": null,
            "overflow": null,
            "overflow_x": null,
            "overflow_y": null,
            "padding": null,
            "right": null,
            "top": null,
            "visibility": null,
            "width": null
          }
        },
        "30f6f506a01e45018dc74865dae40132": {
          "model_module": "@jupyter-widgets/controls",
          "model_name": "SliderStyleModel",
          "model_module_version": "1.5.0",
          "state": {
            "_model_module": "@jupyter-widgets/controls",
            "_model_module_version": "1.5.0",
            "_model_name": "SliderStyleModel",
            "_view_count": null,
            "_view_module": "@jupyter-widgets/base",
            "_view_module_version": "1.2.0",
            "_view_name": "StyleView",
            "description_width": "",
            "handle_color": null
          }
        },
        "f86073b8e72c4565ad39835e9661e147": {
          "model_module": "@jupyter-widgets/base",
          "model_name": "LayoutModel",
          "model_module_version": "1.2.0",
          "state": {
            "_model_module": "@jupyter-widgets/base",
            "_model_module_version": "1.2.0",
            "_model_name": "LayoutModel",
            "_view_count": null,
            "_view_module": "@jupyter-widgets/base",
            "_view_module_version": "1.2.0",
            "_view_name": "LayoutView",
            "align_content": null,
            "align_items": null,
            "align_self": null,
            "border": null,
            "bottom": null,
            "display": null,
            "flex": null,
            "flex_flow": null,
            "grid_area": null,
            "grid_auto_columns": null,
            "grid_auto_flow": null,
            "grid_auto_rows": null,
            "grid_column": null,
            "grid_gap": null,
            "grid_row": null,
            "grid_template_areas": null,
            "grid_template_columns": null,
            "grid_template_rows": null,
            "height": null,
            "justify_content": null,
            "justify_items": null,
            "left": null,
            "margin": null,
            "max_height": null,
            "max_width": null,
            "min_height": null,
            "min_width": null,
            "object_fit": null,
            "object_position": null,
            "order": null,
            "overflow": null,
            "overflow_x": null,
            "overflow_y": null,
            "padding": null,
            "right": null,
            "top": null,
            "visibility": null,
            "width": null
          }
        },
        "f56ab387ea704f27a0d4adbe367b1da6": {
          "model_module": "@jupyter-widgets/controls",
          "model_name": "DescriptionStyleModel",
          "model_module_version": "1.5.0",
          "state": {
            "_model_module": "@jupyter-widgets/controls",
            "_model_module_version": "1.5.0",
            "_model_name": "DescriptionStyleModel",
            "_view_count": null,
            "_view_module": "@jupyter-widgets/base",
            "_view_module_version": "1.2.0",
            "_view_name": "StyleView",
            "description_width": ""
          }
        },
        "153198605cf14363972402ba092f17d2": {
          "model_module": "@jupyter-widgets/base",
          "model_name": "LayoutModel",
          "model_module_version": "1.2.0",
          "state": {
            "_model_module": "@jupyter-widgets/base",
            "_model_module_version": "1.2.0",
            "_model_name": "LayoutModel",
            "_view_count": null,
            "_view_module": "@jupyter-widgets/base",
            "_view_module_version": "1.2.0",
            "_view_name": "LayoutView",
            "align_content": null,
            "align_items": null,
            "align_self": null,
            "border": null,
            "bottom": null,
            "display": null,
            "flex": null,
            "flex_flow": null,
            "grid_area": null,
            "grid_auto_columns": null,
            "grid_auto_flow": null,
            "grid_auto_rows": null,
            "grid_column": null,
            "grid_gap": null,
            "grid_row": null,
            "grid_template_areas": null,
            "grid_template_columns": null,
            "grid_template_rows": null,
            "height": null,
            "justify_content": null,
            "justify_items": null,
            "left": null,
            "margin": null,
            "max_height": null,
            "max_width": null,
            "min_height": null,
            "min_width": null,
            "object_fit": null,
            "object_position": null,
            "order": null,
            "overflow": null,
            "overflow_x": null,
            "overflow_y": null,
            "padding": null,
            "right": null,
            "top": null,
            "visibility": null,
            "width": null
          }
        },
        "9359fc7ba8044250ba69bdda523cda45": {
          "model_module": "@jupyter-widgets/controls",
          "model_name": "SliderStyleModel",
          "model_module_version": "1.5.0",
          "state": {
            "_model_module": "@jupyter-widgets/controls",
            "_model_module_version": "1.5.0",
            "_model_name": "SliderStyleModel",
            "_view_count": null,
            "_view_module": "@jupyter-widgets/base",
            "_view_module_version": "1.2.0",
            "_view_name": "StyleView",
            "description_width": "",
            "handle_color": null
          }
        },
        "944b78ad609f4a04acddecd820e862bd": {
          "model_module": "@jupyter-widgets/base",
          "model_name": "LayoutModel",
          "model_module_version": "1.2.0",
          "state": {
            "_model_module": "@jupyter-widgets/base",
            "_model_module_version": "1.2.0",
            "_model_name": "LayoutModel",
            "_view_count": null,
            "_view_module": "@jupyter-widgets/base",
            "_view_module_version": "1.2.0",
            "_view_name": "LayoutView",
            "align_content": null,
            "align_items": null,
            "align_self": null,
            "border": null,
            "bottom": null,
            "display": null,
            "flex": null,
            "flex_flow": null,
            "grid_area": null,
            "grid_auto_columns": null,
            "grid_auto_flow": null,
            "grid_auto_rows": null,
            "grid_column": null,
            "grid_gap": null,
            "grid_row": null,
            "grid_template_areas": null,
            "grid_template_columns": null,
            "grid_template_rows": null,
            "height": null,
            "justify_content": null,
            "justify_items": null,
            "left": null,
            "margin": null,
            "max_height": null,
            "max_width": null,
            "min_height": null,
            "min_width": null,
            "object_fit": null,
            "object_position": null,
            "order": null,
            "overflow": null,
            "overflow_x": null,
            "overflow_y": null,
            "padding": null,
            "right": null,
            "top": null,
            "visibility": null,
            "width": null
          }
        }
      }
    }
  },
  "cells": [
    {
      "cell_type": "markdown",
      "metadata": {
        "id": "view-in-github",
        "colab_type": "text"
      },
      "source": [
        "<a href=\"https://colab.research.google.com/github/fact-h/Graduation-project/blob/main/LightGBM_v4_0.ipynb\" target=\"_parent\"><img src=\"https://colab.research.google.com/assets/colab-badge.svg\" alt=\"Open In Colab\"/></a>"
      ]
    },
    {
      "cell_type": "markdown",
      "source": [
        "# 基于机器学习的城市洪涝快速模拟研究\n",
        "\n",
        "- 目标：根据降雨和潮位的序列信息预测某点的最大水深\n",
        "- 使用的机器学习算法：[LightGBM](https://lightgbm.readthedocs.io/en/latest/)\n",
        "- 模型输入特征：10个降雨和潮位特征、1个淹没点分类特征\n",
        "- 模型输出变量：最大水深\n",
        "- 选取点：\n",
        "\n",
        "1. SJ10401 \n",
        "2. SJ18385 \n",
        "3. SJ16484\n",
        "4. SJ20705 \n",
        "5. SJ13082 \n",
        "6. SJ8600 \n",
        "7. SJ10479 \n",
        "8. SJ14592\n",
        "9. SJ15316\n",
        "10. SJ21244\n",
        "\n",
        "\n",
        "v4.0：更改数据划分方式，将随机划分改为人为划分\n",
        "\n",
        "v3.0：增加了一列关于点名称的特征，选取10个点，可预测这10个点的最大水深。\n",
        "\n",
        "v2.0：相较于v1.0，本版本增加了多个学习模型作为基准模型，以验证LightGBM模型的性能。\n",
        "\n",
        "结果：\n",
        "\n",
        "|\t方法\t|\tLightGBM\t|\tRF\t|\tXGBoost\t| SVR |\t决策树 | KNN |\n",
        "|\t-------  |\t------------\t| ------- | ----------- | ----- | -------- | -----|\n",
        "|\tNSE\t\t|\t     |  |      |  |  |  |\n",
        "\n",
        "v1.1：增加了特征重要性绘制\n",
        "\n",
        "v1.0：完成基础功能--训练和预测，RMSE、NSE指标评估"
      ],
      "metadata": {
        "id": "gzH3KpmQn0dZ"
      }
    },
    {
      "cell_type": "markdown",
      "source": [
        "## 导入相关的模块"
      ],
      "metadata": {
        "id": "6lKEorfyoskp"
      }
    },
    {
      "cell_type": "code",
      "source": [
        "import numpy as np\n",
        "import pandas as pd\n",
        "import lightgbm as lgb\n",
        "from xgboost import XGBRegressor\n",
        "from sklearn.svm import SVR\n",
        "from sklearn.tree import DecisionTreeRegressor\n",
        "from sklearn.neighbors import KNeighborsRegressor\n",
        "from sklearn.ensemble import RandomForestRegressor\n",
        "from sklearn.metrics import mean_squared_error\n",
        "from sklearn.metrics import r2_score\n",
        "from sklearn.metrics import mean_absolute_percentage_error\n",
        "from sklearn.model_selection import GridSearchCV\n",
        "from sklearn.preprocessing import OneHotEncoder\n",
        "from matplotlib import pyplot as plt\n",
        "\n",
        "%matplotlib inline\n",
        "\n",
        "try:\n",
        "    # To enable interactive mode you should install ipywidgets\n",
        "    # https://github.com/jupyter-widgets/ipywidgets\n",
        "    from ipywidgets import interact, SelectMultiple\n",
        "    INTERACTIVE = True\n",
        "except ImportError:\n",
        "    INTERACTIVE = False"
      ],
      "metadata": {
        "id": "U90CtmSporFv"
      },
      "execution_count": null,
      "outputs": []
    },
    {
      "cell_type": "markdown",
      "source": [
        "## 加载原始数据\n",
        "先上传两个CSV数据文件：\n",
        "- `E:\\毕业设计\\数据\\模型训练数据\\X.csv`\n",
        "- `E:\\毕业设计\\数据\\模型训练数据\\y.csv`\n",
        "\n",
        "X数据集存储的是各降雨和潮位的时间序列，每一列是一个序列，y数据集存储的里是各点的最大水深，这两个数据集并不是模型直接使用的数据，模型使用的数据是提取特征后的数据，后面会进行特征的提取。"
      ],
      "metadata": {
        "id": "haDS6XW6pTkn"
      }
    },
    {
      "cell_type": "code",
      "source": [
        "df_X_raw = pd.read_csv('/content/X.csv')\n",
        "df_y = pd.read_csv('/content/y.csv')"
      ],
      "metadata": {
        "id": "Uaw97iSEVFLG"
      },
      "execution_count": null,
      "outputs": []
    },
    {
      "cell_type": "markdown",
      "source": [
        "## 提取特征\n",
        "10个特征：\n",
        "- 6个降雨相关的特征：**累计降雨量 降雨重现期 降雨峰值 最大2h降雨量 最大3h降雨量 峰值前累计降雨量**\n",
        "- 4个潮位相关的特征：**最大潮位 潮位重现期 平均潮位 最大5h平均潮位**"
      ],
      "metadata": {
        "id": "UVMyRIVcBhlB"
      }
    },
    {
      "cell_type": "code",
      "source": [
        "#@title 创建降雨的特征DataFrame: `rain_feature_df`和创建潮位的有关特征DataFrame: `tide_feature_df` { display-mode: \"form\" }\n",
        "# 新建一个降雨DataFrame\n",
        "rain_feature_df = pd.DataFrame()\n",
        "\n",
        "# 添加累计降雨量\n",
        "rain_feature_df['CumRainfall'] = df_X_raw.iloc[:,2:9].sum()\n",
        "\n",
        "# 添加降雨重现期\n",
        "rain_feature_df['RainRP'] = [5,10,20,35,50,75,100]\n",
        "\n",
        "# 添加降雨峰值\n",
        "rain_feature_df['RainfallPeak'] = df_X_raw.iloc[:,2:9].max()\n",
        "\n",
        "# 添加最大2h降雨量\n",
        "rain_feature_df['MaxRainfall2h'] = np.add(df_X_raw.iloc[0:-2,2:9], df_X_raw.iloc[1:-1,2:9]).max()\n",
        "\n",
        "# 添加最大3h降雨量\n",
        "rain_feature_df['MaxRainfall3h'] = np.add(np.add(df_X_raw.iloc[0:-3,2:9],df_X_raw.iloc[1:-2,2:9]),df_X_raw.iloc[2:-1,2:9]).max()\n",
        "\n",
        "# 添加峰值前累计降雨量\n",
        "peak_index = df_X_raw[df_X_raw.iloc[:,2]==rain_feature_df['RainfallPeak'][0]].index.tolist()[0]\n",
        "rain_feature_df['CumRainfallBeforePeak'] = df_X_raw.iloc[0:peak_index,2:9].sum()\n",
        "\n",
        "\n",
        "\n",
        "# 创建一个从潮位中提取的特征DataFrame\n",
        "tide_feature_df = pd.DataFrame()\n",
        "\n",
        "# 添加最大潮位\n",
        "tide_feature_df['MaxTide'] = df_X_raw.iloc[:,9:].max()\n",
        "\n",
        "# 添加潮位重现期\n",
        "tide_feature_df['TideRP'] = [5,10,20,35,50,75,100]\n",
        "\n",
        "# 添加平均潮位\n",
        "tide_feature_df['MeanTide'] = df_X_raw.iloc[:,9:].mean()\n",
        "\n",
        "# 添加最大5h平均潮位\n",
        "tide_feature_df['MaxTide5h'] = np.add(\n",
        "    np.add(np.add(\n",
        "        np.add(df_X_raw.iloc[0:-5,9:],df_X_raw.iloc[1:-4,9:]),\n",
        "        df_X_raw.iloc[2:-3,9:]),df_X_raw.iloc[3:-2,9:]),\n",
        "        df_X_raw.iloc[4:-1,9:]).max()/5"
      ],
      "metadata": {
        "colab": {
          "base_uri": "https://localhost:8080/"
        },
        "id": "7P0IVfnpCHZu",
        "outputId": "303a7671-00ae-46ce-85ed-b181a87c5c72"
      },
      "execution_count": null,
      "outputs": [
        {
          "output_type": "stream",
          "name": "stderr",
          "text": [
            "/usr/local/lib/python3.7/dist-packages/ipykernel_launcher.py:15: FutureWarning: Calling a ufunc on non-aligned DataFrames (or DataFrame/Series combination). Currently, the indices are ignored and the result takes the index/columns of the first DataFrame. In the future , the DataFrames/Series will be aligned before applying the ufunc.\n",
            "Convert one of the arguments to a NumPy array (eg 'ufunc(df1, np.asarray(df2)') to keep the current behaviour, or align manually (eg 'df1, df2 = df1.align(df2)') before passing to the ufunc to obtain the future behaviour and silence this warning.\n",
            "  from ipykernel import kernelapp as app\n",
            "/usr/local/lib/python3.7/dist-packages/ipykernel_launcher.py:18: FutureWarning: Calling a ufunc on non-aligned DataFrames (or DataFrame/Series combination). Currently, the indices are ignored and the result takes the index/columns of the first DataFrame. In the future , the DataFrames/Series will be aligned before applying the ufunc.\n",
            "Convert one of the arguments to a NumPy array (eg 'ufunc(df1, np.asarray(df2)') to keep the current behaviour, or align manually (eg 'df1, df2 = df1.align(df2)') before passing to the ufunc to obtain the future behaviour and silence this warning.\n",
            "/usr/local/lib/python3.7/dist-packages/ipykernel_launcher.py:41: FutureWarning: Calling a ufunc on non-aligned DataFrames (or DataFrame/Series combination). Currently, the indices are ignored and the result takes the index/columns of the first DataFrame. In the future , the DataFrames/Series will be aligned before applying the ufunc.\n",
            "Convert one of the arguments to a NumPy array (eg 'ufunc(df1, np.asarray(df2)') to keep the current behaviour, or align manually (eg 'df1, df2 = df1.align(df2)') before passing to the ufunc to obtain the future behaviour and silence this warning.\n",
            "/usr/local/lib/python3.7/dist-packages/ipykernel_launcher.py:42: FutureWarning: Calling a ufunc on non-aligned DataFrames (or DataFrame/Series combination). Currently, the indices are ignored and the result takes the index/columns of the first DataFrame. In the future , the DataFrames/Series will be aligned before applying the ufunc.\n",
            "Convert one of the arguments to a NumPy array (eg 'ufunc(df1, np.asarray(df2)') to keep the current behaviour, or align manually (eg 'df1, df2 = df1.align(df2)') before passing to the ufunc to obtain the future behaviour and silence this warning.\n",
            "/usr/local/lib/python3.7/dist-packages/ipykernel_launcher.py:43: FutureWarning: Calling a ufunc on non-aligned DataFrames (or DataFrame/Series combination). Currently, the indices are ignored and the result takes the index/columns of the first DataFrame. In the future , the DataFrames/Series will be aligned before applying the ufunc.\n",
            "Convert one of the arguments to a NumPy array (eg 'ufunc(df1, np.asarray(df2)') to keep the current behaviour, or align manually (eg 'df1, df2 = df1.align(df2)') before passing to the ufunc to obtain the future behaviour and silence this warning.\n"
          ]
        }
      ]
    },
    {
      "cell_type": "markdown",
      "source": [
        "## 组合数据"
      ],
      "metadata": {
        "id": "htT7L6KWW4GD"
      }
    },
    {
      "cell_type": "markdown",
      "source": [
        "### 将降雨特征、潮位特征和最大水深组合在一起，形成490条数据样本\n",
        "先将降雨的每一行复制7遍，再用`concat`方法将7组潮位数据首尾相连，即相当于整个复制7遍。\n",
        "\n",
        "然后使用`join`方法连接降雨和潮位，每个重现期的降雨对应7个重现期的潮位。最后再将水深数据加上，得到总的数据集`df_data`。"
      ],
      "metadata": {
        "id": "vEhCoSm9HxTw"
      }
    },
    {
      "cell_type": "code",
      "source": [
        "# 重置索引，将索引换为数字形式，方便后面数据组合\n",
        "rain_feature_df = rain_feature_df.reset_index(drop=True) # 重置索引后将原索引所在的列删除\n",
        "tide_feature_df = tide_feature_df.reset_index(drop=True)\n",
        "\n",
        "# 将降雨数据的每一行复制7遍\n",
        "rain_repeat_df = pd.DataFrame(np.repeat(rain_feature_df.values,tide_feature_df.shape[0],axis=0)) \n",
        "rain_repeat_df.columns = rain_feature_df.columns\n",
        "# 将所有潮位数据整体复制7遍，concat方法是拼接数据\n",
        "tide_concat_df = pd.concat([tide_feature_df, tide_feature_df, tide_feature_df, tide_feature_df, tide_feature_df, tide_feature_df, tide_feature_df]).reset_index(drop=True) \n",
        "\n",
        "# 组合降雨和潮位特征数据\n",
        "df_X = rain_repeat_df.join(tide_concat_df)\n",
        "# 将降雨潮位数据整体复制10遍\n",
        "df_X_concat = pd.DataFrame()\n",
        "for i in range(10):\n",
        "  df_X_concat = pd.concat([df_X_concat, df_X])\n",
        "df_X_concat = df_X_concat.reset_index(drop=True)\n",
        "# 添加输出变量-水深\n",
        "df_data = df_X_concat.join(df_y['depth'])\n",
        "df_data"
      ],
      "metadata": {
        "id": "1vTDD7sC1DCG",
        "colab": {
          "base_uri": "https://localhost:8080/",
          "height": 423
        },
        "outputId": "54b81150-6902-48c2-b48b-26e52b3299a3"
      },
      "execution_count": null,
      "outputs": [
        {
          "output_type": "execute_result",
          "data": {
            "text/plain": [
              "     CumRainfall  RainRP  RainfallPeak  MaxRainfall2h  MaxRainfall3h  \\\n",
              "0     199.101882     5.0     56.394737      86.377019      99.455229   \n",
              "1     199.101882     5.0     56.394737      86.377019      99.455229   \n",
              "2     199.101882     5.0     56.394737      86.377019      99.455229   \n",
              "3     199.101882     5.0     56.394737      86.377019      99.455229   \n",
              "4     199.101882     5.0     56.394737      86.377019      99.455229   \n",
              "..           ...     ...           ...            ...            ...   \n",
              "485   406.171863   100.0    115.046402     176.210865     202.890676   \n",
              "486   406.171863   100.0    115.046402     176.210865     202.890676   \n",
              "487   406.171863   100.0    115.046402     176.210865     202.890676   \n",
              "488   406.171863   100.0    115.046402     176.210865     202.890676   \n",
              "489   406.171863   100.0    115.046402     176.210865     202.890676   \n",
              "\n",
              "     CumRainfallBeforePeak   MaxTide  TideRP  MeanTide  MaxTide5h  depth  \n",
              "0                35.806351  2.898900       5  1.872049   2.579491   0.34  \n",
              "1                35.806351  3.159600      10  2.040403   2.811467   0.39  \n",
              "2                35.806351  3.400900      20  2.196230   3.026179   0.43  \n",
              "3                35.806351  3.585497      35  2.315439   3.190437   0.48  \n",
              "4                35.806351  3.701200      50  2.390157   3.293392   0.53  \n",
              "..                     ...       ...     ...       ...        ...    ...  \n",
              "485              73.045680  3.400900      20  2.196230   3.026179   0.66  \n",
              "486              73.045680  3.585497      35  2.315439   3.190437   0.76  \n",
              "487              73.045680  3.701200      50  2.390157   3.293392   0.83  \n",
              "488              73.045680  3.827370      75  2.471635   3.405660   0.90  \n",
              "489              73.045680  3.917500     100  2.529839   3.485859   0.96  \n",
              "\n",
              "[490 rows x 11 columns]"
            ],
            "text/html": [
              "\n",
              "  <div id=\"df-9fa0fac8-f8d9-4e48-ac8d-a37a1b073041\">\n",
              "    <div class=\"colab-df-container\">\n",
              "      <div>\n",
              "<style scoped>\n",
              "    .dataframe tbody tr th:only-of-type {\n",
              "        vertical-align: middle;\n",
              "    }\n",
              "\n",
              "    .dataframe tbody tr th {\n",
              "        vertical-align: top;\n",
              "    }\n",
              "\n",
              "    .dataframe thead th {\n",
              "        text-align: right;\n",
              "    }\n",
              "</style>\n",
              "<table border=\"1\" class=\"dataframe\">\n",
              "  <thead>\n",
              "    <tr style=\"text-align: right;\">\n",
              "      <th></th>\n",
              "      <th>CumRainfall</th>\n",
              "      <th>RainRP</th>\n",
              "      <th>RainfallPeak</th>\n",
              "      <th>MaxRainfall2h</th>\n",
              "      <th>MaxRainfall3h</th>\n",
              "      <th>CumRainfallBeforePeak</th>\n",
              "      <th>MaxTide</th>\n",
              "      <th>TideRP</th>\n",
              "      <th>MeanTide</th>\n",
              "      <th>MaxTide5h</th>\n",
              "      <th>depth</th>\n",
              "    </tr>\n",
              "  </thead>\n",
              "  <tbody>\n",
              "    <tr>\n",
              "      <th>0</th>\n",
              "      <td>199.101882</td>\n",
              "      <td>5.0</td>\n",
              "      <td>56.394737</td>\n",
              "      <td>86.377019</td>\n",
              "      <td>99.455229</td>\n",
              "      <td>35.806351</td>\n",
              "      <td>2.898900</td>\n",
              "      <td>5</td>\n",
              "      <td>1.872049</td>\n",
              "      <td>2.579491</td>\n",
              "      <td>0.34</td>\n",
              "    </tr>\n",
              "    <tr>\n",
              "      <th>1</th>\n",
              "      <td>199.101882</td>\n",
              "      <td>5.0</td>\n",
              "      <td>56.394737</td>\n",
              "      <td>86.377019</td>\n",
              "      <td>99.455229</td>\n",
              "      <td>35.806351</td>\n",
              "      <td>3.159600</td>\n",
              "      <td>10</td>\n",
              "      <td>2.040403</td>\n",
              "      <td>2.811467</td>\n",
              "      <td>0.39</td>\n",
              "    </tr>\n",
              "    <tr>\n",
              "      <th>2</th>\n",
              "      <td>199.101882</td>\n",
              "      <td>5.0</td>\n",
              "      <td>56.394737</td>\n",
              "      <td>86.377019</td>\n",
              "      <td>99.455229</td>\n",
              "      <td>35.806351</td>\n",
              "      <td>3.400900</td>\n",
              "      <td>20</td>\n",
              "      <td>2.196230</td>\n",
              "      <td>3.026179</td>\n",
              "      <td>0.43</td>\n",
              "    </tr>\n",
              "    <tr>\n",
              "      <th>3</th>\n",
              "      <td>199.101882</td>\n",
              "      <td>5.0</td>\n",
              "      <td>56.394737</td>\n",
              "      <td>86.377019</td>\n",
              "      <td>99.455229</td>\n",
              "      <td>35.806351</td>\n",
              "      <td>3.585497</td>\n",
              "      <td>35</td>\n",
              "      <td>2.315439</td>\n",
              "      <td>3.190437</td>\n",
              "      <td>0.48</td>\n",
              "    </tr>\n",
              "    <tr>\n",
              "      <th>4</th>\n",
              "      <td>199.101882</td>\n",
              "      <td>5.0</td>\n",
              "      <td>56.394737</td>\n",
              "      <td>86.377019</td>\n",
              "      <td>99.455229</td>\n",
              "      <td>35.806351</td>\n",
              "      <td>3.701200</td>\n",
              "      <td>50</td>\n",
              "      <td>2.390157</td>\n",
              "      <td>3.293392</td>\n",
              "      <td>0.53</td>\n",
              "    </tr>\n",
              "    <tr>\n",
              "      <th>...</th>\n",
              "      <td>...</td>\n",
              "      <td>...</td>\n",
              "      <td>...</td>\n",
              "      <td>...</td>\n",
              "      <td>...</td>\n",
              "      <td>...</td>\n",
              "      <td>...</td>\n",
              "      <td>...</td>\n",
              "      <td>...</td>\n",
              "      <td>...</td>\n",
              "      <td>...</td>\n",
              "    </tr>\n",
              "    <tr>\n",
              "      <th>485</th>\n",
              "      <td>406.171863</td>\n",
              "      <td>100.0</td>\n",
              "      <td>115.046402</td>\n",
              "      <td>176.210865</td>\n",
              "      <td>202.890676</td>\n",
              "      <td>73.045680</td>\n",
              "      <td>3.400900</td>\n",
              "      <td>20</td>\n",
              "      <td>2.196230</td>\n",
              "      <td>3.026179</td>\n",
              "      <td>0.66</td>\n",
              "    </tr>\n",
              "    <tr>\n",
              "      <th>486</th>\n",
              "      <td>406.171863</td>\n",
              "      <td>100.0</td>\n",
              "      <td>115.046402</td>\n",
              "      <td>176.210865</td>\n",
              "      <td>202.890676</td>\n",
              "      <td>73.045680</td>\n",
              "      <td>3.585497</td>\n",
              "      <td>35</td>\n",
              "      <td>2.315439</td>\n",
              "      <td>3.190437</td>\n",
              "      <td>0.76</td>\n",
              "    </tr>\n",
              "    <tr>\n",
              "      <th>487</th>\n",
              "      <td>406.171863</td>\n",
              "      <td>100.0</td>\n",
              "      <td>115.046402</td>\n",
              "      <td>176.210865</td>\n",
              "      <td>202.890676</td>\n",
              "      <td>73.045680</td>\n",
              "      <td>3.701200</td>\n",
              "      <td>50</td>\n",
              "      <td>2.390157</td>\n",
              "      <td>3.293392</td>\n",
              "      <td>0.83</td>\n",
              "    </tr>\n",
              "    <tr>\n",
              "      <th>488</th>\n",
              "      <td>406.171863</td>\n",
              "      <td>100.0</td>\n",
              "      <td>115.046402</td>\n",
              "      <td>176.210865</td>\n",
              "      <td>202.890676</td>\n",
              "      <td>73.045680</td>\n",
              "      <td>3.827370</td>\n",
              "      <td>75</td>\n",
              "      <td>2.471635</td>\n",
              "      <td>3.405660</td>\n",
              "      <td>0.90</td>\n",
              "    </tr>\n",
              "    <tr>\n",
              "      <th>489</th>\n",
              "      <td>406.171863</td>\n",
              "      <td>100.0</td>\n",
              "      <td>115.046402</td>\n",
              "      <td>176.210865</td>\n",
              "      <td>202.890676</td>\n",
              "      <td>73.045680</td>\n",
              "      <td>3.917500</td>\n",
              "      <td>100</td>\n",
              "      <td>2.529839</td>\n",
              "      <td>3.485859</td>\n",
              "      <td>0.96</td>\n",
              "    </tr>\n",
              "  </tbody>\n",
              "</table>\n",
              "<p>490 rows × 11 columns</p>\n",
              "</div>\n",
              "      <button class=\"colab-df-convert\" onclick=\"convertToInteractive('df-9fa0fac8-f8d9-4e48-ac8d-a37a1b073041')\"\n",
              "              title=\"Convert this dataframe to an interactive table.\"\n",
              "              style=\"display:none;\">\n",
              "        \n",
              "  <svg xmlns=\"http://www.w3.org/2000/svg\" height=\"24px\"viewBox=\"0 0 24 24\"\n",
              "       width=\"24px\">\n",
              "    <path d=\"M0 0h24v24H0V0z\" fill=\"none\"/>\n",
              "    <path d=\"M18.56 5.44l.94 2.06.94-2.06 2.06-.94-2.06-.94-.94-2.06-.94 2.06-2.06.94zm-11 1L8.5 8.5l.94-2.06 2.06-.94-2.06-.94L8.5 2.5l-.94 2.06-2.06.94zm10 10l.94 2.06.94-2.06 2.06-.94-2.06-.94-.94-2.06-.94 2.06-2.06.94z\"/><path d=\"M17.41 7.96l-1.37-1.37c-.4-.4-.92-.59-1.43-.59-.52 0-1.04.2-1.43.59L10.3 9.45l-7.72 7.72c-.78.78-.78 2.05 0 2.83L4 21.41c.39.39.9.59 1.41.59.51 0 1.02-.2 1.41-.59l7.78-7.78 2.81-2.81c.8-.78.8-2.07 0-2.86zM5.41 20L4 18.59l7.72-7.72 1.47 1.35L5.41 20z\"/>\n",
              "  </svg>\n",
              "      </button>\n",
              "      \n",
              "  <style>\n",
              "    .colab-df-container {\n",
              "      display:flex;\n",
              "      flex-wrap:wrap;\n",
              "      gap: 12px;\n",
              "    }\n",
              "\n",
              "    .colab-df-convert {\n",
              "      background-color: #E8F0FE;\n",
              "      border: none;\n",
              "      border-radius: 50%;\n",
              "      cursor: pointer;\n",
              "      display: none;\n",
              "      fill: #1967D2;\n",
              "      height: 32px;\n",
              "      padding: 0 0 0 0;\n",
              "      width: 32px;\n",
              "    }\n",
              "\n",
              "    .colab-df-convert:hover {\n",
              "      background-color: #E2EBFA;\n",
              "      box-shadow: 0px 1px 2px rgba(60, 64, 67, 0.3), 0px 1px 3px 1px rgba(60, 64, 67, 0.15);\n",
              "      fill: #174EA6;\n",
              "    }\n",
              "\n",
              "    [theme=dark] .colab-df-convert {\n",
              "      background-color: #3B4455;\n",
              "      fill: #D2E3FC;\n",
              "    }\n",
              "\n",
              "    [theme=dark] .colab-df-convert:hover {\n",
              "      background-color: #434B5C;\n",
              "      box-shadow: 0px 1px 3px 1px rgba(0, 0, 0, 0.15);\n",
              "      filter: drop-shadow(0px 1px 2px rgba(0, 0, 0, 0.3));\n",
              "      fill: #FFFFFF;\n",
              "    }\n",
              "  </style>\n",
              "\n",
              "      <script>\n",
              "        const buttonEl =\n",
              "          document.querySelector('#df-9fa0fac8-f8d9-4e48-ac8d-a37a1b073041 button.colab-df-convert');\n",
              "        buttonEl.style.display =\n",
              "          google.colab.kernel.accessAllowed ? 'block' : 'none';\n",
              "\n",
              "        async function convertToInteractive(key) {\n",
              "          const element = document.querySelector('#df-9fa0fac8-f8d9-4e48-ac8d-a37a1b073041');\n",
              "          const dataTable =\n",
              "            await google.colab.kernel.invokeFunction('convertToInteractive',\n",
              "                                                     [key], {});\n",
              "          if (!dataTable) return;\n",
              "\n",
              "          const docLinkHtml = 'Like what you see? Visit the ' +\n",
              "            '<a target=\"_blank\" href=https://colab.research.google.com/notebooks/data_table.ipynb>data table notebook</a>'\n",
              "            + ' to learn more about interactive tables.';\n",
              "          element.innerHTML = '';\n",
              "          dataTable['output_type'] = 'display_data';\n",
              "          await google.colab.output.renderOutput(dataTable, element);\n",
              "          const docLink = document.createElement('div');\n",
              "          docLink.innerHTML = docLinkHtml;\n",
              "          element.appendChild(docLink);\n",
              "        }\n",
              "      </script>\n",
              "    </div>\n",
              "  </div>\n",
              "  "
            ]
          },
          "metadata": {},
          "execution_count": 4
        }
      ]
    },
    {
      "cell_type": "markdown",
      "source": [
        "### 数据归一化"
      ],
      "metadata": {
        "id": "tVZDR5vzWtKb"
      }
    },
    {
      "cell_type": "code",
      "source": [
        "# 归一化：z-score\n",
        "df_data_mean = df_data.mean()\n",
        "df_data_std = df_data.std()\n",
        "df_data_norm = (df_data - df_data.mean()) / df_data.std()\n",
        "\n",
        "# 添加淹没点数据列，形成最终数据集\n",
        "df_data_norm.insert(df_data_norm.shape[1]-1,df_y.columns[2],df_y.values[:,2])\n",
        "df_data_norm"
      ],
      "metadata": {
        "id": "vKy4QfHkx4c8",
        "colab": {
          "base_uri": "https://localhost:8080/",
          "height": 343
        },
        "outputId": "470961c6-4147-4563-9488-b0ff4892ad83"
      },
      "execution_count": null,
      "outputs": [
        {
          "output_type": "execute_result",
          "data": {
            "text/plain": [
              "     CumRainfall    RainRP  RainfallPeak  MaxRainfall2h  MaxRainfall3h  \\\n",
              "0      -1.650700 -1.137918     -1.650700      -1.650700      -1.650700   \n",
              "1      -1.650700 -1.137918     -1.650700      -1.650700      -1.650700   \n",
              "2      -1.650700 -1.137918     -1.650700      -1.650700      -1.650700   \n",
              "3      -1.650700 -1.137918     -1.650700      -1.650700      -1.650700   \n",
              "4      -1.650700 -1.137918     -1.650700      -1.650700      -1.650700   \n",
              "..           ...       ...           ...            ...            ...   \n",
              "485     1.317914  1.772526      1.317914       1.317914       1.317914   \n",
              "486     1.317914  1.772526      1.317914       1.317914       1.317914   \n",
              "487     1.317914  1.772526      1.317914       1.317914       1.317914   \n",
              "488     1.317914  1.772526      1.317914       1.317914       1.317914   \n",
              "489     1.317914  1.772526      1.317914       1.317914       1.317914   \n",
              "\n",
              "     CumRainfallBeforePeak   MaxTide    TideRP  MeanTide  MaxTide5h  Point  \\\n",
              "0                -1.650700 -1.754695 -1.137918 -1.754695  -1.754695    0.0   \n",
              "1                -1.650700 -0.992038 -0.984737 -0.992038  -0.992038    0.0   \n",
              "2                -1.650700 -0.286134 -0.678374 -0.286134  -0.286134    0.0   \n",
              "3                -1.650700  0.253890 -0.218830  0.253890   0.253890    0.0   \n",
              "4                -1.650700  0.592369  0.240713  0.592369   0.592369    0.0   \n",
              "..                     ...       ...       ...       ...        ...    ...   \n",
              "485               1.317914 -0.286134 -0.678374 -0.286134  -0.286134    9.0   \n",
              "486               1.317914  0.253890 -0.218830  0.253890   0.253890    9.0   \n",
              "487               1.317914  0.592369  0.240713  0.592369   0.592369    9.0   \n",
              "488               1.317914  0.961471  1.006620  0.961471   0.961471    9.0   \n",
              "489               1.317914  1.225137  1.772526  1.225137   1.225137    9.0   \n",
              "\n",
              "        depth  \n",
              "0   -1.529307  \n",
              "1   -1.328879  \n",
              "2   -1.168537  \n",
              "3   -0.968109  \n",
              "4   -0.767681  \n",
              "..        ...  \n",
              "485 -0.246567  \n",
              "486  0.154289  \n",
              "487  0.434888  \n",
              "488  0.715487  \n",
              "489  0.956001  \n",
              "\n",
              "[490 rows x 12 columns]"
            ],
            "text/html": [
              "\n",
              "  <div id=\"df-cb0805d7-d34d-4ec7-9828-1e6279c4be18\">\n",
              "    <div class=\"colab-df-container\">\n",
              "      <div>\n",
              "<style scoped>\n",
              "    .dataframe tbody tr th:only-of-type {\n",
              "        vertical-align: middle;\n",
              "    }\n",
              "\n",
              "    .dataframe tbody tr th {\n",
              "        vertical-align: top;\n",
              "    }\n",
              "\n",
              "    .dataframe thead th {\n",
              "        text-align: right;\n",
              "    }\n",
              "</style>\n",
              "<table border=\"1\" class=\"dataframe\">\n",
              "  <thead>\n",
              "    <tr style=\"text-align: right;\">\n",
              "      <th></th>\n",
              "      <th>CumRainfall</th>\n",
              "      <th>RainRP</th>\n",
              "      <th>RainfallPeak</th>\n",
              "      <th>MaxRainfall2h</th>\n",
              "      <th>MaxRainfall3h</th>\n",
              "      <th>CumRainfallBeforePeak</th>\n",
              "      <th>MaxTide</th>\n",
              "      <th>TideRP</th>\n",
              "      <th>MeanTide</th>\n",
              "      <th>MaxTide5h</th>\n",
              "      <th>Point</th>\n",
              "      <th>depth</th>\n",
              "    </tr>\n",
              "  </thead>\n",
              "  <tbody>\n",
              "    <tr>\n",
              "      <th>0</th>\n",
              "      <td>-1.650700</td>\n",
              "      <td>-1.137918</td>\n",
              "      <td>-1.650700</td>\n",
              "      <td>-1.650700</td>\n",
              "      <td>-1.650700</td>\n",
              "      <td>-1.650700</td>\n",
              "      <td>-1.754695</td>\n",
              "      <td>-1.137918</td>\n",
              "      <td>-1.754695</td>\n",
              "      <td>-1.754695</td>\n",
              "      <td>0.0</td>\n",
              "      <td>-1.529307</td>\n",
              "    </tr>\n",
              "    <tr>\n",
              "      <th>1</th>\n",
              "      <td>-1.650700</td>\n",
              "      <td>-1.137918</td>\n",
              "      <td>-1.650700</td>\n",
              "      <td>-1.650700</td>\n",
              "      <td>-1.650700</td>\n",
              "      <td>-1.650700</td>\n",
              "      <td>-0.992038</td>\n",
              "      <td>-0.984737</td>\n",
              "      <td>-0.992038</td>\n",
              "      <td>-0.992038</td>\n",
              "      <td>0.0</td>\n",
              "      <td>-1.328879</td>\n",
              "    </tr>\n",
              "    <tr>\n",
              "      <th>2</th>\n",
              "      <td>-1.650700</td>\n",
              "      <td>-1.137918</td>\n",
              "      <td>-1.650700</td>\n",
              "      <td>-1.650700</td>\n",
              "      <td>-1.650700</td>\n",
              "      <td>-1.650700</td>\n",
              "      <td>-0.286134</td>\n",
              "      <td>-0.678374</td>\n",
              "      <td>-0.286134</td>\n",
              "      <td>-0.286134</td>\n",
              "      <td>0.0</td>\n",
              "      <td>-1.168537</td>\n",
              "    </tr>\n",
              "    <tr>\n",
              "      <th>3</th>\n",
              "      <td>-1.650700</td>\n",
              "      <td>-1.137918</td>\n",
              "      <td>-1.650700</td>\n",
              "      <td>-1.650700</td>\n",
              "      <td>-1.650700</td>\n",
              "      <td>-1.650700</td>\n",
              "      <td>0.253890</td>\n",
              "      <td>-0.218830</td>\n",
              "      <td>0.253890</td>\n",
              "      <td>0.253890</td>\n",
              "      <td>0.0</td>\n",
              "      <td>-0.968109</td>\n",
              "    </tr>\n",
              "    <tr>\n",
              "      <th>4</th>\n",
              "      <td>-1.650700</td>\n",
              "      <td>-1.137918</td>\n",
              "      <td>-1.650700</td>\n",
              "      <td>-1.650700</td>\n",
              "      <td>-1.650700</td>\n",
              "      <td>-1.650700</td>\n",
              "      <td>0.592369</td>\n",
              "      <td>0.240713</td>\n",
              "      <td>0.592369</td>\n",
              "      <td>0.592369</td>\n",
              "      <td>0.0</td>\n",
              "      <td>-0.767681</td>\n",
              "    </tr>\n",
              "    <tr>\n",
              "      <th>...</th>\n",
              "      <td>...</td>\n",
              "      <td>...</td>\n",
              "      <td>...</td>\n",
              "      <td>...</td>\n",
              "      <td>...</td>\n",
              "      <td>...</td>\n",
              "      <td>...</td>\n",
              "      <td>...</td>\n",
              "      <td>...</td>\n",
              "      <td>...</td>\n",
              "      <td>...</td>\n",
              "      <td>...</td>\n",
              "    </tr>\n",
              "    <tr>\n",
              "      <th>485</th>\n",
              "      <td>1.317914</td>\n",
              "      <td>1.772526</td>\n",
              "      <td>1.317914</td>\n",
              "      <td>1.317914</td>\n",
              "      <td>1.317914</td>\n",
              "      <td>1.317914</td>\n",
              "      <td>-0.286134</td>\n",
              "      <td>-0.678374</td>\n",
              "      <td>-0.286134</td>\n",
              "      <td>-0.286134</td>\n",
              "      <td>9.0</td>\n",
              "      <td>-0.246567</td>\n",
              "    </tr>\n",
              "    <tr>\n",
              "      <th>486</th>\n",
              "      <td>1.317914</td>\n",
              "      <td>1.772526</td>\n",
              "      <td>1.317914</td>\n",
              "      <td>1.317914</td>\n",
              "      <td>1.317914</td>\n",
              "      <td>1.317914</td>\n",
              "      <td>0.253890</td>\n",
              "      <td>-0.218830</td>\n",
              "      <td>0.253890</td>\n",
              "      <td>0.253890</td>\n",
              "      <td>9.0</td>\n",
              "      <td>0.154289</td>\n",
              "    </tr>\n",
              "    <tr>\n",
              "      <th>487</th>\n",
              "      <td>1.317914</td>\n",
              "      <td>1.772526</td>\n",
              "      <td>1.317914</td>\n",
              "      <td>1.317914</td>\n",
              "      <td>1.317914</td>\n",
              "      <td>1.317914</td>\n",
              "      <td>0.592369</td>\n",
              "      <td>0.240713</td>\n",
              "      <td>0.592369</td>\n",
              "      <td>0.592369</td>\n",
              "      <td>9.0</td>\n",
              "      <td>0.434888</td>\n",
              "    </tr>\n",
              "    <tr>\n",
              "      <th>488</th>\n",
              "      <td>1.317914</td>\n",
              "      <td>1.772526</td>\n",
              "      <td>1.317914</td>\n",
              "      <td>1.317914</td>\n",
              "      <td>1.317914</td>\n",
              "      <td>1.317914</td>\n",
              "      <td>0.961471</td>\n",
              "      <td>1.006620</td>\n",
              "      <td>0.961471</td>\n",
              "      <td>0.961471</td>\n",
              "      <td>9.0</td>\n",
              "      <td>0.715487</td>\n",
              "    </tr>\n",
              "    <tr>\n",
              "      <th>489</th>\n",
              "      <td>1.317914</td>\n",
              "      <td>1.772526</td>\n",
              "      <td>1.317914</td>\n",
              "      <td>1.317914</td>\n",
              "      <td>1.317914</td>\n",
              "      <td>1.317914</td>\n",
              "      <td>1.225137</td>\n",
              "      <td>1.772526</td>\n",
              "      <td>1.225137</td>\n",
              "      <td>1.225137</td>\n",
              "      <td>9.0</td>\n",
              "      <td>0.956001</td>\n",
              "    </tr>\n",
              "  </tbody>\n",
              "</table>\n",
              "<p>490 rows × 12 columns</p>\n",
              "</div>\n",
              "      <button class=\"colab-df-convert\" onclick=\"convertToInteractive('df-cb0805d7-d34d-4ec7-9828-1e6279c4be18')\"\n",
              "              title=\"Convert this dataframe to an interactive table.\"\n",
              "              style=\"display:none;\">\n",
              "        \n",
              "  <svg xmlns=\"http://www.w3.org/2000/svg\" height=\"24px\"viewBox=\"0 0 24 24\"\n",
              "       width=\"24px\">\n",
              "    <path d=\"M0 0h24v24H0V0z\" fill=\"none\"/>\n",
              "    <path d=\"M18.56 5.44l.94 2.06.94-2.06 2.06-.94-2.06-.94-.94-2.06-.94 2.06-2.06.94zm-11 1L8.5 8.5l.94-2.06 2.06-.94-2.06-.94L8.5 2.5l-.94 2.06-2.06.94zm10 10l.94 2.06.94-2.06 2.06-.94-2.06-.94-.94-2.06-.94 2.06-2.06.94z\"/><path d=\"M17.41 7.96l-1.37-1.37c-.4-.4-.92-.59-1.43-.59-.52 0-1.04.2-1.43.59L10.3 9.45l-7.72 7.72c-.78.78-.78 2.05 0 2.83L4 21.41c.39.39.9.59 1.41.59.51 0 1.02-.2 1.41-.59l7.78-7.78 2.81-2.81c.8-.78.8-2.07 0-2.86zM5.41 20L4 18.59l7.72-7.72 1.47 1.35L5.41 20z\"/>\n",
              "  </svg>\n",
              "      </button>\n",
              "      \n",
              "  <style>\n",
              "    .colab-df-container {\n",
              "      display:flex;\n",
              "      flex-wrap:wrap;\n",
              "      gap: 12px;\n",
              "    }\n",
              "\n",
              "    .colab-df-convert {\n",
              "      background-color: #E8F0FE;\n",
              "      border: none;\n",
              "      border-radius: 50%;\n",
              "      cursor: pointer;\n",
              "      display: none;\n",
              "      fill: #1967D2;\n",
              "      height: 32px;\n",
              "      padding: 0 0 0 0;\n",
              "      width: 32px;\n",
              "    }\n",
              "\n",
              "    .colab-df-convert:hover {\n",
              "      background-color: #E2EBFA;\n",
              "      box-shadow: 0px 1px 2px rgba(60, 64, 67, 0.3), 0px 1px 3px 1px rgba(60, 64, 67, 0.15);\n",
              "      fill: #174EA6;\n",
              "    }\n",
              "\n",
              "    [theme=dark] .colab-df-convert {\n",
              "      background-color: #3B4455;\n",
              "      fill: #D2E3FC;\n",
              "    }\n",
              "\n",
              "    [theme=dark] .colab-df-convert:hover {\n",
              "      background-color: #434B5C;\n",
              "      box-shadow: 0px 1px 3px 1px rgba(0, 0, 0, 0.15);\n",
              "      filter: drop-shadow(0px 1px 2px rgba(0, 0, 0, 0.3));\n",
              "      fill: #FFFFFF;\n",
              "    }\n",
              "  </style>\n",
              "\n",
              "      <script>\n",
              "        const buttonEl =\n",
              "          document.querySelector('#df-cb0805d7-d34d-4ec7-9828-1e6279c4be18 button.colab-df-convert');\n",
              "        buttonEl.style.display =\n",
              "          google.colab.kernel.accessAllowed ? 'block' : 'none';\n",
              "\n",
              "        async function convertToInteractive(key) {\n",
              "          const element = document.querySelector('#df-cb0805d7-d34d-4ec7-9828-1e6279c4be18');\n",
              "          const dataTable =\n",
              "            await google.colab.kernel.invokeFunction('convertToInteractive',\n",
              "                                                     [key], {});\n",
              "          if (!dataTable) return;\n",
              "\n",
              "          const docLinkHtml = 'Like what you see? Visit the ' +\n",
              "            '<a target=\"_blank\" href=https://colab.research.google.com/notebooks/data_table.ipynb>data table notebook</a>'\n",
              "            + ' to learn more about interactive tables.';\n",
              "          element.innerHTML = '';\n",
              "          dataTable['output_type'] = 'display_data';\n",
              "          await google.colab.output.renderOutput(dataTable, element);\n",
              "          const docLink = document.createElement('div');\n",
              "          docLink.innerHTML = docLinkHtml;\n",
              "          element.appendChild(docLink);\n",
              "        }\n",
              "      </script>\n",
              "    </div>\n",
              "  </div>\n",
              "  "
            ]
          },
          "metadata": {},
          "execution_count": 5
        }
      ]
    },
    {
      "cell_type": "markdown",
      "source": [
        "### 数据增强，并打乱数据"
      ],
      "metadata": {
        "id": "h4spkJdRW0v6"
      }
    },
    {
      "cell_type": "code",
      "source": [
        "# 选择34场工况作为训练集，10场作为验证集，5场作为测试集，选取的测试工况为5，20，35，75，100\n",
        "\n",
        "test_df = pd.read_csv('/content/test.csv') # 50组测试集数据\n",
        "\n",
        "train_df = df_data_norm.drop(index=test_df.idx,axis='row')\n",
        "train_df = train_df.reset_index(drop='True')\n",
        "test_df = test_df.drop(columns='idx',axis='column')"
      ],
      "metadata": {
        "id": "zS-oLpM7xiIY"
      },
      "execution_count": null,
      "outputs": []
    },
    {
      "cell_type": "code",
      "source": [
        "# 打乱数据\n",
        "train_valid = train_df.reindex(np.random.permutation(train_df.index))\n",
        "test_df = test_df.reindex(np.random.permutation(test_df.index))\n",
        "\n",
        "train_valid = train_valid.reset_index(drop=True)\n",
        "test_df = test_df.reset_index(drop=True)"
      ],
      "metadata": {
        "id": "campnUM40jM7"
      },
      "execution_count": null,
      "outputs": []
    },
    {
      "cell_type": "code",
      "source": [
        "'''\n",
        "# 打乱数据\n",
        "df_all_data = df_data_norm.reindex(np.random.permutation(df_data_norm.index))\n",
        "df_all_data = df_all_data.reset_index(drop=True)\n",
        "'''\n",
        "\n",
        "# 将Point列设为类别特征，训练LightGBM时不用one-hot编码\n",
        "train_valid['Point'].astype('category')\n",
        "test_df['Point'].astype('category')"
      ],
      "metadata": {
        "id": "63KD2UNWzVgn"
      },
      "execution_count": null,
      "outputs": []
    },
    {
      "cell_type": "markdown",
      "source": [
        "### 划分训练集、验证集和测试集"
      ],
      "metadata": {
        "id": "ck8sRu4YXSVj"
      }
    },
    {
      "cell_type": "code",
      "source": [
        "# 创建训练集、验证集和测试集\n",
        "# 342组训练集数据，98组验证集数据，50组测试集数据\n",
        "val_split = round(0.2 * df_data_norm.shape[0]) \n",
        "\n",
        "\n",
        "y_test = test_df.depth\n",
        "y_val = train_valid.depth[0:val_split]\n",
        "y_train = train_valid.depth[val_split:]\n",
        "\n",
        "X_test = test_df.drop(['depth'], axis=1)\n",
        "X_val = train_valid[0:val_split].drop(['depth'], axis=1)\n",
        "X_train = train_valid[val_split:].drop(['depth'], axis=1)"
      ],
      "metadata": {
        "id": "NGwtnBe53PAG"
      },
      "execution_count": null,
      "outputs": []
    },
    {
      "cell_type": "markdown",
      "source": [
        "## 构建LightGBM模型进行训练"
      ],
      "metadata": {
        "id": "FlcZDB9y5-qR"
      }
    },
    {
      "cell_type": "code",
      "source": [
        "evals_result = {} # 为绘图记录评估结果\n",
        "gbm = lgb.LGBMRegressor(learning_rate=0.04,\n",
        "                        n_estimators=500,\n",
        "                        n_jobs=4)\n",
        "gbm.fit(X_train,y_train,\n",
        "        categorical_feature=['Point'], # 指定分类特征\n",
        "        eval_set=[(X_val,y_val)],\n",
        "        eval_metric=['rmse','l1'],\n",
        "        callbacks=[lgb.early_stopping(5), lgb.record_evaluation(evals_result)],\n",
        "        verbose=False)"
      ],
      "metadata": {
        "id": "4MfyBf8x1vF7",
        "colab": {
          "base_uri": "https://localhost:8080/"
        },
        "outputId": "4c0d9b2b-2a60-4088-cdef-01cb6ec0f3a8"
      },
      "execution_count": null,
      "outputs": [
        {
          "output_type": "stream",
          "name": "stderr",
          "text": [
            "/usr/local/lib/python3.7/dist-packages/lightgbm/basic.py:1209: UserWarning: categorical_feature in Dataset is overridden.\n",
            "New categorical_feature is ['Point']\n",
            "  'New categorical_feature is {}'.format(sorted(list(categorical_feature))))\n"
          ]
        },
        {
          "output_type": "stream",
          "name": "stdout",
          "text": [
            "Training until validation scores don't improve for 5 rounds.\n",
            "Early stopping, best iteration is:\n",
            "[457]\tvalid_0's rmse: 0.108744\tvalid_0's l1: 0.071311\tvalid_0's l2: 0.0118252\n"
          ]
        },
        {
          "output_type": "execute_result",
          "data": {
            "text/plain": [
              "LGBMRegressor(learning_rate=0.04, n_estimators=500, n_jobs=4)"
            ]
          },
          "metadata": {},
          "execution_count": 92
        }
      ]
    },
    {
      "cell_type": "markdown",
      "source": [
        "## 对分类特征应用 one-hot 编码"
      ],
      "metadata": {
        "id": "YUINEXcszmwv"
      }
    },
    {
      "cell_type": "code",
      "source": [
        "# 对分类特征进行one-hot编码，供后续模型使用\n",
        "# 分类特征\n",
        "object_cols = ['Point']\n",
        "OH_encoder = OneHotEncoder(handle_unknown='ignore', sparse=False)\n",
        "OH_cols_train = pd.DataFrame(OH_encoder.fit_transform(X_train[object_cols]))\n",
        "OH_cols_valid = pd.DataFrame(OH_encoder.fit_transform(X_val[object_cols]))\n",
        "OH_cols_test = pd.DataFrame(OH_encoder.fit_transform(X_test[object_cols]))\n",
        "\n",
        "# One-hot编码删掉了索引，需要加回来\n",
        "OH_cols_train.index = X_train.index\n",
        "OH_cols_valid.index = X_val.index\n",
        "OH_cols_test.index = X_test.index\n",
        "\n",
        "# 删除分类列（将取代为one-hot编码）\n",
        "num_X_train = X_train.drop(object_cols, axis=1)\n",
        "num_X_valid = X_val.drop(object_cols, axis=1)\n",
        "num_X_test = X_test.drop(object_cols, axis=1)\n",
        "\n",
        "# 将one-hot编码后的列加到数值特征中\n",
        "OH_X_train = pd.concat([num_X_train, OH_cols_train], axis=1)\n",
        "OH_X_valid = pd.concat([num_X_valid, OH_cols_valid], axis=1)\n",
        "OH_X_test = pd.concat([num_X_test, OH_cols_test], axis=1)\n"
      ],
      "metadata": {
        "id": "KHe77kjJxc5_"
      },
      "execution_count": null,
      "outputs": []
    },
    {
      "cell_type": "markdown",
      "source": [
        "## 构建RF模型\n"
      ],
      "metadata": {
        "id": "Hfp32PsoTx-O"
      }
    },
    {
      "cell_type": "code",
      "source": [
        "forest_model = RandomForestRegressor(random_state=1)\n",
        "forest_model.fit(OH_X_train,y_train)"
      ],
      "metadata": {
        "colab": {
          "base_uri": "https://localhost:8080/"
        },
        "id": "iWhF0GlLT2gT",
        "outputId": "de81e915-c98f-471a-ed23-e96100cda58d"
      },
      "execution_count": null,
      "outputs": [
        {
          "output_type": "stream",
          "name": "stderr",
          "text": [
            "/usr/local/lib/python3.7/dist-packages/sklearn/utils/validation.py:1692: FutureWarning: Feature names only support names that are all strings. Got feature names with dtypes: ['int', 'str']. An error will be raised in 1.2.\n",
            "  FutureWarning,\n"
          ]
        },
        {
          "output_type": "execute_result",
          "data": {
            "text/plain": [
              "RandomForestRegressor(random_state=1)"
            ]
          },
          "metadata": {},
          "execution_count": 35
        }
      ]
    },
    {
      "cell_type": "markdown",
      "source": [
        "## 构建XGBoost模型"
      ],
      "metadata": {
        "id": "jBAaOCWoxDVZ"
      }
    },
    {
      "cell_type": "code",
      "source": [
        "xgb_model = XGBRegressor(learning_rate=0.03, n_estimators=300, n_jobs=4)\n",
        "xgb_model.fit(OH_X_train,y_train,\n",
        "              early_stopping_rounds=5,\n",
        "              eval_set=[(OH_X_valid,y_val)],\n",
        "              verbose=False)"
      ],
      "metadata": {
        "id": "J4jwBwrSxGmr",
        "colab": {
          "base_uri": "https://localhost:8080/"
        },
        "outputId": "c5f6f519-40b0-40d9-8e1b-f3b9cac092ce"
      },
      "execution_count": null,
      "outputs": [
        {
          "output_type": "stream",
          "name": "stdout",
          "text": [
            "[08:05:04] WARNING: /workspace/src/objective/regression_obj.cu:152: reg:linear is now deprecated in favor of reg:squarederror.\n"
          ]
        },
        {
          "output_type": "execute_result",
          "data": {
            "text/plain": [
              "XGBRegressor(learning_rate=0.03, n_estimators=300, n_jobs=4)"
            ]
          },
          "metadata": {},
          "execution_count": 37
        }
      ]
    },
    {
      "cell_type": "markdown",
      "source": [
        "# 构建SVR模型"
      ],
      "metadata": {
        "id": "WLOqpUk73sm1"
      }
    },
    {
      "cell_type": "code",
      "source": [
        "SVR_model = SVR()\n",
        "SVR_model.fit(OH_X_train, y_train)"
      ],
      "metadata": {
        "colab": {
          "base_uri": "https://localhost:8080/"
        },
        "id": "m_4rlRzx3u5o",
        "outputId": "f7817e14-f545-424c-faad-298efb9d175d"
      },
      "execution_count": null,
      "outputs": [
        {
          "output_type": "stream",
          "name": "stderr",
          "text": [
            "/usr/local/lib/python3.7/dist-packages/sklearn/utils/validation.py:1692: FutureWarning: Feature names only support names that are all strings. Got feature names with dtypes: ['int', 'str']. An error will be raised in 1.2.\n",
            "  FutureWarning,\n"
          ]
        },
        {
          "output_type": "execute_result",
          "data": {
            "text/plain": [
              "SVR()"
            ]
          },
          "metadata": {},
          "execution_count": 38
        }
      ]
    },
    {
      "cell_type": "markdown",
      "source": [
        "## 构建决策树模型"
      ],
      "metadata": {
        "id": "45WGILcG422f"
      }
    },
    {
      "cell_type": "code",
      "source": [
        "DT_model = DecisionTreeRegressor()\n",
        "DT_model.fit(OH_X_train, y_train)"
      ],
      "metadata": {
        "colab": {
          "base_uri": "https://localhost:8080/"
        },
        "id": "JRn4eyON47rS",
        "outputId": "0ddd25cc-9b8a-4505-d144-db38318b16cc"
      },
      "execution_count": null,
      "outputs": [
        {
          "output_type": "stream",
          "name": "stderr",
          "text": [
            "/usr/local/lib/python3.7/dist-packages/sklearn/utils/validation.py:1692: FutureWarning: Feature names only support names that are all strings. Got feature names with dtypes: ['int', 'str']. An error will be raised in 1.2.\n",
            "  FutureWarning,\n"
          ]
        },
        {
          "output_type": "execute_result",
          "data": {
            "text/plain": [
              "DecisionTreeRegressor()"
            ]
          },
          "metadata": {},
          "execution_count": 39
        }
      ]
    },
    {
      "cell_type": "markdown",
      "source": [
        "## 构建KNN模型"
      ],
      "metadata": {
        "id": "uaLKG6eH5-Xv"
      }
    },
    {
      "cell_type": "code",
      "source": [
        "KNN_model = KNeighborsRegressor()\n",
        "KNN_model.fit(OH_X_train, y_train)"
      ],
      "metadata": {
        "colab": {
          "base_uri": "https://localhost:8080/"
        },
        "id": "t7NvuA6U6A-Q",
        "outputId": "a09ffc97-916c-4b2d-bdb1-238b2a8c1b64"
      },
      "execution_count": null,
      "outputs": [
        {
          "output_type": "stream",
          "name": "stderr",
          "text": [
            "/usr/local/lib/python3.7/dist-packages/sklearn/utils/validation.py:1692: FutureWarning: Feature names only support names that are all strings. Got feature names with dtypes: ['int', 'str']. An error will be raised in 1.2.\n",
            "  FutureWarning,\n"
          ]
        },
        {
          "output_type": "execute_result",
          "data": {
            "text/plain": [
              "KNeighborsRegressor()"
            ]
          },
          "metadata": {},
          "execution_count": 40
        }
      ]
    },
    {
      "cell_type": "markdown",
      "source": [
        "## 绘制训练过程中的指标变化情况"
      ],
      "metadata": {
        "id": "gpDkmwTDwJjk"
      }
    },
    {
      "cell_type": "code",
      "source": [
        "def render_metric(metric_name):\n",
        "    ax = lgb.plot_metric(evals_result, metric=metric_name, figsize=(10, 5))\n",
        "    plt.show()\n",
        "\n",
        "if INTERACTIVE:\n",
        "    # create widget to switch between metrics\n",
        "    interact(render_metric, metric_name=['rmse','l2'])\n",
        "else:\n",
        "    render_metric('rmse')"
      ],
      "metadata": {
        "colab": {
          "base_uri": "https://localhost:8080/",
          "height": 382,
          "referenced_widgets": [
            "b70fa394a722462681f4af80a008910d",
            "be9b0466ecab44fc980ce39fec947616",
            "1b67648e758144009bd317facf9f8a41",
            "36d524f64a71445eb5677e1a25b3ec4d",
            "d3f3328cc8b2481b81ac7d09c86408b2",
            "fb3f8ec4e985449080900a993c49e7a4",
            "67dc8c8690cf42f2918cb2215edd1b63"
          ]
        },
        "id": "ccROadr2wPcs",
        "outputId": "3ab34214-b4ac-4a45-bf16-08e0bef8ab64"
      },
      "execution_count": null,
      "outputs": [
        {
          "output_type": "display_data",
          "data": {
            "text/plain": [
              "interactive(children=(Dropdown(description='metric_name', options=('rmse', 'l2'), value='rmse'), Output()), _d…"
            ],
            "application/vnd.jupyter.widget-view+json": {
              "version_major": 2,
              "version_minor": 0,
              "model_id": "b70fa394a722462681f4af80a008910d"
            }
          },
          "metadata": {}
        }
      ]
    },
    {
      "cell_type": "markdown",
      "source": [
        "## 绘制特征重要性"
      ],
      "metadata": {
        "id": "Ukgg42b8xWRF"
      }
    },
    {
      "cell_type": "code",
      "source": [
        "def render_plot_importance(importance_type, max_features=10,\n",
        "                           ignore_zero=True, precision=3):\n",
        "    ax = lgb.plot_importance(gbm, importance_type=importance_type,\n",
        "                             max_num_features=max_features,\n",
        "                             ignore_zero=ignore_zero, figsize=(12, 8),\n",
        "                             precision=precision)\n",
        "    plt.show()\n",
        "\n",
        "if INTERACTIVE:\n",
        "    # create widget for interactive feature importance plot\n",
        "    interact(render_plot_importance,\n",
        "             importance_type=['split', 'gain'],\n",
        "             max_features=(1, X_train.shape[-1]),\n",
        "             precision=(0, 10))\n",
        "else:\n",
        "    render_plot_importance(importance_type='split')"
      ],
      "metadata": {
        "colab": {
          "base_uri": "https://localhost:8080/",
          "height": 641,
          "referenced_widgets": [
            "c7906285a1c14ac0a3b10050d2d41905",
            "1b256c197f354ea3ab8eb3f0dc7069ef",
            "ca676e67bce64cc181c18ae5cfb4f25e",
            "1db483d0fd914406b6ca8533e864aea2",
            "6ba3aa59b44c4696a1bb6bd3ce5bb770",
            "01490f1986584a04a28ebdc7c8dc3d8e",
            "023519c5928d48e4a36f466afd88af34",
            "a8f605dc22fc4ff994cf8fbd47584b22",
            "1f544d573a9b4ecf8d78ea1a33a5ecf5",
            "8bed368b076e4cd4b7663e99bfa9d5e4",
            "30f6f506a01e45018dc74865dae40132",
            "f86073b8e72c4565ad39835e9661e147",
            "f56ab387ea704f27a0d4adbe367b1da6",
            "153198605cf14363972402ba092f17d2",
            "9359fc7ba8044250ba69bdda523cda45",
            "944b78ad609f4a04acddecd820e862bd"
          ]
        },
        "id": "eoU6FZLCxbK9",
        "outputId": "f00126c3-1723-4dbd-8796-196b438f162d"
      },
      "execution_count": null,
      "outputs": [
        {
          "output_type": "display_data",
          "data": {
            "text/plain": [
              "interactive(children=(Dropdown(description='importance_type', options=('split', 'gain'), value='split'), IntSl…"
            ],
            "application/vnd.jupyter.widget-view+json": {
              "version_major": 2,
              "version_minor": 0,
              "model_id": "c7906285a1c14ac0a3b10050d2d41905"
            }
          },
          "metadata": {}
        }
      ]
    },
    {
      "cell_type": "markdown",
      "source": [
        "## 在测试集上进行预测并评估\n",
        "评估指标：\n",
        "- RMSE\n",
        "- NSE / $R^2$\n",
        "\n",
        "*均在未归一化的原始数据上评估*"
      ],
      "metadata": {
        "id": "ReeLiuiD6iio"
      }
    },
    {
      "cell_type": "code",
      "source": [
        "# 在测试集上预测\n",
        "y_pred = gbm.predict(X_test,num_iteration=gbm.best_iteration_)\n",
        "\n",
        "# RMSE评估\n",
        "rmse_test = mean_squared_error(y_test, y_pred) ** 0.5\n",
        "#print(f'The RMSE of prediction is: {rmse_test}')\n",
        "\n",
        "y_pred_raw = y_pred * df_data_std.depth + df_data_mean.depth\n",
        "y_test_raw = y_test * df_data_std.depth + df_data_mean.depth\n",
        "rmse_test_raw = mean_squared_error(y_test_raw,y_pred_raw) ** 0.5 # mse加根号即是rmse\n",
        "print(f'The RMSE of raw prediction is: {rmse_test_raw}')\n",
        "\n",
        "mape = mean_absolute_percentage_error(y_test_raw,y_pred_raw)\n",
        "print(f'The MAPE of raw prediction is: {mape}')\n",
        "\n",
        "# 计算纳什效率系数\n",
        "H_obs = y_test\n",
        "H_m = y_pred\n",
        "H_obs_mean = H_obs.mean()\n",
        "SSE = ((H_obs - H_m)**2).sum()\n",
        "SST = ((H_obs - H_obs_mean)**2).sum()\n",
        "NSE = 1 - SSE / SST\n",
        "n = y_test.shape[0]\n",
        "k = X_test.shape[1]\n",
        "Adjusted_R2 = 1 - (1 - NSE) * (n-1) / (n-k-1)\n",
        "print(f'The SSE of raw prediction is: {SSE}')\n",
        "print(f'The NSE of raw prediction is: {NSE}')\n",
        "print(f'The adjusted R2 of raw prediction is: {Adjusted_R2}')\n",
        "\n",
        "# 计算R2_score\n",
        "#R2 = r2_score(y_test_raw,y_pred_raw)\n",
        "#print(f'The R2 score of prediction is: {R2}')"
      ],
      "metadata": {
        "id": "evtRaOn_6k0F",
        "colab": {
          "base_uri": "https://localhost:8080/"
        },
        "outputId": "1585f810-c580-43b6-91d8-823d90f110a4"
      },
      "execution_count": null,
      "outputs": [
        {
          "output_type": "stream",
          "name": "stdout",
          "text": [
            "The RMSE of raw prediction is: 0.024169668751801553\n",
            "The MAPE of raw prediction is: 0.034775545443422845\n",
            "The SSE of raw prediction is: 0.46934110161789805\n",
            "The NSE of raw prediction is: 0.992843912540691\n",
            "The adjusted R2 of raw prediction is: 0.9907724135393121\n"
          ]
        }
      ]
    },
    {
      "cell_type": "markdown",
      "source": [
        "## 评估RF模型"
      ],
      "metadata": {
        "id": "qX3N1Z1DUTjP"
      }
    },
    {
      "cell_type": "code",
      "source": [
        "RF_preds = forest_model.predict(OH_X_test)\n",
        "\n",
        "# RMSE评估\n",
        "RF_pred_raw = RF_preds * df_data_std.depth + df_data_mean.depth\n",
        "RF_test_raw = y_test * df_data_std.depth + df_data_mean.depth\n",
        "rmse_test_raw = mean_squared_error(RF_test_raw,RF_pred_raw) ** 0.5 # mse加根号即是rmse\n",
        "print(f'The RMSE of raw prediction is: {rmse_test_raw}')\n",
        "\n",
        "mape = mean_absolute_percentage_error(RF_test_raw,RF_pred_raw)\n",
        "print(f'The MAPE of raw prediction is: {mape}')\n",
        "\n",
        "# 计算纳什效率系数\n",
        "H_obs = y_test\n",
        "H_m = RF_preds\n",
        "H_m_mean = H_obs.mean()\n",
        "SSE = ((H_obs - H_m)**2).sum()\n",
        "SST = ((H_obs - H_obs_mean)**2).sum()\n",
        "NSE = 1 - SSE / SST\n",
        "n = y_test.shape[0]\n",
        "k = OH_X_test.shape[1]\n",
        "Adjusted_R2 = 1 - (1 - NSE) * (n-1) / (n-k-1)\n",
        "print(f'The SSE of raw prediction is: {SSE}')\n",
        "print(f'The NSE of raw prediction is: {NSE}')\n",
        "print(f'The adjusted R2 of raw prediction is: {Adjusted_R2}')"
      ],
      "metadata": {
        "colab": {
          "base_uri": "https://localhost:8080/"
        },
        "id": "XD_p-yDXUXnv",
        "outputId": "453ded91-31e8-412d-bdfa-402d0218dcf2"
      },
      "execution_count": null,
      "outputs": [
        {
          "output_type": "stream",
          "name": "stdout",
          "text": [
            "The RMSE of raw prediction is: 0.03682897500246765\n",
            "The MAPE of raw prediction is: 0.04521746699771148\n",
            "The SSE of raw prediction is: 1.089748941074153\n",
            "The NSE of raw prediction is: 0.9833844964693401\n",
            "The adjusted R2 of raw prediction is: 0.9719255285171609\n"
          ]
        },
        {
          "output_type": "stream",
          "name": "stderr",
          "text": [
            "/usr/local/lib/python3.7/dist-packages/sklearn/utils/validation.py:1692: FutureWarning: Feature names only support names that are all strings. Got feature names with dtypes: ['int', 'str']. An error will be raised in 1.2.\n",
            "  FutureWarning,\n"
          ]
        }
      ]
    },
    {
      "cell_type": "markdown",
      "source": [
        "# 评估XGBoost模型"
      ],
      "metadata": {
        "id": "fT_3mU9QypSs"
      }
    },
    {
      "cell_type": "code",
      "source": [
        "xgb_preds = xgb_model.predict(OH_X_test)\n",
        "\n",
        "# RMSE评估\n",
        "xgb_pred_raw = xgb_preds * df_data_std.depth + df_data_mean.depth\n",
        "xgb_test_raw = y_test * df_data_std.depth + df_data_mean.depth\n",
        "rmse_test_raw = mean_squared_error(xgb_test_raw,xgb_pred_raw) ** 0.5 # mse加根号即是rmse\n",
        "print(f'The RMSE of raw prediction is: {rmse_test_raw}')\n",
        "\n",
        "\n",
        "# 计算纳什效率系数\n",
        "H_obs = y_test\n",
        "H_m = xgb_preds\n",
        "H_m_mean = H_obs.mean()\n",
        "SSE = ((H_obs - H_m)**2).sum()\n",
        "SST = ((H_obs - H_obs_mean)**2).sum()\n",
        "NSE = 1 - SSE / SST\n",
        "n = y_test.shape[0]\n",
        "k = OH_X_test.shape[1]\n",
        "Adjusted_R2 = 1 - (1 - NSE) * (n-1) / (n-k-1)\n",
        "print(f'The SSE of raw prediction is: {SSE}')\n",
        "print(f'The NSE of raw prediction is: {NSE}')\n",
        "print(f'The adjusted R2 of raw prediction is: {Adjusted_R2}')"
      ],
      "metadata": {
        "colab": {
          "base_uri": "https://localhost:8080/"
        },
        "id": "yBMwr1-yyr2_",
        "outputId": "16d6c9bf-c549-4544-beb0-c78adf6e4972"
      },
      "execution_count": null,
      "outputs": [
        {
          "output_type": "stream",
          "name": "stdout",
          "text": [
            "The RMSE of raw prediction is: 0.03284418611261576\n",
            "The SSE of raw prediction is: 0.8666909213547217\n",
            "The NSE of raw prediction is: 0.9867854828566607\n",
            "The adjusted R2 of raw prediction is: 0.977672022757806\n"
          ]
        }
      ]
    },
    {
      "cell_type": "markdown",
      "source": [
        "## 评估SVR模型"
      ],
      "metadata": {
        "id": "r_DN5rE14C-V"
      }
    },
    {
      "cell_type": "code",
      "source": [
        "SVR_preds = SVR_model.predict(OH_X_test)\n",
        "\n",
        "# RMSE评估\n",
        "SVR_pred_raw = SVR_preds * df_data_std.depth + df_data_mean.depth\n",
        "SVR_test_raw = y_test * df_data_std.depth + df_data_mean.depth\n",
        "rmse_test_raw = mean_squared_error(SVR_test_raw,SVR_pred_raw) ** 0.5 # mse加根号即是rmse\n",
        "print(f'The RMSE of raw prediction is: {rmse_test_raw}')\n",
        "\n",
        "\n",
        "# 计算纳什效率系数\n",
        "H_obs = y_test\n",
        "H_m = SVR_preds\n",
        "H_m_mean = H_obs.mean()\n",
        "SSE = ((H_obs - H_m)**2).sum()\n",
        "SST = ((H_obs - H_obs_mean)**2).sum()\n",
        "NSE = 1 - SSE / SST\n",
        "n = y_test.shape[0]\n",
        "k = OH_X_test.shape[1]\n",
        "Adjusted_R2 = 1 - (1 - NSE) * (n-1) / (n-k-1)\n",
        "print(f'The SSE of raw prediction is: {SSE}')\n",
        "print(f'The NSE of raw prediction is: {NSE}')\n",
        "print(f'The adjusted R2 of raw prediction is: {Adjusted_R2}')"
      ],
      "metadata": {
        "colab": {
          "base_uri": "https://localhost:8080/"
        },
        "id": "tdU64mwH4E3b",
        "outputId": "ee42cb6a-cfff-4388-9c20-6c6ea4f62a13"
      },
      "execution_count": null,
      "outputs": [
        {
          "output_type": "stream",
          "name": "stdout",
          "text": [
            "The RMSE of raw prediction is: 0.052438774528080996\n",
            "The SSE of raw prediction is: 2.209287621778356\n",
            "The NSE of raw prediction is: 0.966314786005923\n",
            "The adjusted R2 of raw prediction is: 0.9430836039410424\n"
          ]
        },
        {
          "output_type": "stream",
          "name": "stderr",
          "text": [
            "/usr/local/lib/python3.7/dist-packages/sklearn/utils/validation.py:1692: FutureWarning: Feature names only support names that are all strings. Got feature names with dtypes: ['int', 'str']. An error will be raised in 1.2.\n",
            "  FutureWarning,\n"
          ]
        }
      ]
    },
    {
      "cell_type": "markdown",
      "source": [
        "## 评估决策树模型"
      ],
      "metadata": {
        "id": "49J7q90R5SHG"
      }
    },
    {
      "cell_type": "code",
      "source": [
        "DF_preds = DT_model.predict(OH_X_test)\n",
        "\n",
        "# RMSE评估\n",
        "DF_pred_raw = DF_preds * df_data_std.depth + df_data_mean.depth\n",
        "DF_test_raw = y_test * df_data_std.depth + df_data_mean.depth\n",
        "rmse_test_raw = mean_squared_error(DF_test_raw,DF_pred_raw) ** 0.5 # mse加根号即是rmse\n",
        "print(f'The RMSE of raw prediction is: {rmse_test_raw}')\n",
        "\n",
        "\n",
        "# 计算纳什效率系数\n",
        "H_obs = y_test\n",
        "H_m = DF_preds\n",
        "H_m_mean = H_obs.mean()\n",
        "SSE = ((H_obs - H_m)**2).sum()\n",
        "SST = ((H_obs - H_obs_mean)**2).sum()\n",
        "NSE = 1 - SSE / SST\n",
        "n = y_test.shape[0]\n",
        "k = OH_X_test.shape[1]\n",
        "Adjusted_R2 = 1 - (1 - NSE) * (n-1) / (n-k-1)\n",
        "print(f'The SSE of raw prediction is: {SSE}')\n",
        "print(f'The NSE of raw prediction is: {NSE}')\n",
        "print(f'The adjusted R2 of raw prediction is: {Adjusted_R2}')"
      ],
      "metadata": {
        "colab": {
          "base_uri": "https://localhost:8080/"
        },
        "id": "3kVFh0cV5UFk",
        "outputId": "9875810b-94df-4990-a6e4-247a0b6f40db"
      },
      "execution_count": null,
      "outputs": [
        {
          "output_type": "stream",
          "name": "stdout",
          "text": [
            "The RMSE of raw prediction is: 0.03891015291320433\n",
            "The SSE of raw prediction is: 1.2163906316773865\n",
            "The NSE of raw prediction is: 0.9814535788258022\n",
            "The adjusted R2 of raw prediction is: 0.968662943533252\n"
          ]
        },
        {
          "output_type": "stream",
          "name": "stderr",
          "text": [
            "/usr/local/lib/python3.7/dist-packages/sklearn/utils/validation.py:1692: FutureWarning: Feature names only support names that are all strings. Got feature names with dtypes: ['int', 'str']. An error will be raised in 1.2.\n",
            "  FutureWarning,\n"
          ]
        }
      ]
    },
    {
      "cell_type": "markdown",
      "source": [
        "## 评估KNN模型\n",
        "注意力机制"
      ],
      "metadata": {
        "id": "EIkAz4Pj6Pii"
      }
    },
    {
      "cell_type": "code",
      "source": [
        "KNN_preds = KNN_model.predict(OH_X_test)\n",
        "\n",
        "# RMSE评估\n",
        "KNN_pred_raw = KNN_preds * df_data_std.depth + df_data_mean.depth\n",
        "KNN_test_raw = y_test * df_data_std.depth + df_data_mean.depth\n",
        "rmse_test_raw = mean_squared_error(KNN_test_raw,KNN_pred_raw) ** 0.5 # mse加根号即是rmse\n",
        "print(f'The RMSE of raw prediction is: {rmse_test_raw}')\n",
        "\n",
        "\n",
        "# 计算纳什效率系数\n",
        "H_obs = y_test\n",
        "H_m = KNN_preds\n",
        "H_m_mean = H_obs.mean()\n",
        "SSE = ((H_obs - H_m)**2).sum()\n",
        "SST = ((H_obs - H_obs_mean)**2).sum()\n",
        "NSE = 1 - SSE / SST\n",
        "n = y_test.shape[0]\n",
        "k = OH_X_test.shape[1]\n",
        "Adjusted_R2 = 1 - (1 - NSE) * (n-1) / (n-k-1)\n",
        "print(f'The SSE of raw prediction is: {SSE}')\n",
        "print(f'The NSE of raw prediction is: {NSE}')\n",
        "print(f'The adjusted R2 of raw prediction is: {Adjusted_R2}')"
      ],
      "metadata": {
        "colab": {
          "base_uri": "https://localhost:8080/"
        },
        "id": "NVAe1FiD6Rtm",
        "outputId": "de64456d-e048-40eb-f62e-030c4aa8ec51"
      },
      "execution_count": null,
      "outputs": [
        {
          "output_type": "stream",
          "name": "stdout",
          "text": [
            "The RMSE of raw prediction is: 0.10474769686652134\n",
            "The SSE of raw prediction is: 8.815280926680337\n",
            "The NSE of raw prediction is: 0.8655925912470791\n",
            "The adjusted R2 of raw prediction is: 0.7728978265898923\n"
          ]
        },
        {
          "output_type": "stream",
          "name": "stderr",
          "text": [
            "/usr/local/lib/python3.7/dist-packages/sklearn/utils/validation.py:1692: FutureWarning: Feature names only support names that are all strings. Got feature names with dtypes: ['int', 'str']. An error will be raised in 1.2.\n",
            "  FutureWarning,\n"
          ]
        }
      ]
    },
    {
      "cell_type": "markdown",
      "source": [
        "### 真实值和预测值及其绝对误差"
      ],
      "metadata": {
        "id": "UkfXabPSZqWr"
      }
    },
    {
      "cell_type": "code",
      "source": [
        "depth = [list(y_test_raw), list(y_pred_raw), list(RF_pred_raw), list(xgb_pred_raw), list(SVR_pred_raw), list(DF_pred_raw), list(KNN_pred_raw)]\n",
        "depth = np.transpose(depth) # 转置\n",
        "cols = ['Real', 'LGBM', 'RF', 'XGBoost', 'SVR', 'DF', 'KNN']\n",
        "df = pd.DataFrame(data=depth,columns=cols)\n",
        "df.to_csv('result.csv')"
      ],
      "metadata": {
        "id": "M5ymWV13KxM0"
      },
      "execution_count": null,
      "outputs": []
    },
    {
      "cell_type": "markdown",
      "source": [
        "## 绘制各模型在测试集上的散点图"
      ],
      "metadata": {
        "id": "yCMuGig2Ses4"
      }
    },
    {
      "cell_type": "code",
      "source": [
        "x = range(y_test.shape[0])\n",
        "plt.scatter(x,y_test_raw,label='Real')\n",
        "plt.scatter(x,y_pred_raw,label='LGBM')\n",
        "#plt.scatter(x,RF_pred_raw,label='RF')\n",
        "#plt.scatter(x,xgb_pred_raw,label='XGBoost')\n",
        "#plt.scatter(x,SVR_pred_raw,label='SVR')\n",
        "#plt.scatter(x,DF_pred_raw,label='DF')\n",
        "#plt.scatter(x,KNN_pred_raw,label='KNN')\n",
        "plt.legend(loc='upper left')"
      ],
      "metadata": {
        "colab": {
          "base_uri": "https://localhost:8080/",
          "height": 282
        },
        "id": "xvj0dHNVSd3K",
        "outputId": "8ea4a7f0-7ecd-4a6a-fe03-9459bea546d8"
      },
      "execution_count": 96,
      "outputs": [
        {
          "output_type": "execute_result",
          "data": {
            "text/plain": [
              "<matplotlib.legend.Legend at 0x7f011cadb8d0>"
            ]
          },
          "metadata": {},
          "execution_count": 96
        },
        {
          "output_type": "display_data",
          "data": {
            "text/plain": [
              "<Figure size 432x288 with 1 Axes>"
            ],
            "image/png": "[encoded data removed]"
          },
          "metadata": {
            "needs_background": "light"
          }
        }
      ]
    }
  ]
}