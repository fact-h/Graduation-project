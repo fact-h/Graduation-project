{
  "nbformat": 4,
  "nbformat_minor": 0,
  "metadata": {
    "colab": {
      "name": "ANNtest",
      "provenance": [],
      "authorship_tag": "ABX9TyOBImp4LhKDRuOAuBW1AwAY",
      "include_colab_link": true
    },
    "kernelspec": {
      "name": "python3",
      "display_name": "Python 3"
    },
    "language_info": {
      "name": "python"
    }
  },
  "cells": [
    {
      "cell_type": "markdown",
      "metadata": {
        "id": "view-in-github",
        "colab_type": "text"
      },
      "source": [
        "<a href=\"https://colab.research.google.com/github/fact-h/Graduation-project/blob/main/ANNtest.ipynb\" target=\"_parent\"><img src=\"https://colab.research.google.com/assets/colab-badge.svg\" alt=\"Open In Colab\"/></a>"
      ]
    },
    {
      "cell_type": "markdown",
      "source": [
        "# 基于机器学习的城市洪涝快速模拟研究\n",
        "目标：根据降雨和潮位信息预测最大水深，从每次降雨序列中提取若干个特征，最大水深作为标签"
      ],
      "metadata": {
        "id": "gzH3KpmQn0dZ"
      }
    },
    {
      "cell_type": "markdown",
      "source": [
        "## 导入相关的模块"
      ],
      "metadata": {
        "id": "6lKEorfyoskp"
      }
    },
    {
      "cell_type": "code",
      "source": [
        "import numpy as np\n",
        "import pandas as pd\n",
        "import tensorflow as tf\n",
        "from tensorflow.keras import layers\n",
        "from matplotlib import pyplot as plt"
      ],
      "metadata": {
        "id": "U90CtmSporFv"
      },
      "execution_count": 1,
      "outputs": []
    },
    {
      "cell_type": "markdown",
      "source": [
        "## 数据预处理\n",
        "### 加载数据集\n",
        "先上传CSV数据文件，再创建两个DataFrames：\n",
        "- **`train_df`** 包含训练集\n",
        "- **`test_df`** 包含测试集"
      ],
      "metadata": {
        "id": "haDS6XW6pTkn"
      }
    },
    {
      "cell_type": "code",
      "source": [
        "from google.colab import files\n",
        "uploaded = files.upload()"
      ],
      "metadata": {
        "colab": {
          "resources": {
            "http://localhost:8080/nbextensions/google.colab/files.js": {
              "data": "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",
              "ok": true,
              "headers": [
                [
                  "content-type",
                  "application/javascript"
                ]
              ],
              "status": 200,
              "status_text": ""
            }
          },
          "base_uri": "https://localhost:8080/",
          "height": 81
        },
        "id": "rp-5jrO3Ndc2",
        "outputId": "0f554461-2dd2-422d-d9bf-b1dacdad6d0e"
      },
      "execution_count": 4,
      "outputs": [
        {
          "output_type": "display_data",
          "data": {
            "text/html": [
              "\n",
              "     <input type=\"file\" id=\"files-52a9e165-e54c-4bc7-ad64-6a24c7a2fba7\" name=\"files[]\" multiple disabled\n",
              "        style=\"border:none\" />\n",
              "     <output id=\"result-52a9e165-e54c-4bc7-ad64-6a24c7a2fba7\">\n",
              "      Upload widget is only available when the cell has been executed in the\n",
              "      current browser session. Please rerun this cell to enable.\n",
              "      </output>\n",
              "      <script src=\"/nbextensions/google.colab/files.js\"></script> "
            ],
            "text/plain": [
              "<IPython.core.display.HTML object>"
            ]
          },
          "metadata": {}
        },
        {
          "output_type": "stream",
          "name": "stdout",
          "text": [
            "Saving test.csv to test.csv\n"
          ]
        }
      ]
    },
    {
      "cell_type": "code",
      "source": [
        "train_df = pd.read_csv('/content/train.csv')\n",
        "train_df = train_df.reindex(np.random.permutation(train_df.index)) # 打乱数据\n",
        "test_df = pd.read_csv('/content/test.csv')"
      ],
      "metadata": {
        "id": "Uaw97iSEVFLG"
      },
      "execution_count": 5,
      "outputs": []
    },
    {
      "cell_type": "code",
      "source": [
        "train_df.head()"
      ],
      "metadata": {
        "colab": {
          "base_uri": "https://localhost:8080/",
          "height": 206
        },
        "id": "rwQ83-NyWFXY",
        "outputId": "ac4e2c6b-7d99-4148-9d1a-56f1528063e9"
      },
      "execution_count": 6,
      "outputs": [
        {
          "output_type": "execute_result",
          "data": {
            "text/html": [
              "\n",
              "  <div id=\"df-ba818635-c348-4e82-bc73-e12567f2fdf1\">\n",
              "    <div class=\"colab-df-container\">\n",
              "      <div>\n",
              "<style scoped>\n",
              "    .dataframe tbody tr th:only-of-type {\n",
              "        vertical-align: middle;\n",
              "    }\n",
              "\n",
              "    .dataframe tbody tr th {\n",
              "        vertical-align: top;\n",
              "    }\n",
              "\n",
              "    .dataframe thead th {\n",
              "        text-align: right;\n",
              "    }\n",
              "</style>\n",
              "<table border=\"1\" class=\"dataframe\">\n",
              "  <thead>\n",
              "    <tr style=\"text-align: right;\">\n",
              "      <th></th>\n",
              "      <th>rain1</th>\n",
              "      <th>rain2</th>\n",
              "      <th>rain3</th>\n",
              "      <th>rain4</th>\n",
              "      <th>rain5</th>\n",
              "      <th>rain6</th>\n",
              "      <th>rain7</th>\n",
              "      <th>rain8</th>\n",
              "      <th>rain9</th>\n",
              "      <th>rain10</th>\n",
              "      <th>depth</th>\n",
              "    </tr>\n",
              "  </thead>\n",
              "  <tbody>\n",
              "    <tr>\n",
              "      <th>0</th>\n",
              "      <td>2.749</td>\n",
              "      <td>17.106</td>\n",
              "      <td>9.241</td>\n",
              "      <td>3.666</td>\n",
              "      <td>4.582</td>\n",
              "      <td>3.666</td>\n",
              "      <td>4.582</td>\n",
              "      <td>11.837</td>\n",
              "      <td>7.255</td>\n",
              "      <td>11.684</td>\n",
              "      <td>0.274</td>\n",
              "    </tr>\n",
              "    <tr>\n",
              "      <th>29</th>\n",
              "      <td>5.401</td>\n",
              "      <td>7.106</td>\n",
              "      <td>11.654</td>\n",
              "      <td>64.384</td>\n",
              "      <td>16.913</td>\n",
              "      <td>10.802</td>\n",
              "      <td>8.243</td>\n",
              "      <td>6.680</td>\n",
              "      <td>5.827</td>\n",
              "      <td>5.117</td>\n",
              "      <td>0.311</td>\n",
              "    </tr>\n",
              "    <tr>\n",
              "      <th>26</th>\n",
              "      <td>0.426</td>\n",
              "      <td>2.985</td>\n",
              "      <td>4.974</td>\n",
              "      <td>23.167</td>\n",
              "      <td>37.948</td>\n",
              "      <td>12.507</td>\n",
              "      <td>12.223</td>\n",
              "      <td>19.472</td>\n",
              "      <td>18.192</td>\n",
              "      <td>10.233</td>\n",
              "      <td>0.318</td>\n",
              "    </tr>\n",
              "    <tr>\n",
              "      <th>19</th>\n",
              "      <td>4.151</td>\n",
              "      <td>5.462</td>\n",
              "      <td>8.958</td>\n",
              "      <td>49.489</td>\n",
              "      <td>13.001</td>\n",
              "      <td>8.303</td>\n",
              "      <td>6.336</td>\n",
              "      <td>5.135</td>\n",
              "      <td>4.479</td>\n",
              "      <td>3.933</td>\n",
              "      <td>0.293</td>\n",
              "    </tr>\n",
              "    <tr>\n",
              "      <th>10</th>\n",
              "      <td>3.423</td>\n",
              "      <td>21.300</td>\n",
              "      <td>11.506</td>\n",
              "      <td>4.564</td>\n",
              "      <td>5.705</td>\n",
              "      <td>4.564</td>\n",
              "      <td>5.705</td>\n",
              "      <td>14.739</td>\n",
              "      <td>9.033</td>\n",
              "      <td>14.548</td>\n",
              "      <td>0.294</td>\n",
              "    </tr>\n",
              "  </tbody>\n",
              "</table>\n",
              "</div>\n",
              "      <button class=\"colab-df-convert\" onclick=\"convertToInteractive('df-ba818635-c348-4e82-bc73-e12567f2fdf1')\"\n",
              "              title=\"Convert this dataframe to an interactive table.\"\n",
              "              style=\"display:none;\">\n",
              "        \n",
              "  <svg xmlns=\"http://www.w3.org/2000/svg\" height=\"24px\"viewBox=\"0 0 24 24\"\n",
              "       width=\"24px\">\n",
              "    <path d=\"M0 0h24v24H0V0z\" fill=\"none\"/>\n",
              "    <path d=\"M18.56 5.44l.94 2.06.94-2.06 2.06-.94-2.06-.94-.94-2.06-.94 2.06-2.06.94zm-11 1L8.5 8.5l.94-2.06 2.06-.94-2.06-.94L8.5 2.5l-.94 2.06-2.06.94zm10 10l.94 2.06.94-2.06 2.06-.94-2.06-.94-.94-2.06-.94 2.06-2.06.94z\"/><path d=\"M17.41 7.96l-1.37-1.37c-.4-.4-.92-.59-1.43-.59-.52 0-1.04.2-1.43.59L10.3 9.45l-7.72 7.72c-.78.78-.78 2.05 0 2.83L4 21.41c.39.39.9.59 1.41.59.51 0 1.02-.2 1.41-.59l7.78-7.78 2.81-2.81c.8-.78.8-2.07 0-2.86zM5.41 20L4 18.59l7.72-7.72 1.47 1.35L5.41 20z\"/>\n",
              "  </svg>\n",
              "      </button>\n",
              "      \n",
              "  <style>\n",
              "    .colab-df-container {\n",
              "      display:flex;\n",
              "      flex-wrap:wrap;\n",
              "      gap: 12px;\n",
              "    }\n",
              "\n",
              "    .colab-df-convert {\n",
              "      background-color: #E8F0FE;\n",
              "      border: none;\n",
              "      border-radius: 50%;\n",
              "      cursor: pointer;\n",
              "      display: none;\n",
              "      fill: #1967D2;\n",
              "      height: 32px;\n",
              "      padding: 0 0 0 0;\n",
              "      width: 32px;\n",
              "    }\n",
              "\n",
              "    .colab-df-convert:hover {\n",
              "      background-color: #E2EBFA;\n",
              "      box-shadow: 0px 1px 2px rgba(60, 64, 67, 0.3), 0px 1px 3px 1px rgba(60, 64, 67, 0.15);\n",
              "      fill: #174EA6;\n",
              "    }\n",
              "\n",
              "    [theme=dark] .colab-df-convert {\n",
              "      background-color: #3B4455;\n",
              "      fill: #D2E3FC;\n",
              "    }\n",
              "\n",
              "    [theme=dark] .colab-df-convert:hover {\n",
              "      background-color: #434B5C;\n",
              "      box-shadow: 0px 1px 3px 1px rgba(0, 0, 0, 0.15);\n",
              "      filter: drop-shadow(0px 1px 2px rgba(0, 0, 0, 0.3));\n",
              "      fill: #FFFFFF;\n",
              "    }\n",
              "  </style>\n",
              "\n",
              "      <script>\n",
              "        const buttonEl =\n",
              "          document.querySelector('#df-ba818635-c348-4e82-bc73-e12567f2fdf1 button.colab-df-convert');\n",
              "        buttonEl.style.display =\n",
              "          google.colab.kernel.accessAllowed ? 'block' : 'none';\n",
              "\n",
              "        async function convertToInteractive(key) {\n",
              "          const element = document.querySelector('#df-ba818635-c348-4e82-bc73-e12567f2fdf1');\n",
              "          const dataTable =\n",
              "            await google.colab.kernel.invokeFunction('convertToInteractive',\n",
              "                                                     [key], {});\n",
              "          if (!dataTable) return;\n",
              "\n",
              "          const docLinkHtml = 'Like what you see? Visit the ' +\n",
              "            '<a target=\"_blank\" href=https://colab.research.google.com/notebooks/data_table.ipynb>data table notebook</a>'\n",
              "            + ' to learn more about interactive tables.';\n",
              "          element.innerHTML = '';\n",
              "          dataTable['output_type'] = 'display_data';\n",
              "          await google.colab.output.renderOutput(dataTable, element);\n",
              "          const docLink = document.createElement('div');\n",
              "          docLink.innerHTML = docLinkHtml;\n",
              "          element.appendChild(docLink);\n",
              "        }\n",
              "      </script>\n",
              "    </div>\n",
              "  </div>\n",
              "  "
            ],
            "text/plain": [
              "    rain1   rain2   rain3   rain4   rain5   rain6   rain7   rain8   rain9  \\\n",
              "0   2.749  17.106   9.241   3.666   4.582   3.666   4.582  11.837   7.255   \n",
              "29  5.401   7.106  11.654  64.384  16.913  10.802   8.243   6.680   5.827   \n",
              "26  0.426   2.985   4.974  23.167  37.948  12.507  12.223  19.472  18.192   \n",
              "19  4.151   5.462   8.958  49.489  13.001   8.303   6.336   5.135   4.479   \n",
              "10  3.423  21.300  11.506   4.564   5.705   4.564   5.705  14.739   9.033   \n",
              "\n",
              "    rain10  depth  \n",
              "0   11.684  0.274  \n",
              "29   5.117  0.311  \n",
              "26  10.233  0.318  \n",
              "19   3.933  0.293  \n",
              "10  14.548  0.294  "
            ]
          },
          "metadata": {},
          "execution_count": 6
        }
      ]
    },
    {
      "cell_type": "code",
      "source": [
        "test_df.head()"
      ],
      "metadata": {
        "colab": {
          "base_uri": "https://localhost:8080/",
          "height": 81
        },
        "id": "1Pu7eNve7YTH",
        "outputId": "2a057ac3-9da0-4bd9-946b-992a4f467155"
      },
      "execution_count": 7,
      "outputs": [
        {
          "output_type": "execute_result",
          "data": {
            "text/html": [
              "\n",
              "  <div id=\"df-c3d6d5e3-4cd9-41dc-91d3-ee37ed1da8fb\">\n",
              "    <div class=\"colab-df-container\">\n",
              "      <div>\n",
              "<style scoped>\n",
              "    .dataframe tbody tr th:only-of-type {\n",
              "        vertical-align: middle;\n",
              "    }\n",
              "\n",
              "    .dataframe tbody tr th {\n",
              "        vertical-align: top;\n",
              "    }\n",
              "\n",
              "    .dataframe thead th {\n",
              "        text-align: right;\n",
              "    }\n",
              "</style>\n",
              "<table border=\"1\" class=\"dataframe\">\n",
              "  <thead>\n",
              "    <tr style=\"text-align: right;\">\n",
              "      <th></th>\n",
              "      <th>rain1</th>\n",
              "      <th>rain2</th>\n",
              "      <th>rain3</th>\n",
              "      <th>rain4</th>\n",
              "      <th>rain5</th>\n",
              "      <th>rain6</th>\n",
              "      <th>rain7</th>\n",
              "      <th>rain8</th>\n",
              "      <th>rain9</th>\n",
              "      <th>rain10</th>\n",
              "      <th>depth</th>\n",
              "    </tr>\n",
              "  </thead>\n",
              "  <tbody>\n",
              "    <tr>\n",
              "      <th>0</th>\n",
              "      <td>2.545</td>\n",
              "      <td>15.836</td>\n",
              "      <td>8.555</td>\n",
              "      <td>3.394</td>\n",
              "      <td>4.242</td>\n",
              "      <td>3.394</td>\n",
              "      <td>4.242</td>\n",
              "      <td>10.958</td>\n",
              "      <td>6.717</td>\n",
              "      <td>10.817</td>\n",
              "      <td>0.27</td>\n",
              "    </tr>\n",
              "  </tbody>\n",
              "</table>\n",
              "</div>\n",
              "      <button class=\"colab-df-convert\" onclick=\"convertToInteractive('df-c3d6d5e3-4cd9-41dc-91d3-ee37ed1da8fb')\"\n",
              "              title=\"Convert this dataframe to an interactive table.\"\n",
              "              style=\"display:none;\">\n",
              "        \n",
              "  <svg xmlns=\"http://www.w3.org/2000/svg\" height=\"24px\"viewBox=\"0 0 24 24\"\n",
              "       width=\"24px\">\n",
              "    <path d=\"M0 0h24v24H0V0z\" fill=\"none\"/>\n",
              "    <path d=\"M18.56 5.44l.94 2.06.94-2.06 2.06-.94-2.06-.94-.94-2.06-.94 2.06-2.06.94zm-11 1L8.5 8.5l.94-2.06 2.06-.94-2.06-.94L8.5 2.5l-.94 2.06-2.06.94zm10 10l.94 2.06.94-2.06 2.06-.94-2.06-.94-.94-2.06-.94 2.06-2.06.94z\"/><path d=\"M17.41 7.96l-1.37-1.37c-.4-.4-.92-.59-1.43-.59-.52 0-1.04.2-1.43.59L10.3 9.45l-7.72 7.72c-.78.78-.78 2.05 0 2.83L4 21.41c.39.39.9.59 1.41.59.51 0 1.02-.2 1.41-.59l7.78-7.78 2.81-2.81c.8-.78.8-2.07 0-2.86zM5.41 20L4 18.59l7.72-7.72 1.47 1.35L5.41 20z\"/>\n",
              "  </svg>\n",
              "      </button>\n",
              "      \n",
              "  <style>\n",
              "    .colab-df-container {\n",
              "      display:flex;\n",
              "      flex-wrap:wrap;\n",
              "      gap: 12px;\n",
              "    }\n",
              "\n",
              "    .colab-df-convert {\n",
              "      background-color: #E8F0FE;\n",
              "      border: none;\n",
              "      border-radius: 50%;\n",
              "      cursor: pointer;\n",
              "      display: none;\n",
              "      fill: #1967D2;\n",
              "      height: 32px;\n",
              "      padding: 0 0 0 0;\n",
              "      width: 32px;\n",
              "    }\n",
              "\n",
              "    .colab-df-convert:hover {\n",
              "      background-color: #E2EBFA;\n",
              "      box-shadow: 0px 1px 2px rgba(60, 64, 67, 0.3), 0px 1px 3px 1px rgba(60, 64, 67, 0.15);\n",
              "      fill: #174EA6;\n",
              "    }\n",
              "\n",
              "    [theme=dark] .colab-df-convert {\n",
              "      background-color: #3B4455;\n",
              "      fill: #D2E3FC;\n",
              "    }\n",
              "\n",
              "    [theme=dark] .colab-df-convert:hover {\n",
              "      background-color: #434B5C;\n",
              "      box-shadow: 0px 1px 3px 1px rgba(0, 0, 0, 0.15);\n",
              "      filter: drop-shadow(0px 1px 2px rgba(0, 0, 0, 0.3));\n",
              "      fill: #FFFFFF;\n",
              "    }\n",
              "  </style>\n",
              "\n",
              "      <script>\n",
              "        const buttonEl =\n",
              "          document.querySelector('#df-c3d6d5e3-4cd9-41dc-91d3-ee37ed1da8fb button.colab-df-convert');\n",
              "        buttonEl.style.display =\n",
              "          google.colab.kernel.accessAllowed ? 'block' : 'none';\n",
              "\n",
              "        async function convertToInteractive(key) {\n",
              "          const element = document.querySelector('#df-c3d6d5e3-4cd9-41dc-91d3-ee37ed1da8fb');\n",
              "          const dataTable =\n",
              "            await google.colab.kernel.invokeFunction('convertToInteractive',\n",
              "                                                     [key], {});\n",
              "          if (!dataTable) return;\n",
              "\n",
              "          const docLinkHtml = 'Like what you see? Visit the ' +\n",
              "            '<a target=\"_blank\" href=https://colab.research.google.com/notebooks/data_table.ipynb>data table notebook</a>'\n",
              "            + ' to learn more about interactive tables.';\n",
              "          element.innerHTML = '';\n",
              "          dataTable['output_type'] = 'display_data';\n",
              "          await google.colab.output.renderOutput(dataTable, element);\n",
              "          const docLink = document.createElement('div');\n",
              "          docLink.innerHTML = docLinkHtml;\n",
              "          element.appendChild(docLink);\n",
              "        }\n",
              "      </script>\n",
              "    </div>\n",
              "  </div>\n",
              "  "
            ],
            "text/plain": [
              "   rain1   rain2  rain3  rain4  rain5  rain6  rain7   rain8  rain9  rain10  \\\n",
              "0  2.545  15.836  8.555  3.394  4.242  3.394  4.242  10.958  6.717  10.817   \n",
              "\n",
              "   depth  \n",
              "0   0.27  "
            ]
          },
          "metadata": {},
          "execution_count": 7
        }
      ]
    },
    {
      "cell_type": "markdown",
      "source": [
        "### 归一化\n",
        "当建立的模型有多个特征时，每个特征的值应该大致在相同范围。"
      ],
      "metadata": {
        "id": "aiG4bjDGqglj"
      }
    },
    {
      "cell_type": "code",
      "source": [
        "# 计算训练集每个特征(列)的Z-scores\n",
        "train_df_mean = train_df.mean()\n",
        "train_df_std = train_df.std()\n",
        "train_df_norm = (train_df - train_df_mean)/train_df_std\n",
        "\n",
        "# 计算测试集每个特征(列)的Z-scores\n",
        "test_df_norm = (test_df - train_df_mean)/train_df_std\n",
        "\n",
        "print(\"Normalized the values.\")"
      ],
      "metadata": {
        "id": "FKEY2n8Psej3",
        "outputId": "edab8d4b-251a-4f38-a464-868967daceef",
        "colab": {
          "base_uri": "https://localhost:8080/"
        }
      },
      "execution_count": 8,
      "outputs": [
        {
          "output_type": "stream",
          "name": "stdout",
          "text": [
            "Normalized the values.\n"
          ]
        }
      ]
    },
    {
      "cell_type": "code",
      "source": [
        "train_df_norm.head()"
      ],
      "metadata": {
        "id": "bSC7vYlN08Dg",
        "outputId": "13fb1472-2970-4157-c3d8-6383f7ccd538",
        "colab": {
          "base_uri": "https://localhost:8080/",
          "height": 206
        }
      },
      "execution_count": 9,
      "outputs": [
        {
          "output_type": "execute_result",
          "data": {
            "text/html": [
              "\n",
              "  <div id=\"df-026560b8-1276-4836-bc7f-95b21c7859bc\">\n",
              "    <div class=\"colab-df-container\">\n",
              "      <div>\n",
              "<style scoped>\n",
              "    .dataframe tbody tr th:only-of-type {\n",
              "        vertical-align: middle;\n",
              "    }\n",
              "\n",
              "    .dataframe tbody tr th {\n",
              "        vertical-align: top;\n",
              "    }\n",
              "\n",
              "    .dataframe thead th {\n",
              "        text-align: right;\n",
              "    }\n",
              "</style>\n",
              "<table border=\"1\" class=\"dataframe\">\n",
              "  <thead>\n",
              "    <tr style=\"text-align: right;\">\n",
              "      <th></th>\n",
              "      <th>rain1</th>\n",
              "      <th>rain2</th>\n",
              "      <th>rain3</th>\n",
              "      <th>rain4</th>\n",
              "      <th>rain5</th>\n",
              "      <th>rain6</th>\n",
              "      <th>rain7</th>\n",
              "      <th>rain8</th>\n",
              "      <th>rain9</th>\n",
              "      <th>rain10</th>\n",
              "      <th>depth</th>\n",
              "    </tr>\n",
              "  </thead>\n",
              "  <tbody>\n",
              "    <tr>\n",
              "      <th>0</th>\n",
              "      <td>0.466590</td>\n",
              "      <td>1.039181</td>\n",
              "      <td>0.659153</td>\n",
              "      <td>-0.611366</td>\n",
              "      <td>-0.676514</td>\n",
              "      <td>-1.197927</td>\n",
              "      <td>-1.448845</td>\n",
              "      <td>-0.546627</td>\n",
              "      <td>-0.875784</td>\n",
              "      <td>-0.447022</td>\n",
              "      <td>-0.111154</td>\n",
              "    </tr>\n",
              "    <tr>\n",
              "      <th>29</th>\n",
              "      <td>1.739219</td>\n",
              "      <td>0.042485</td>\n",
              "      <td>1.098721</td>\n",
              "      <td>2.450759</td>\n",
              "      <td>0.485213</td>\n",
              "      <td>1.238489</td>\n",
              "      <td>-0.103289</td>\n",
              "      <td>-1.294026</td>\n",
              "      <td>-0.956909</td>\n",
              "      <td>-1.015749</td>\n",
              "      <td>0.761236</td>\n",
              "    </tr>\n",
              "    <tr>\n",
              "      <th>26</th>\n",
              "      <td>-0.648161</td>\n",
              "      <td>-0.368254</td>\n",
              "      <td>-0.118153</td>\n",
              "      <td>0.372107</td>\n",
              "      <td>2.466959</td>\n",
              "      <td>1.820620</td>\n",
              "      <td>1.359513</td>\n",
              "      <td>0.559907</td>\n",
              "      <td>-0.254446</td>\n",
              "      <td>-0.572684</td>\n",
              "      <td>0.926282</td>\n",
              "    </tr>\n",
              "    <tr>\n",
              "      <th>19</th>\n",
              "      <td>1.139375</td>\n",
              "      <td>-0.121372</td>\n",
              "      <td>0.607599</td>\n",
              "      <td>1.699576</td>\n",
              "      <td>0.116656</td>\n",
              "      <td>0.385265</td>\n",
              "      <td>-0.804184</td>\n",
              "      <td>-1.517942</td>\n",
              "      <td>-1.033490</td>\n",
              "      <td>-1.118288</td>\n",
              "      <td>0.336830</td>\n",
              "    </tr>\n",
              "    <tr>\n",
              "      <th>10</th>\n",
              "      <td>0.790026</td>\n",
              "      <td>1.457196</td>\n",
              "      <td>1.071760</td>\n",
              "      <td>-0.566078</td>\n",
              "      <td>-0.570714</td>\n",
              "      <td>-0.891327</td>\n",
              "      <td>-1.036100</td>\n",
              "      <td>-0.126043</td>\n",
              "      <td>-0.774774</td>\n",
              "      <td>-0.198988</td>\n",
              "      <td>0.360408</td>\n",
              "    </tr>\n",
              "  </tbody>\n",
              "</table>\n",
              "</div>\n",
              "      <button class=\"colab-df-convert\" onclick=\"convertToInteractive('df-026560b8-1276-4836-bc7f-95b21c7859bc')\"\n",
              "              title=\"Convert this dataframe to an interactive table.\"\n",
              "              style=\"display:none;\">\n",
              "        \n",
              "  <svg xmlns=\"http://www.w3.org/2000/svg\" height=\"24px\"viewBox=\"0 0 24 24\"\n",
              "       width=\"24px\">\n",
              "    <path d=\"M0 0h24v24H0V0z\" fill=\"none\"/>\n",
              "    <path d=\"M18.56 5.44l.94 2.06.94-2.06 2.06-.94-2.06-.94-.94-2.06-.94 2.06-2.06.94zm-11 1L8.5 8.5l.94-2.06 2.06-.94-2.06-.94L8.5 2.5l-.94 2.06-2.06.94zm10 10l.94 2.06.94-2.06 2.06-.94-2.06-.94-.94-2.06-.94 2.06-2.06.94z\"/><path d=\"M17.41 7.96l-1.37-1.37c-.4-.4-.92-.59-1.43-.59-.52 0-1.04.2-1.43.59L10.3 9.45l-7.72 7.72c-.78.78-.78 2.05 0 2.83L4 21.41c.39.39.9.59 1.41.59.51 0 1.02-.2 1.41-.59l7.78-7.78 2.81-2.81c.8-.78.8-2.07 0-2.86zM5.41 20L4 18.59l7.72-7.72 1.47 1.35L5.41 20z\"/>\n",
              "  </svg>\n",
              "      </button>\n",
              "      \n",
              "  <style>\n",
              "    .colab-df-container {\n",
              "      display:flex;\n",
              "      flex-wrap:wrap;\n",
              "      gap: 12px;\n",
              "    }\n",
              "\n",
              "    .colab-df-convert {\n",
              "      background-color: #E8F0FE;\n",
              "      border: none;\n",
              "      border-radius: 50%;\n",
              "      cursor: pointer;\n",
              "      display: none;\n",
              "      fill: #1967D2;\n",
              "      height: 32px;\n",
              "      padding: 0 0 0 0;\n",
              "      width: 32px;\n",
              "    }\n",
              "\n",
              "    .colab-df-convert:hover {\n",
              "      background-color: #E2EBFA;\n",
              "      box-shadow: 0px 1px 2px rgba(60, 64, 67, 0.3), 0px 1px 3px 1px rgba(60, 64, 67, 0.15);\n",
              "      fill: #174EA6;\n",
              "    }\n",
              "\n",
              "    [theme=dark] .colab-df-convert {\n",
              "      background-color: #3B4455;\n",
              "      fill: #D2E3FC;\n",
              "    }\n",
              "\n",
              "    [theme=dark] .colab-df-convert:hover {\n",
              "      background-color: #434B5C;\n",
              "      box-shadow: 0px 1px 3px 1px rgba(0, 0, 0, 0.15);\n",
              "      filter: drop-shadow(0px 1px 2px rgba(0, 0, 0, 0.3));\n",
              "      fill: #FFFFFF;\n",
              "    }\n",
              "  </style>\n",
              "\n",
              "      <script>\n",
              "        const buttonEl =\n",
              "          document.querySelector('#df-026560b8-1276-4836-bc7f-95b21c7859bc button.colab-df-convert');\n",
              "        buttonEl.style.display =\n",
              "          google.colab.kernel.accessAllowed ? 'block' : 'none';\n",
              "\n",
              "        async function convertToInteractive(key) {\n",
              "          const element = document.querySelector('#df-026560b8-1276-4836-bc7f-95b21c7859bc');\n",
              "          const dataTable =\n",
              "            await google.colab.kernel.invokeFunction('convertToInteractive',\n",
              "                                                     [key], {});\n",
              "          if (!dataTable) return;\n",
              "\n",
              "          const docLinkHtml = 'Like what you see? Visit the ' +\n",
              "            '<a target=\"_blank\" href=https://colab.research.google.com/notebooks/data_table.ipynb>data table notebook</a>'\n",
              "            + ' to learn more about interactive tables.';\n",
              "          element.innerHTML = '';\n",
              "          dataTable['output_type'] = 'display_data';\n",
              "          await google.colab.output.renderOutput(dataTable, element);\n",
              "          const docLink = document.createElement('div');\n",
              "          docLink.innerHTML = docLinkHtml;\n",
              "          element.appendChild(docLink);\n",
              "        }\n",
              "      </script>\n",
              "    </div>\n",
              "  </div>\n",
              "  "
            ],
            "text/plain": [
              "       rain1     rain2     rain3     rain4     rain5     rain6     rain7  \\\n",
              "0   0.466590  1.039181  0.659153 -0.611366 -0.676514 -1.197927 -1.448845   \n",
              "29  1.739219  0.042485  1.098721  2.450759  0.485213  1.238489 -0.103289   \n",
              "26 -0.648161 -0.368254 -0.118153  0.372107  2.466959  1.820620  1.359513   \n",
              "19  1.139375 -0.121372  0.607599  1.699576  0.116656  0.385265 -0.804184   \n",
              "10  0.790026  1.457196  1.071760 -0.566078 -0.570714 -0.891327 -1.036100   \n",
              "\n",
              "       rain8     rain9    rain10     depth  \n",
              "0  -0.546627 -0.875784 -0.447022 -0.111154  \n",
              "29 -1.294026 -0.956909 -1.015749  0.761236  \n",
              "26  0.559907 -0.254446 -0.572684  0.926282  \n",
              "19 -1.517942 -1.033490 -1.118288  0.336830  \n",
              "10 -0.126043 -0.774774 -0.198988  0.360408  "
            ]
          },
          "metadata": {},
          "execution_count": 9
        }
      ]
    },
    {
      "cell_type": "code",
      "source": [
        "test_df_norm.head()"
      ],
      "metadata": {
        "id": "fWOfqPzS0_0o",
        "outputId": "6bd36887-3729-4652-a3cc-2a90a257e338",
        "colab": {
          "base_uri": "https://localhost:8080/",
          "height": 81
        }
      },
      "execution_count": 10,
      "outputs": [
        {
          "output_type": "execute_result",
          "data": {
            "text/html": [
              "\n",
              "  <div id=\"df-c8e5e4b7-64d1-4cbe-9892-061c453f1960\">\n",
              "    <div class=\"colab-df-container\">\n",
              "      <div>\n",
              "<style scoped>\n",
              "    .dataframe tbody tr th:only-of-type {\n",
              "        vertical-align: middle;\n",
              "    }\n",
              "\n",
              "    .dataframe tbody tr th {\n",
              "        vertical-align: top;\n",
              "    }\n",
              "\n",
              "    .dataframe thead th {\n",
              "        text-align: right;\n",
              "    }\n",
              "</style>\n",
              "<table border=\"1\" class=\"dataframe\">\n",
              "  <thead>\n",
              "    <tr style=\"text-align: right;\">\n",
              "      <th></th>\n",
              "      <th>rain1</th>\n",
              "      <th>rain2</th>\n",
              "      <th>rain3</th>\n",
              "      <th>rain4</th>\n",
              "      <th>rain5</th>\n",
              "      <th>rain6</th>\n",
              "      <th>rain7</th>\n",
              "      <th>rain8</th>\n",
              "      <th>rain9</th>\n",
              "      <th>rain10</th>\n",
              "      <th>depth</th>\n",
              "    </tr>\n",
              "  </thead>\n",
              "  <tbody>\n",
              "    <tr>\n",
              "      <th>0</th>\n",
              "      <td>0.368695</td>\n",
              "      <td>0.912601</td>\n",
              "      <td>0.534186</td>\n",
              "      <td>-0.625083</td>\n",
              "      <td>-0.708546</td>\n",
              "      <td>-1.290795</td>\n",
              "      <td>-1.573808</td>\n",
              "      <td>-0.67402</td>\n",
              "      <td>-0.906348</td>\n",
              "      <td>-0.522107</td>\n",
              "      <td>-0.205466</td>\n",
              "    </tr>\n",
              "  </tbody>\n",
              "</table>\n",
              "</div>\n",
              "      <button class=\"colab-df-convert\" onclick=\"convertToInteractive('df-c8e5e4b7-64d1-4cbe-9892-061c453f1960')\"\n",
              "              title=\"Convert this dataframe to an interactive table.\"\n",
              "              style=\"display:none;\">\n",
              "        \n",
              "  <svg xmlns=\"http://www.w3.org/2000/svg\" height=\"24px\"viewBox=\"0 0 24 24\"\n",
              "       width=\"24px\">\n",
              "    <path d=\"M0 0h24v24H0V0z\" fill=\"none\"/>\n",
              "    <path d=\"M18.56 5.44l.94 2.06.94-2.06 2.06-.94-2.06-.94-.94-2.06-.94 2.06-2.06.94zm-11 1L8.5 8.5l.94-2.06 2.06-.94-2.06-.94L8.5 2.5l-.94 2.06-2.06.94zm10 10l.94 2.06.94-2.06 2.06-.94-2.06-.94-.94-2.06-.94 2.06-2.06.94z\"/><path d=\"M17.41 7.96l-1.37-1.37c-.4-.4-.92-.59-1.43-.59-.52 0-1.04.2-1.43.59L10.3 9.45l-7.72 7.72c-.78.78-.78 2.05 0 2.83L4 21.41c.39.39.9.59 1.41.59.51 0 1.02-.2 1.41-.59l7.78-7.78 2.81-2.81c.8-.78.8-2.07 0-2.86zM5.41 20L4 18.59l7.72-7.72 1.47 1.35L5.41 20z\"/>\n",
              "  </svg>\n",
              "      </button>\n",
              "      \n",
              "  <style>\n",
              "    .colab-df-container {\n",
              "      display:flex;\n",
              "      flex-wrap:wrap;\n",
              "      gap: 12px;\n",
              "    }\n",
              "\n",
              "    .colab-df-convert {\n",
              "      background-color: #E8F0FE;\n",
              "      border: none;\n",
              "      border-radius: 50%;\n",
              "      cursor: pointer;\n",
              "      display: none;\n",
              "      fill: #1967D2;\n",
              "      height: 32px;\n",
              "      padding: 0 0 0 0;\n",
              "      width: 32px;\n",
              "    }\n",
              "\n",
              "    .colab-df-convert:hover {\n",
              "      background-color: #E2EBFA;\n",
              "      box-shadow: 0px 1px 2px rgba(60, 64, 67, 0.3), 0px 1px 3px 1px rgba(60, 64, 67, 0.15);\n",
              "      fill: #174EA6;\n",
              "    }\n",
              "\n",
              "    [theme=dark] .colab-df-convert {\n",
              "      background-color: #3B4455;\n",
              "      fill: #D2E3FC;\n",
              "    }\n",
              "\n",
              "    [theme=dark] .colab-df-convert:hover {\n",
              "      background-color: #434B5C;\n",
              "      box-shadow: 0px 1px 3px 1px rgba(0, 0, 0, 0.15);\n",
              "      filter: drop-shadow(0px 1px 2px rgba(0, 0, 0, 0.3));\n",
              "      fill: #FFFFFF;\n",
              "    }\n",
              "  </style>\n",
              "\n",
              "      <script>\n",
              "        const buttonEl =\n",
              "          document.querySelector('#df-c8e5e4b7-64d1-4cbe-9892-061c453f1960 button.colab-df-convert');\n",
              "        buttonEl.style.display =\n",
              "          google.colab.kernel.accessAllowed ? 'block' : 'none';\n",
              "\n",
              "        async function convertToInteractive(key) {\n",
              "          const element = document.querySelector('#df-c8e5e4b7-64d1-4cbe-9892-061c453f1960');\n",
              "          const dataTable =\n",
              "            await google.colab.kernel.invokeFunction('convertToInteractive',\n",
              "                                                     [key], {});\n",
              "          if (!dataTable) return;\n",
              "\n",
              "          const docLinkHtml = 'Like what you see? Visit the ' +\n",
              "            '<a target=\"_blank\" href=https://colab.research.google.com/notebooks/data_table.ipynb>data table notebook</a>'\n",
              "            + ' to learn more about interactive tables.';\n",
              "          element.innerHTML = '';\n",
              "          dataTable['output_type'] = 'display_data';\n",
              "          await google.colab.output.renderOutput(dataTable, element);\n",
              "          const docLink = document.createElement('div');\n",
              "          docLink.innerHTML = docLinkHtml;\n",
              "          element.appendChild(docLink);\n",
              "        }\n",
              "      </script>\n",
              "    </div>\n",
              "  </div>\n",
              "  "
            ],
            "text/plain": [
              "      rain1     rain2     rain3     rain4     rain5     rain6     rain7  \\\n",
              "0  0.368695  0.912601  0.534186 -0.625083 -0.708546 -1.290795 -1.573808   \n",
              "\n",
              "     rain8     rain9    rain10     depth  \n",
              "0 -0.67402 -0.906348 -0.522107 -0.205466  "
            ]
          },
          "metadata": {},
          "execution_count": 10
        }
      ]
    },
    {
      "cell_type": "markdown",
      "source": [
        "## 表示数据\n",
        "下面的代码创建一个特征层，包括10个特征：从`rain1`到`rain10`。\n",
        "\n",
        "确定训练模型要用的特征以及这些特征的表示方式。`my_feature_layer`在训练模型时才会用到。"
      ],
      "metadata": {
        "id": "rsITXpWWKx94"
      }
    },
    {
      "cell_type": "code",
      "source": [
        "# 创建一个空的列表，用来放所有特征列\n",
        "feature_columns = []\n",
        "\n",
        "# 将各降雨值表示为浮点数值\n",
        "rain1 = tf.feature_column.numeric_column(\"rain1\")\n",
        "feature_columns.append(rain1)\n",
        "\n",
        "rain2 = tf.feature_column.numeric_column(\"rain2\")\n",
        "feature_columns.append(rain2)\n",
        "\n",
        "rain3 = tf.feature_column.numeric_column(\"rain3\")\n",
        "feature_columns.append(rain3)\n",
        "\n",
        "rain4 = tf.feature_column.numeric_column(\"rain4\")\n",
        "feature_columns.append(rain4)\n",
        "\n",
        "rain5 = tf.feature_column.numeric_column(\"rain5\")\n",
        "feature_columns.append(rain5)\n",
        "\n",
        "rain6 = tf.feature_column.numeric_column(\"rain6\")\n",
        "feature_columns.append(rain6)\n",
        "\n",
        "rain7 = tf.feature_column.numeric_column(\"rain7\")\n",
        "feature_columns.append(rain7)\n",
        "\n",
        "rain8 = tf.feature_column.numeric_column(\"rain8\")\n",
        "feature_columns.append(rain8)\n",
        "\n",
        "rain9 = tf.feature_column.numeric_column(\"rain9\")\n",
        "feature_columns.append(rain9)\n",
        "\n",
        "rain10 = tf.feature_column.numeric_column(\"rain10\")\n",
        "feature_columns.append(rain10)\n",
        "\n",
        "# 将特征列的列表转化为一个层，稍后添加到模型中\n",
        "my_feature_layer = tf.keras.layers.DenseFeatures(feature_columns)"
      ],
      "metadata": {
        "id": "B32ykWEU2Iky"
      },
      "execution_count": 11,
      "outputs": []
    },
    {
      "cell_type": "markdown",
      "source": [
        "## 定义绘图函数"
      ],
      "metadata": {
        "id": "Dsmvi91jLyfy"
      }
    },
    {
      "cell_type": "code",
      "source": [
        "def plot_the_loss_curve(epochs, mse):\n",
        "  # 绘制loss vs. epoch的曲线图\n",
        "  plt.figure()\n",
        "  plt.xlabel(\"Epoch\")\n",
        "  plt.ylabel(\"Mean Squared Error\")\n",
        "\n",
        "  plt.plot(epochs, mse, label=\"Loss\")\n",
        "  plt.legend()\n",
        "  plt.ylim([mse.min()*0.95, mse.max()*1.03])\n",
        "  plt.show()\n",
        "\n",
        "print(\"定义plot_the_loss_curve函数\")  "
      ],
      "metadata": {
        "id": "K6BWXdhsL3c8",
        "outputId": "50923373-a02b-4120-a912-0f90697add64",
        "colab": {
          "base_uri": "https://localhost:8080/"
        }
      },
      "execution_count": 12,
      "outputs": [
        {
          "output_type": "stream",
          "name": "stdout",
          "text": [
            "定义plot_the_loss_curve函数\n"
          ]
        }
      ]
    },
    {
      "cell_type": "markdown",
      "source": [
        "## 定义一个深度神经网络模型\n",
        "`create_model`函数定义了神经网络的拓扑结构：\n",
        "- 深度神经网络的层数\n",
        "- 每一层的节点数\n",
        "\n",
        "`create_model`还定义了每一层的激活函数"
      ],
      "metadata": {
        "id": "dPcSEx0aUiQ4"
      }
    },
    {
      "cell_type": "code",
      "source": [
        "def create_model(my_learning_rate, my_feature_layer):\n",
        "  # 创建并配置模型\n",
        "  # 使用sequential创建模型\n",
        "  model = tf.keras.models.Sequential()\n",
        "\n",
        "  # 添加一个包含特征列的层到模型，也就是输入层\n",
        "  model.add(my_feature_layer)\n",
        "\n",
        "  # 对于每一层，使用 tf.keras.layers.Dense 方法描述模型的拓扑结构\n",
        "  # 确定以下参数：\n",
        "  #     * units 指定该层的节点数量\n",
        "  #     * activation 指定激活函数（Rectified Linear Unit a.k.a. ReLU）\n",
        "  #     * name 在debug的时候有用\n",
        "\n",
        "  # 定义第一个隐藏层，包含20个节点\n",
        "  model.add(tf.keras.layers.Dense(\n",
        "      units=20,\n",
        "      activation='relu',\n",
        "      kernel_regularizer=tf.keras.regularizers.l2(l2=0.01), # 加入正则项，防止模型过于复杂出现过拟合现象\n",
        "      name='Hidden1'))\n",
        "  \n",
        "  # 添加一个dropout层，dropout可随机使一定比例的输入节点失效，即变为0\n",
        "  # 可防止过拟合\n",
        "  # model.add(tf.keras.layers.Dropout(rate=0.1)) \n",
        "\n",
        "  # 定义第二个隐藏层，包含12个节点\n",
        "  model.add(tf.keras.layers.Dense(\n",
        "      units=12,\n",
        "      activation='relu',\n",
        "      kernel_regularizer=tf.keras.regularizers.l2(l2=0.01),\n",
        "      name='Hidden2'))\n",
        "  \n",
        "  # 添加一个dropout层，dropout可随机使一定比例的输入节点失效，即变为0\n",
        "  # 可防止过拟合\n",
        "  # model.add(tf.keras.layers.Dropout(rate=0.1)) \n",
        "\n",
        "  # 定义输出层\n",
        "  model.add(tf.keras.layers.Dense(units=1,name='Output'))\n",
        "\n",
        "  # 配置模型\n",
        "  model.compile(optimizer=tf.keras.optimizers.Adam(lr=my_learning_rate),\n",
        "                loss=\"mean_squared_error\",\n",
        "                metrics=[tf.keras.metrics.MeanSquaredError()])\n",
        "  \n",
        "  return model"
      ],
      "metadata": {
        "id": "DEONQplyVEX7"
      },
      "execution_count": 13,
      "outputs": []
    },
    {
      "cell_type": "markdown",
      "source": [
        "## 定义训练函数\n",
        "定义的`train_model`函数从输入的特征和标签训练模型，使用`tf.keras.Model.fit`方法训练模型，该方法的参数`x`非常灵活，支持多种方式传入特征数据，下面使用Python的字典输入数据：\n",
        "- *keys*是每个特征的名字（例如，`rain1`,`rain2`等）\n",
        "- 每个键的值是包含该特征的值的NumPy序列\n"
      ],
      "metadata": {
        "id": "SBtFGg5aDc2Y"
      }
    },
    {
      "cell_type": "code",
      "source": [
        "def train_model(model, dataset, epochs, label_name, batch_size=None, my_validation_split=0.2):\n",
        "  # 将数据集分为特征和标签\n",
        "  # 特征存储为字典类型\n",
        "  features = {name:np.array(value) for name, value in dataset.items()}\n",
        "  label = np.array(features.pop(label_name))\n",
        "\n",
        "  # 训练模型，并将结果存储在history\n",
        "  history = model.fit(x=features, y=label, batch_size=batch_size,\n",
        "                      epochs=epochs, shuffle=True,\n",
        "                      validation_split=my_validation_split)\n",
        "  # epochs列表从history剩余部分分开存储\n",
        "  epochs = history.epoch\n",
        "\n",
        "  # 为追踪训练进展，得到每个epoch的模型均方差\n",
        "  hist = pd.DataFrame(history.history)\n",
        "  mse = hist[\"mean_squared_error\"]\n",
        "\n",
        "  return epochs, mse\n"
      ],
      "metadata": {
        "id": "VhlkqzZvFpqg"
      },
      "execution_count": 14,
      "outputs": []
    },
    {
      "cell_type": "markdown",
      "source": [
        "## 调用函数建立并训练深度神经网络\n",
        "可修改三个超参数查看测试集的损失函数是否减小"
      ],
      "metadata": {
        "id": "2BX8xkBoItIB"
      }
    },
    {
      "cell_type": "code",
      "source": [
        "# 下面的变量是超参数\n",
        "learning_rate = 0.01\n",
        "epochs = 30\n",
        "batch_size = None\n",
        "\n",
        "# 将原始的训练集分为一个较小的训练集和一个验证集\n",
        "validation_split = 0.2\n",
        "\n",
        "# 指定标签，即水深\n",
        "label_name = \"depth\"\n",
        "\n",
        "# 构建模型拓扑结构，输入学习率和特征层\n",
        "my_model = create_model(learning_rate, my_feature_layer)\n",
        "\n",
        "# 使用归一化后的训练集训练模型，模型使用feature_layer定义的特征，此处全部使用\n",
        "epochs, mse = train_model(my_model, train_df_norm, epochs,\n",
        "                          label_name, batch_size,\n",
        "                          validation_split)\n",
        "plot_the_loss_curve(epochs, mse)\n",
        "\n",
        "# 使用训练集建立模型后，使用测试集测试模型\n",
        "test_features = {name:np.array(value) for name, value in test_df_norm.items()}\n",
        "test_label = np.array(test_features.pop(label_name)) # 分离标签\n",
        "print(\"\\n 使用测试集评估模型：\")\n",
        "my_model.evaluate(x=test_features, y=test_label)"
      ],
      "metadata": {
        "id": "xxVlb3TEI1WT",
        "outputId": "29be3aa2-5c9f-4162-f65f-50386577999f",
        "colab": {
          "base_uri": "https://localhost:8080/",
          "height": 1000
        }
      },
      "execution_count": 15,
      "outputs": [
        {
          "output_type": "stream",
          "name": "stderr",
          "text": [
            "/usr/local/lib/python3.7/dist-packages/keras/optimizer_v2/adam.py:105: UserWarning: The `lr` argument is deprecated, use `learning_rate` instead.\n",
            "  super(Adam, self).__init__(name, **kwargs)\n"
          ]
        },
        {
          "output_type": "stream",
          "name": "stdout",
          "text": [
            "Epoch 1/30\n",
            "WARNING:tensorflow:Layers in a Sequential model should only have a single input tensor. Received: inputs={'rain1': <tf.Tensor 'IteratorGetNext:0' shape=(None,) dtype=float32>, 'rain2': <tf.Tensor 'IteratorGetNext:2' shape=(None,) dtype=float32>, 'rain3': <tf.Tensor 'IteratorGetNext:3' shape=(None,) dtype=float32>, 'rain4': <tf.Tensor 'IteratorGetNext:4' shape=(None,) dtype=float32>, 'rain5': <tf.Tensor 'IteratorGetNext:5' shape=(None,) dtype=float32>, 'rain6': <tf.Tensor 'IteratorGetNext:6' shape=(None,) dtype=float32>, 'rain7': <tf.Tensor 'IteratorGetNext:7' shape=(None,) dtype=float32>, 'rain8': <tf.Tensor 'IteratorGetNext:8' shape=(None,) dtype=float32>, 'rain9': <tf.Tensor 'IteratorGetNext:9' shape=(None,) dtype=float32>, 'rain10': <tf.Tensor 'IteratorGetNext:1' shape=(None,) dtype=float32>}. Consider rewriting this model with the Functional API.\n",
            "WARNING:tensorflow:Layers in a Sequential model should only have a single input tensor. Received: inputs={'rain1': <tf.Tensor 'IteratorGetNext:0' shape=(None,) dtype=float32>, 'rain2': <tf.Tensor 'IteratorGetNext:2' shape=(None,) dtype=float32>, 'rain3': <tf.Tensor 'IteratorGetNext:3' shape=(None,) dtype=float32>, 'rain4': <tf.Tensor 'IteratorGetNext:4' shape=(None,) dtype=float32>, 'rain5': <tf.Tensor 'IteratorGetNext:5' shape=(None,) dtype=float32>, 'rain6': <tf.Tensor 'IteratorGetNext:6' shape=(None,) dtype=float32>, 'rain7': <tf.Tensor 'IteratorGetNext:7' shape=(None,) dtype=float32>, 'rain8': <tf.Tensor 'IteratorGetNext:8' shape=(None,) dtype=float32>, 'rain9': <tf.Tensor 'IteratorGetNext:9' shape=(None,) dtype=float32>, 'rain10': <tf.Tensor 'IteratorGetNext:1' shape=(None,) dtype=float32>}. Consider rewriting this model with the Functional API.\n",
            "1/1 [==============================] - ETA: 0s - loss: 1.8785 - mean_squared_error: 1.5910WARNING:tensorflow:Layers in a Sequential model should only have a single input tensor. Received: inputs={'rain1': <tf.Tensor 'IteratorGetNext:0' shape=(None,) dtype=float32>, 'rain2': <tf.Tensor 'IteratorGetNext:2' shape=(None,) dtype=float32>, 'rain3': <tf.Tensor 'IteratorGetNext:3' shape=(None,) dtype=float32>, 'rain4': <tf.Tensor 'IteratorGetNext:4' shape=(None,) dtype=float32>, 'rain5': <tf.Tensor 'IteratorGetNext:5' shape=(None,) dtype=float32>, 'rain6': <tf.Tensor 'IteratorGetNext:6' shape=(None,) dtype=float32>, 'rain7': <tf.Tensor 'IteratorGetNext:7' shape=(None,) dtype=float32>, 'rain8': <tf.Tensor 'IteratorGetNext:8' shape=(None,) dtype=float32>, 'rain9': <tf.Tensor 'IteratorGetNext:9' shape=(None,) dtype=float32>, 'rain10': <tf.Tensor 'IteratorGetNext:1' shape=(None,) dtype=float32>}. Consider rewriting this model with the Functional API.\n",
            "1/1 [==============================] - 1s 1s/step - loss: 1.8785 - mean_squared_error: 1.5910 - val_loss: 0.7548 - val_mean_squared_error: 0.4715\n",
            "Epoch 2/30\n",
            "1/1 [==============================] - 0s 53ms/step - loss: 1.3705 - mean_squared_error: 1.0872 - val_loss: 0.6287 - val_mean_squared_error: 0.3489\n",
            "Epoch 3/30\n",
            "1/1 [==============================] - 0s 54ms/step - loss: 1.0336 - mean_squared_error: 0.7538 - val_loss: 0.5293 - val_mean_squared_error: 0.2523\n",
            "Epoch 4/30\n",
            "1/1 [==============================] - 0s 52ms/step - loss: 0.7874 - mean_squared_error: 0.5104 - val_loss: 0.4501 - val_mean_squared_error: 0.1755\n",
            "Epoch 5/30\n",
            "1/1 [==============================] - 0s 50ms/step - loss: 0.6001 - mean_squared_error: 0.3255 - val_loss: 0.3971 - val_mean_squared_error: 0.1242\n",
            "Epoch 6/30\n",
            "1/1 [==============================] - 0s 50ms/step - loss: 0.4646 - mean_squared_error: 0.1917 - val_loss: 0.3653 - val_mean_squared_error: 0.0937\n",
            "Epoch 7/30\n",
            "1/1 [==============================] - 0s 50ms/step - loss: 0.3763 - mean_squared_error: 0.1047 - val_loss: 0.3531 - val_mean_squared_error: 0.0825\n",
            "Epoch 8/30\n",
            "1/1 [==============================] - 0s 59ms/step - loss: 0.3329 - mean_squared_error: 0.0623 - val_loss: 0.3590 - val_mean_squared_error: 0.0896\n",
            "Epoch 9/30\n",
            "1/1 [==============================] - 0s 60ms/step - loss: 0.3249 - mean_squared_error: 0.0554 - val_loss: 0.3705 - val_mean_squared_error: 0.1027\n",
            "Epoch 10/30\n",
            "1/1 [==============================] - 0s 48ms/step - loss: 0.3319 - mean_squared_error: 0.0640 - val_loss: 0.3703 - val_mean_squared_error: 0.1047\n",
            "Epoch 11/30\n",
            "1/1 [==============================] - 0s 55ms/step - loss: 0.3343 - mean_squared_error: 0.0686 - val_loss: 0.3568 - val_mean_squared_error: 0.0938\n",
            "Epoch 12/30\n",
            "1/1 [==============================] - 0s 54ms/step - loss: 0.3282 - mean_squared_error: 0.0652 - val_loss: 0.3349 - val_mean_squared_error: 0.0750\n",
            "Epoch 13/30\n",
            "1/1 [==============================] - 0s 58ms/step - loss: 0.3160 - mean_squared_error: 0.0561 - val_loss: 0.3118 - val_mean_squared_error: 0.0553\n",
            "Epoch 14/30\n",
            "1/1 [==============================] - 0s 65ms/step - loss: 0.3008 - mean_squared_error: 0.0443 - val_loss: 0.2933 - val_mean_squared_error: 0.0404\n",
            "Epoch 15/30\n",
            "1/1 [==============================] - 0s 53ms/step - loss: 0.2864 - mean_squared_error: 0.0335 - val_loss: 0.2794 - val_mean_squared_error: 0.0303\n",
            "Epoch 16/30\n",
            "1/1 [==============================] - 0s 56ms/step - loss: 0.2751 - mean_squared_error: 0.0259 - val_loss: 0.2693 - val_mean_squared_error: 0.0239\n",
            "Epoch 17/30\n",
            "1/1 [==============================] - 0s 61ms/step - loss: 0.2676 - mean_squared_error: 0.0222 - val_loss: 0.2621 - val_mean_squared_error: 0.0205\n",
            "Epoch 18/30\n",
            "1/1 [==============================] - 0s 126ms/step - loss: 0.2638 - mean_squared_error: 0.0222 - val_loss: 0.2569 - val_mean_squared_error: 0.0191\n",
            "Epoch 19/30\n",
            "1/1 [==============================] - 0s 56ms/step - loss: 0.2618 - mean_squared_error: 0.0240 - val_loss: 0.2529 - val_mean_squared_error: 0.0188\n",
            "Epoch 20/30\n",
            "1/1 [==============================] - 0s 119ms/step - loss: 0.2599 - mean_squared_error: 0.0258 - val_loss: 0.2485 - val_mean_squared_error: 0.0180\n",
            "Epoch 21/30\n",
            "1/1 [==============================] - 0s 96ms/step - loss: 0.2567 - mean_squared_error: 0.0263 - val_loss: 0.2436 - val_mean_squared_error: 0.0166\n",
            "Epoch 22/30\n",
            "1/1 [==============================] - 0s 127ms/step - loss: 0.2521 - mean_squared_error: 0.0252 - val_loss: 0.2383 - val_mean_squared_error: 0.0148\n",
            "Epoch 23/30\n",
            "1/1 [==============================] - 0s 133ms/step - loss: 0.2469 - mean_squared_error: 0.0234 - val_loss: 0.2332 - val_mean_squared_error: 0.0130\n",
            "Epoch 24/30\n",
            "1/1 [==============================] - 0s 70ms/step - loss: 0.2412 - mean_squared_error: 0.0210 - val_loss: 0.2286 - val_mean_squared_error: 0.0115\n",
            "Epoch 25/30\n",
            "1/1 [==============================] - 0s 108ms/step - loss: 0.2349 - mean_squared_error: 0.0178 - val_loss: 0.2251 - val_mean_squared_error: 0.0110\n",
            "Epoch 26/30\n",
            "1/1 [==============================] - 0s 56ms/step - loss: 0.2284 - mean_squared_error: 0.0144 - val_loss: 0.2234 - val_mean_squared_error: 0.0122\n",
            "Epoch 27/30\n",
            "1/1 [==============================] - 0s 54ms/step - loss: 0.2227 - mean_squared_error: 0.0115 - val_loss: 0.2238 - val_mean_squared_error: 0.0155\n",
            "Epoch 28/30\n",
            "1/1 [==============================] - 0s 116ms/step - loss: 0.2181 - mean_squared_error: 0.0097 - val_loss: 0.2258 - val_mean_squared_error: 0.0203\n",
            "Epoch 29/30\n",
            "1/1 [==============================] - 0s 55ms/step - loss: 0.2146 - mean_squared_error: 0.0090 - val_loss: 0.2281 - val_mean_squared_error: 0.0253\n",
            "Epoch 30/30\n",
            "1/1 [==============================] - 0s 43ms/step - loss: 0.2119 - mean_squared_error: 0.0091 - val_loss: 0.2289 - val_mean_squared_error: 0.0289\n"
          ]
        },
        {
          "output_type": "display_data",
          "data": {
            "image/png": "[encoded data removed]",
            "text/plain": [
              "<Figure size 432x288 with 1 Axes>"
            ]
          },
          "metadata": {
            "needs_background": "light"
          }
        },
        {
          "output_type": "stream",
          "name": "stdout",
          "text": [
            "\n",
            " 使用测试集评估模型：\n",
            "1/1 [==============================] - 0s 23ms/step - loss: 0.2735 - mean_squared_error: 0.0735\n"
          ]
        },
        {
          "output_type": "execute_result",
          "data": {
            "text/plain": [
              "[0.2734982371330261, 0.07351252436637878]"
            ]
          },
          "metadata": {},
          "execution_count": 15
        }
      ]
    },
    {
      "cell_type": "code",
      "source": [
        "my_model.evaluate(x=test_features, y=test_label, batch_size=batch_size)"
      ],
      "metadata": {
        "id": "X9f3Say20R2p",
        "outputId": "a31be615-267a-4765-85d4-a33982881ac3",
        "colab": {
          "base_uri": "https://localhost:8080/"
        }
      },
      "execution_count": 16,
      "outputs": [
        {
          "output_type": "stream",
          "name": "stdout",
          "text": [
            "1/1 [==============================] - 0s 31ms/step - loss: 0.2735 - mean_squared_error: 0.0735\n"
          ]
        },
        {
          "output_type": "execute_result",
          "data": {
            "text/plain": [
              "[0.2734982371330261, 0.07351252436637878]"
            ]
          },
          "metadata": {},
          "execution_count": 16
        }
      ]
    },
    {
      "cell_type": "code",
      "source": [
        "print(my_model.predict(test_features) * train_df_std[-1] + train_df_mean[-1])"
      ],
      "metadata": {
        "id": "9BHGN04VRXz0",
        "outputId": "9bdd9b57-7085-445f-956f-b0ac3751836f",
        "colab": {
          "base_uri": "https://localhost:8080/"
        }
      },
      "execution_count": 17,
      "outputs": [
        {
          "output_type": "stream",
          "name": "stdout",
          "text": [
            "WARNING:tensorflow:Layers in a Sequential model should only have a single input tensor. Received: inputs={'rain1': <tf.Tensor 'IteratorGetNext:0' shape=(None,) dtype=float32>, 'rain2': <tf.Tensor 'IteratorGetNext:2' shape=(None,) dtype=float32>, 'rain3': <tf.Tensor 'IteratorGetNext:3' shape=(None,) dtype=float32>, 'rain4': <tf.Tensor 'IteratorGetNext:4' shape=(None,) dtype=float32>, 'rain5': <tf.Tensor 'IteratorGetNext:5' shape=(None,) dtype=float32>, 'rain6': <tf.Tensor 'IteratorGetNext:6' shape=(None,) dtype=float32>, 'rain7': <tf.Tensor 'IteratorGetNext:7' shape=(None,) dtype=float32>, 'rain8': <tf.Tensor 'IteratorGetNext:8' shape=(None,) dtype=float32>, 'rain9': <tf.Tensor 'IteratorGetNext:9' shape=(None,) dtype=float32>, 'rain10': <tf.Tensor 'IteratorGetNext:1' shape=(None,) dtype=float32>}. Consider rewriting this model with the Functional API.\n",
            "[[0.2585007]]\n"
          ]
        }
      ]
    }
  ]
}