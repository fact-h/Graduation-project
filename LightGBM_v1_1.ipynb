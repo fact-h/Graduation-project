{
  "nbformat": 4,
  "nbformat_minor": 0,
  "metadata": {
    "colab": {
      "name": "LightGBM v1.1",
      "provenance": [],
      "collapsed_sections": [],
      "authorship_tag": "ABX9TyNvy/RYBfreadMN5Sue6nB4",
      "include_colab_link": true
    },
    "kernelspec": {
      "name": "python3",
      "display_name": "Python 3"
    },
    "language_info": {
      "name": "python"
    },
    "widgets": {
      "application/vnd.jupyter.widget-state+json": {
        "664cc0eea9824eddb72cd6e3c950e2a5": {
          "model_module": "@jupyter-widgets/controls",
          "model_name": "VBoxModel",
          "model_module_version": "1.5.0",
          "state": {
            "_dom_classes": [
              "widget-interact"
            ],
            "_model_module": "@jupyter-widgets/controls",
            "_model_module_version": "1.5.0",
            "_model_name": "VBoxModel",
            "_view_count": null,
            "_view_module": "@jupyter-widgets/controls",
            "_view_module_version": "1.5.0",
            "_view_name": "VBoxView",
            "box_style": "",
            "children": [
              "IPY_MODEL_cd5e1ec3982f48b3afeff4e46a3a553b",
              "IPY_MODEL_301a08a49ee14f53b4e44c14bfd480ac"
            ],
            "layout": "IPY_MODEL_7e986bcb770d477c82ad25247039efcd"
          }
        },
        "cd5e1ec3982f48b3afeff4e46a3a553b": {
          "model_module": "@jupyter-widgets/controls",
          "model_name": "DropdownModel",
          "model_module_version": "1.5.0",
          "state": {
            "_dom_classes": [],
            "_model_module": "@jupyter-widgets/controls",
            "_model_module_version": "1.5.0",
            "_model_name": "DropdownModel",
            "_options_labels": [
              "l1",
              "l2"
            ],
            "_view_count": null,
            "_view_module": "@jupyter-widgets/controls",
            "_view_module_version": "1.5.0",
            "_view_name": "DropdownView",
            "description": "metric_name",
            "description_tooltip": null,
            "disabled": false,
            "index": 0,
            "layout": "IPY_MODEL_be35e9db5ce943fb8c0e71c1c64e11cc",
            "style": "IPY_MODEL_65306880df0b476a90f7a2a604c460d2"
          }
        },
        "301a08a49ee14f53b4e44c14bfd480ac": {
          "model_module": "@jupyter-widgets/output",
          "model_name": "OutputModel",
          "model_module_version": "1.0.0",
          "state": {
            "_dom_classes": [],
            "_model_module": "@jupyter-widgets/output",
            "_model_module_version": "1.0.0",
            "_model_name": "OutputModel",
            "_view_count": null,
            "_view_module": "@jupyter-widgets/output",
            "_view_module_version": "1.0.0",
            "_view_name": "OutputView",
            "layout": "IPY_MODEL_546a6360358a4ff7a91634036ea8ef59",
            "msg_id": "",
            "outputs": [
              {
                "output_type": "display_data",
                "data": {
                  "text/plain": "<Figure size 720x360 with 1 Axes>",
                  "image/png": "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\n"
                },
                "metadata": {
                  "needs_background": "light"
                }
              }
            ]
          }
        },
        "7e986bcb770d477c82ad25247039efcd": {
          "model_module": "@jupyter-widgets/base",
          "model_name": "LayoutModel",
          "model_module_version": "1.2.0",
          "state": {
            "_model_module": "@jupyter-widgets/base",
            "_model_module_version": "1.2.0",
            "_model_name": "LayoutModel",
            "_view_count": null,
            "_view_module": "@jupyter-widgets/base",
            "_view_module_version": "1.2.0",
            "_view_name": "LayoutView",
            "align_content": null,
            "align_items": null,
            "align_self": null,
            "border": null,
            "bottom": null,
            "display": null,
            "flex": null,
            "flex_flow": null,
            "grid_area": null,
            "grid_auto_columns": null,
            "grid_auto_flow": null,
            "grid_auto_rows": null,
            "grid_column": null,
            "grid_gap": null,
            "grid_row": null,
            "grid_template_areas": null,
            "grid_template_columns": null,
            "grid_template_rows": null,
            "height": null,
            "justify_content": null,
            "justify_items": null,
            "left": null,
            "margin": null,
            "max_height": null,
            "max_width": null,
            "min_height": null,
            "min_width": null,
            "object_fit": null,
            "object_position": null,
            "order": null,
            "overflow": null,
            "overflow_x": null,
            "overflow_y": null,
            "padding": null,
            "right": null,
            "top": null,
            "visibility": null,
            "width": null
          }
        },
        "be35e9db5ce943fb8c0e71c1c64e11cc": {
          "model_module": "@jupyter-widgets/base",
          "model_name": "LayoutModel",
          "model_module_version": "1.2.0",
          "state": {
            "_model_module": "@jupyter-widgets/base",
            "_model_module_version": "1.2.0",
            "_model_name": "LayoutModel",
            "_view_count": null,
            "_view_module": "@jupyter-widgets/base",
            "_view_module_version": "1.2.0",
            "_view_name": "LayoutView",
            "align_content": null,
            "align_items": null,
            "align_self": null,
            "border": null,
            "bottom": null,
            "display": null,
            "flex": null,
            "flex_flow": null,
            "grid_area": null,
            "grid_auto_columns": null,
            "grid_auto_flow": null,
            "grid_auto_rows": null,
            "grid_column": null,
            "grid_gap": null,
            "grid_row": null,
            "grid_template_areas": null,
            "grid_template_columns": null,
            "grid_template_rows": null,
            "height": null,
            "justify_content": null,
            "justify_items": null,
            "left": null,
            "margin": null,
            "max_height": null,
            "max_width": null,
            "min_height": null,
            "min_width": null,
            "object_fit": null,
            "object_position": null,
            "order": null,
            "overflow": null,
            "overflow_x": null,
            "overflow_y": null,
            "padding": null,
            "right": null,
            "top": null,
            "visibility": null,
            "width": null
          }
        },
        "65306880df0b476a90f7a2a604c460d2": {
          "model_module": "@jupyter-widgets/controls",
          "model_name": "DescriptionStyleModel",
          "model_module_version": "1.5.0",
          "state": {
            "_model_module": "@jupyter-widgets/controls",
            "_model_module_version": "1.5.0",
            "_model_name": "DescriptionStyleModel",
            "_view_count": null,
            "_view_module": "@jupyter-widgets/base",
            "_view_module_version": "1.2.0",
            "_view_name": "StyleView",
            "description_width": ""
          }
        },
        "546a6360358a4ff7a91634036ea8ef59": {
          "model_module": "@jupyter-widgets/base",
          "model_name": "LayoutModel",
          "model_module_version": "1.2.0",
          "state": {
            "_model_module": "@jupyter-widgets/base",
            "_model_module_version": "1.2.0",
            "_model_name": "LayoutModel",
            "_view_count": null,
            "_view_module": "@jupyter-widgets/base",
            "_view_module_version": "1.2.0",
            "_view_name": "LayoutView",
            "align_content": null,
            "align_items": null,
            "align_self": null,
            "border": null,
            "bottom": null,
            "display": null,
            "flex": null,
            "flex_flow": null,
            "grid_area": null,
            "grid_auto_columns": null,
            "grid_auto_flow": null,
            "grid_auto_rows": null,
            "grid_column": null,
            "grid_gap": null,
            "grid_row": null,
            "grid_template_areas": null,
            "grid_template_columns": null,
            "grid_template_rows": null,
            "height": null,
            "justify_content": null,
            "justify_items": null,
            "left": null,
            "margin": null,
            "max_height": null,
            "max_width": null,
            "min_height": null,
            "min_width": null,
            "object_fit": null,
            "object_position": null,
            "order": null,
            "overflow": null,
            "overflow_x": null,
            "overflow_y": null,
            "padding": null,
            "right": null,
            "top": null,
            "visibility": null,
            "width": null
          }
        },
        "b24e5f25ca0f42a9a5290ad4aad27766": {
          "model_module": "@jupyter-widgets/controls",
          "model_name": "VBoxModel",
          "model_module_version": "1.5.0",
          "state": {
            "_dom_classes": [
              "widget-interact"
            ],
            "_model_module": "@jupyter-widgets/controls",
            "_model_module_version": "1.5.0",
            "_model_name": "VBoxModel",
            "_view_count": null,
            "_view_module": "@jupyter-widgets/controls",
            "_view_module_version": "1.5.0",
            "_view_name": "VBoxView",
            "box_style": "",
            "children": [
              "IPY_MODEL_49dd56970f4f495486fca9d41005df40",
              "IPY_MODEL_4df2cb75045d457a9bb803dcb6089342",
              "IPY_MODEL_8ba0a9daa53240cd8cc1b125cff60af6",
              "IPY_MODEL_dd0b2847520548249c7fe7fb08e64f57",
              "IPY_MODEL_d8506b3765d24b61a99f18e622a5f3f2"
            ],
            "layout": "IPY_MODEL_ed5a13b907824130a448dd68b143de64"
          }
        },
        "49dd56970f4f495486fca9d41005df40": {
          "model_module": "@jupyter-widgets/controls",
          "model_name": "DropdownModel",
          "model_module_version": "1.5.0",
          "state": {
            "_dom_classes": [],
            "_model_module": "@jupyter-widgets/controls",
            "_model_module_version": "1.5.0",
            "_model_name": "DropdownModel",
            "_options_labels": [
              "split",
              "gain"
            ],
            "_view_count": null,
            "_view_module": "@jupyter-widgets/controls",
            "_view_module_version": "1.5.0",
            "_view_name": "DropdownView",
            "description": "importance_type",
            "description_tooltip": null,
            "disabled": false,
            "index": 0,
            "layout": "IPY_MODEL_a04fbf5c14db43db9bbcd20affe2e656",
            "style": "IPY_MODEL_49f241e8009a4cbaa04b78a64c6fd1e4"
          }
        },
        "4df2cb75045d457a9bb803dcb6089342": {
          "model_module": "@jupyter-widgets/controls",
          "model_name": "IntSliderModel",
          "model_module_version": "1.5.0",
          "state": {
            "_dom_classes": [],
            "_model_module": "@jupyter-widgets/controls",
            "_model_module_version": "1.5.0",
            "_model_name": "IntSliderModel",
            "_view_count": null,
            "_view_module": "@jupyter-widgets/controls",
            "_view_module_version": "1.5.0",
            "_view_name": "IntSliderView",
            "continuous_update": true,
            "description": "max_features",
            "description_tooltip": null,
            "disabled": false,
            "layout": "IPY_MODEL_93a0439d8dbf47d8839d1926a312f868",
            "max": 10,
            "min": 1,
            "orientation": "horizontal",
            "readout": true,
            "readout_format": "d",
            "step": 1,
            "style": "IPY_MODEL_d95d8ce0ae3440e5b0b7169d126925b9",
            "value": 10
          }
        },
        "8ba0a9daa53240cd8cc1b125cff60af6": {
          "model_module": "@jupyter-widgets/controls",
          "model_name": "CheckboxModel",
          "model_module_version": "1.5.0",
          "state": {
            "_dom_classes": [],
            "_model_module": "@jupyter-widgets/controls",
            "_model_module_version": "1.5.0",
            "_model_name": "CheckboxModel",
            "_view_count": null,
            "_view_module": "@jupyter-widgets/controls",
            "_view_module_version": "1.5.0",
            "_view_name": "CheckboxView",
            "description": "ignore_zero",
            "description_tooltip": null,
            "disabled": false,
            "indent": true,
            "layout": "IPY_MODEL_7d763ac5b986477c80ccaab47f409639",
            "style": "IPY_MODEL_68dce604347442eeb73447e081695364",
            "value": false
          }
        },
        "dd0b2847520548249c7fe7fb08e64f57": {
          "model_module": "@jupyter-widgets/controls",
          "model_name": "IntSliderModel",
          "model_module_version": "1.5.0",
          "state": {
            "_dom_classes": [],
            "_model_module": "@jupyter-widgets/controls",
            "_model_module_version": "1.5.0",
            "_model_name": "IntSliderModel",
            "_view_count": null,
            "_view_module": "@jupyter-widgets/controls",
            "_view_module_version": "1.5.0",
            "_view_name": "IntSliderView",
            "continuous_update": true,
            "description": "precision",
            "description_tooltip": null,
            "disabled": false,
            "layout": "IPY_MODEL_1782c5041dcc4211a4db1bafb8844b0b",
            "max": 10,
            "min": 0,
            "orientation": "horizontal",
            "readout": true,
            "readout_format": "d",
            "step": 1,
            "style": "IPY_MODEL_6ef85d7498614dac8955f3dac862f229",
            "value": 3
          }
        },
        "d8506b3765d24b61a99f18e622a5f3f2": {
          "model_module": "@jupyter-widgets/output",
          "model_name": "OutputModel",
          "model_module_version": "1.0.0",
          "state": {
            "_dom_classes": [],
            "_model_module": "@jupyter-widgets/output",
            "_model_module_version": "1.0.0",
            "_model_name": "OutputModel",
            "_view_count": null,
            "_view_module": "@jupyter-widgets/output",
            "_view_module_version": "1.0.0",
            "_view_name": "OutputView",
            "layout": "IPY_MODEL_6d3ca61ed7e54ad294c9c786006c2372",
            "msg_id": "",
            "outputs": [
              {
                "output_type": "display_data",
                "data": {
                  "text/plain": "<Figure size 864x576 with 1 Axes>",
                  "image/png": "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\n"
                },
                "metadata": {
                  "needs_background": "light"
                }
              }
            ]
          }
        },
        "ed5a13b907824130a448dd68b143de64": {
          "model_module": "@jupyter-widgets/base",
          "model_name": "LayoutModel",
          "model_module_version": "1.2.0",
          "state": {
            "_model_module": "@jupyter-widgets/base",
            "_model_module_version": "1.2.0",
            "_model_name": "LayoutModel",
            "_view_count": null,
            "_view_module": "@jupyter-widgets/base",
            "_view_module_version": "1.2.0",
            "_view_name": "LayoutView",
            "align_content": null,
            "align_items": null,
            "align_self": null,
            "border": null,
            "bottom": null,
            "display": null,
            "flex": null,
            "flex_flow": null,
            "grid_area": null,
            "grid_auto_columns": null,
            "grid_auto_flow": null,
            "grid_auto_rows": null,
            "grid_column": null,
            "grid_gap": null,
            "grid_row": null,
            "grid_template_areas": null,
            "grid_template_columns": null,
            "grid_template_rows": null,
            "height": null,
            "justify_content": null,
            "justify_items": null,
            "left": null,
            "margin": null,
            "max_height": null,
            "max_width": null,
            "min_height": null,
            "min_width": null,
            "object_fit": null,
            "object_position": null,
            "order": null,
            "overflow": null,
            "overflow_x": null,
            "overflow_y": null,
            "padding": null,
            "right": null,
            "top": null,
            "visibility": null,
            "width": null
          }
        },
        "a04fbf5c14db43db9bbcd20affe2e656": {
          "model_module": "@jupyter-widgets/base",
          "model_name": "LayoutModel",
          "model_module_version": "1.2.0",
          "state": {
            "_model_module": "@jupyter-widgets/base",
            "_model_module_version": "1.2.0",
            "_model_name": "LayoutModel",
            "_view_count": null,
            "_view_module": "@jupyter-widgets/base",
            "_view_module_version": "1.2.0",
            "_view_name": "LayoutView",
            "align_content": null,
            "align_items": null,
            "align_self": null,
            "border": null,
            "bottom": null,
            "display": null,
            "flex": null,
            "flex_flow": null,
            "grid_area": null,
            "grid_auto_columns": null,
            "grid_auto_flow": null,
            "grid_auto_rows": null,
            "grid_column": null,
            "grid_gap": null,
            "grid_row": null,
            "grid_template_areas": null,
            "grid_template_columns": null,
            "grid_template_rows": null,
            "height": null,
            "justify_content": null,
            "justify_items": null,
            "left": null,
            "margin": null,
            "max_height": null,
            "max_width": null,
            "min_height": null,
            "min_width": null,
            "object_fit": null,
            "object_position": null,
            "order": null,
            "overflow": null,
            "overflow_x": null,
            "overflow_y": null,
            "padding": null,
            "right": null,
            "top": null,
            "visibility": null,
            "width": null
          }
        },
        "49f241e8009a4cbaa04b78a64c6fd1e4": {
          "model_module": "@jupyter-widgets/controls",
          "model_name": "DescriptionStyleModel",
          "model_module_version": "1.5.0",
          "state": {
            "_model_module": "@jupyter-widgets/controls",
            "_model_module_version": "1.5.0",
            "_model_name": "DescriptionStyleModel",
            "_view_count": null,
            "_view_module": "@jupyter-widgets/base",
            "_view_module_version": "1.2.0",
            "_view_name": "StyleView",
            "description_width": ""
          }
        },
        "93a0439d8dbf47d8839d1926a312f868": {
          "model_module": "@jupyter-widgets/base",
          "model_name": "LayoutModel",
          "model_module_version": "1.2.0",
          "state": {
            "_model_module": "@jupyter-widgets/base",
            "_model_module_version": "1.2.0",
            "_model_name": "LayoutModel",
            "_view_count": null,
            "_view_module": "@jupyter-widgets/base",
            "_view_module_version": "1.2.0",
            "_view_name": "LayoutView",
            "align_content": null,
            "align_items": null,
            "align_self": null,
            "border": null,
            "bottom": null,
            "display": null,
            "flex": null,
            "flex_flow": null,
            "grid_area": null,
            "grid_auto_columns": null,
            "grid_auto_flow": null,
            "grid_auto_rows": null,
            "grid_column": null,
            "grid_gap": null,
            "grid_row": null,
            "grid_template_areas": null,
            "grid_template_columns": null,
            "grid_template_rows": null,
            "height": null,
            "justify_content": null,
            "justify_items": null,
            "left": null,
            "margin": null,
            "max_height": null,
            "max_width": null,
            "min_height": null,
            "min_width": null,
            "object_fit": null,
            "object_position": null,
            "order": null,
            "overflow": null,
            "overflow_x": null,
            "overflow_y": null,
            "padding": null,
            "right": null,
            "top": null,
            "visibility": null,
            "width": null
          }
        },
        "d95d8ce0ae3440e5b0b7169d126925b9": {
          "model_module": "@jupyter-widgets/controls",
          "model_name": "SliderStyleModel",
          "model_module_version": "1.5.0",
          "state": {
            "_model_module": "@jupyter-widgets/controls",
            "_model_module_version": "1.5.0",
            "_model_name": "SliderStyleModel",
            "_view_count": null,
            "_view_module": "@jupyter-widgets/base",
            "_view_module_version": "1.2.0",
            "_view_name": "StyleView",
            "description_width": "",
            "handle_color": null
          }
        },
        "7d763ac5b986477c80ccaab47f409639": {
          "model_module": "@jupyter-widgets/base",
          "model_name": "LayoutModel",
          "model_module_version": "1.2.0",
          "state": {
            "_model_module": "@jupyter-widgets/base",
            "_model_module_version": "1.2.0",
            "_model_name": "LayoutModel",
            "_view_count": null,
            "_view_module": "@jupyter-widgets/base",
            "_view_module_version": "1.2.0",
            "_view_name": "LayoutView",
            "align_content": null,
            "align_items": null,
            "align_self": null,
            "border": null,
            "bottom": null,
            "display": null,
            "flex": null,
            "flex_flow": null,
            "grid_area": null,
            "grid_auto_columns": null,
            "grid_auto_flow": null,
            "grid_auto_rows": null,
            "grid_column": null,
            "grid_gap": null,
            "grid_row": null,
            "grid_template_areas": null,
            "grid_template_columns": null,
            "grid_template_rows": null,
            "height": null,
            "justify_content": null,
            "justify_items": null,
            "left": null,
            "margin": null,
            "max_height": null,
            "max_width": null,
            "min_height": null,
            "min_width": null,
            "object_fit": null,
            "object_position": null,
            "order": null,
            "overflow": null,
            "overflow_x": null,
            "overflow_y": null,
            "padding": null,
            "right": null,
            "top": null,
            "visibility": null,
            "width": null
          }
        },
        "68dce604347442eeb73447e081695364": {
          "model_module": "@jupyter-widgets/controls",
          "model_name": "DescriptionStyleModel",
          "model_module_version": "1.5.0",
          "state": {
            "_model_module": "@jupyter-widgets/controls",
            "_model_module_version": "1.5.0",
            "_model_name": "DescriptionStyleModel",
            "_view_count": null,
            "_view_module": "@jupyter-widgets/base",
            "_view_module_version": "1.2.0",
            "_view_name": "StyleView",
            "description_width": ""
          }
        },
        "1782c5041dcc4211a4db1bafb8844b0b": {
          "model_module": "@jupyter-widgets/base",
          "model_name": "LayoutModel",
          "model_module_version": "1.2.0",
          "state": {
            "_model_module": "@jupyter-widgets/base",
            "_model_module_version": "1.2.0",
            "_model_name": "LayoutModel",
            "_view_count": null,
            "_view_module": "@jupyter-widgets/base",
            "_view_module_version": "1.2.0",
            "_view_name": "LayoutView",
            "align_content": null,
            "align_items": null,
            "align_self": null,
            "border": null,
            "bottom": null,
            "display": null,
            "flex": null,
            "flex_flow": null,
            "grid_area": null,
            "grid_auto_columns": null,
            "grid_auto_flow": null,
            "grid_auto_rows": null,
            "grid_column": null,
            "grid_gap": null,
            "grid_row": null,
            "grid_template_areas": null,
            "grid_template_columns": null,
            "grid_template_rows": null,
            "height": null,
            "justify_content": null,
            "justify_items": null,
            "left": null,
            "margin": null,
            "max_height": null,
            "max_width": null,
            "min_height": null,
            "min_width": null,
            "object_fit": null,
            "object_position": null,
            "order": null,
            "overflow": null,
            "overflow_x": null,
            "overflow_y": null,
            "padding": null,
            "right": null,
            "top": null,
            "visibility": null,
            "width": null
          }
        },
        "6ef85d7498614dac8955f3dac862f229": {
          "model_module": "@jupyter-widgets/controls",
          "model_name": "SliderStyleModel",
          "model_module_version": "1.5.0",
          "state": {
            "_model_module": "@jupyter-widgets/controls",
            "_model_module_version": "1.5.0",
            "_model_name": "SliderStyleModel",
            "_view_count": null,
            "_view_module": "@jupyter-widgets/base",
            "_view_module_version": "1.2.0",
            "_view_name": "StyleView",
            "description_width": "",
            "handle_color": null
          }
        },
        "6d3ca61ed7e54ad294c9c786006c2372": {
          "model_module": "@jupyter-widgets/base",
          "model_name": "LayoutModel",
          "model_module_version": "1.2.0",
          "state": {
            "_model_module": "@jupyter-widgets/base",
            "_model_module_version": "1.2.0",
            "_model_name": "LayoutModel",
            "_view_count": null,
            "_view_module": "@jupyter-widgets/base",
            "_view_module_version": "1.2.0",
            "_view_name": "LayoutView",
            "align_content": null,
            "align_items": null,
            "align_self": null,
            "border": null,
            "bottom": null,
            "display": null,
            "flex": null,
            "flex_flow": null,
            "grid_area": null,
            "grid_auto_columns": null,
            "grid_auto_flow": null,
            "grid_auto_rows": null,
            "grid_column": null,
            "grid_gap": null,
            "grid_row": null,
            "grid_template_areas": null,
            "grid_template_columns": null,
            "grid_template_rows": null,
            "height": null,
            "justify_content": null,
            "justify_items": null,
            "left": null,
            "margin": null,
            "max_height": null,
            "max_width": null,
            "min_height": null,
            "min_width": null,
            "object_fit": null,
            "object_position": null,
            "order": null,
            "overflow": null,
            "overflow_x": null,
            "overflow_y": null,
            "padding": null,
            "right": null,
            "top": null,
            "visibility": null,
            "width": null
          }
        },
        "3d88bf67d6734b30acd7f85c614c695c": {
          "model_module": "@jupyter-widgets/controls",
          "model_name": "VBoxModel",
          "model_module_version": "1.5.0",
          "state": {
            "_dom_classes": [
              "widget-interact"
            ],
            "_model_module": "@jupyter-widgets/controls",
            "_model_module_version": "1.5.0",
            "_model_name": "VBoxModel",
            "_view_count": null,
            "_view_module": "@jupyter-widgets/controls",
            "_view_module_version": "1.5.0",
            "_view_name": "VBoxView",
            "box_style": "",
            "children": [
              "IPY_MODEL_2c01f08508974be68e83dc59c21d8dad",
              "IPY_MODEL_065a3a7310d9492ca0c24737ea53a0cc",
              "IPY_MODEL_fa0ea0513b324727ad414896caa4c499",
              "IPY_MODEL_04704a0d289c4906a9317940f7e7f08f"
            ],
            "layout": "IPY_MODEL_4359f8fa287c432fb9cea80f23062f36"
          }
        },
        "2c01f08508974be68e83dc59c21d8dad": {
          "model_module": "@jupyter-widgets/controls",
          "model_name": "IntSliderModel",
          "model_module_version": "1.5.0",
          "state": {
            "_dom_classes": [],
            "_model_module": "@jupyter-widgets/controls",
            "_model_module_version": "1.5.0",
            "_model_name": "IntSliderModel",
            "_view_count": null,
            "_view_module": "@jupyter-widgets/controls",
            "_view_module_version": "1.5.0",
            "_view_name": "IntSliderView",
            "continuous_update": true,
            "description": "tree_index",
            "description_tooltip": null,
            "disabled": false,
            "layout": "IPY_MODEL_620d0883d1214f929b0694010a5452a5",
            "max": 199,
            "min": 0,
            "orientation": "horizontal",
            "readout": true,
            "readout_format": "d",
            "step": 1,
            "style": "IPY_MODEL_92b1267c6f14449195d8d26e23d47f90",
            "value": 60
          }
        },
        "065a3a7310d9492ca0c24737ea53a0cc": {
          "model_module": "@jupyter-widgets/controls",
          "model_name": "SelectMultipleModel",
          "model_module_version": "1.5.0",
          "state": {
            "_dom_classes": [],
            "_model_module": "@jupyter-widgets/controls",
            "_model_module_version": "1.5.0",
            "_model_name": "SelectMultipleModel",
            "_options_labels": [
              "None",
              "split_gain",
              "internal_value",
              "internal_count",
              "internal_weight",
              "leaf_count",
              "leaf_weight",
              "data_percentage"
            ],
            "_view_count": null,
            "_view_module": "@jupyter-widgets/controls",
            "_view_module_version": "1.5.0",
            "_view_name": "SelectMultipleView",
            "description": "show_info",
            "description_tooltip": null,
            "disabled": false,
            "index": [
              0
            ],
            "layout": "IPY_MODEL_21b5e838a0cc49aeb900c6745fbba70b",
            "rows": 5,
            "style": "IPY_MODEL_06ce92f1fad54e18affb7740f5a521ba"
          }
        },
        "fa0ea0513b324727ad414896caa4c499": {
          "model_module": "@jupyter-widgets/controls",
          "model_name": "IntSliderModel",
          "model_module_version": "1.5.0",
          "state": {
            "_dom_classes": [],
            "_model_module": "@jupyter-widgets/controls",
            "_model_module_version": "1.5.0",
            "_model_name": "IntSliderModel",
            "_view_count": null,
            "_view_module": "@jupyter-widgets/controls",
            "_view_module_version": "1.5.0",
            "_view_name": "IntSliderView",
            "continuous_update": true,
            "description": "precision",
            "description_tooltip": null,
            "disabled": false,
            "layout": "IPY_MODEL_84619ac209eb4fa484e214c1c19d7d98",
            "max": 10,
            "min": 0,
            "orientation": "horizontal",
            "readout": true,
            "readout_format": "d",
            "step": 1,
            "style": "IPY_MODEL_61a91df60a8444359f272eced50a2ac0",
            "value": 3
          }
        },
        "04704a0d289c4906a9317940f7e7f08f": {
          "model_module": "@jupyter-widgets/output",
          "model_name": "OutputModel",
          "model_module_version": "1.0.0",
          "state": {
            "_dom_classes": [],
            "_model_module": "@jupyter-widgets/output",
            "_model_module_version": "1.0.0",
            "_model_name": "OutputModel",
            "_view_count": null,
            "_view_module": "@jupyter-widgets/output",
            "_view_module_version": "1.0.0",
            "_view_name": "OutputView",
            "layout": "IPY_MODEL_ff5900e6552a4162b40a136f581cb77b",
            "msg_id": "",
            "outputs": [
              {
                "output_type": "display_data",
                "data": {
                  "text/plain": "<graphviz.dot.Digraph at 0x7f78ab736890>",
                  "image/svg+xml": "<?xml version=\"1.0\" encoding=\"UTF-8\" standalone=\"no\"?>\n<!DOCTYPE svg PUBLIC \"-//W3C//DTD SVG 1.1//EN\"\n \"http://www.w3.org/Graphics/SVG/1.1/DTD/svg11.dtd\">\n<!-- Generated by graphviz version 2.40.1 (20161225.0304)\n -->\n<!-- Title: %3 Pages: 1 -->\n<svg width=\"525pt\" height=\"271pt\"\n viewBox=\"0.00 0.00 525.13 271.22\" xmlns=\"http://www.w3.org/2000/svg\" xmlns:xlink=\"http://www.w3.org/1999/xlink\">\n<g id=\"graph0\" class=\"graph\" transform=\"scale(1 1) rotate(0) translate(4 267.2203)\">\n<title>%3</title>\n<polygon fill=\"#ffffff\" stroke=\"transparent\" points=\"-4,4 -4,-267.2203 521.132,-267.2203 521.132,4 -4,4\"/>\n<!-- split0 -->\n<g id=\"node1\" class=\"node\">\n<title>split0</title>\n<ellipse fill=\"none\" stroke=\"#000000\" cx=\"130.1076\" cy=\"-236.3503\" rx=\"130.2154\" ry=\"26.7407\"/>\n<text text-anchor=\"middle\" x=\"130.1076\" y=\"-240.1503\" font-family=\"Times,serif\" font-size=\"14.00\" fill=\"#000000\">split_feature_name: MaxTide</text>\n<text text-anchor=\"middle\" x=\"130.1076\" y=\"-225.1503\" font-family=\"Times,serif\" font-size=\"14.00\" fill=\"#000000\">threshold: 0.000</text>\n</g>\n<!-- leaf0 -->\n<g id=\"node2\" class=\"node\">\n<title>leaf0</title>\n<ellipse fill=\"none\" stroke=\"#000000\" cx=\"110.1076\" cy=\"-131.6102\" rx=\"85.6199\" ry=\"26.7407\"/>\n<text text-anchor=\"middle\" x=\"110.1076\" y=\"-135.4102\" font-family=\"Times,serif\" font-size=\"14.00\" fill=\"#000000\">leaf_index: 0</text>\n<text text-anchor=\"middle\" x=\"110.1076\" y=\"-120.4102\" font-family=\"Times,serif\" font-size=\"14.00\" fill=\"#000000\">leaf_value: &#45;0.006</text>\n</g>\n<!-- split0&#45;&gt;leaf0 -->\n<g id=\"edge1\" class=\"edge\">\n<title>split0&#45;&gt;leaf0</title>\n<path fill=\"none\" stroke=\"#000000\" d=\"M124.9572,-209.3771C122.5776,-196.9155 119.7147,-181.9225 117.1403,-168.4403\"/>\n<polygon fill=\"#000000\" stroke=\"#000000\" points=\"120.5543,-167.658 115.2407,-158.4919 113.6785,-168.971 120.5543,-167.658\"/>\n<text text-anchor=\"middle\" x=\"130.6076\" y=\"-180.2802\" font-family=\"Times,serif\" font-size=\"14.00\" fill=\"#000000\">&lt;=</text>\n</g>\n<!-- split1 -->\n<g id=\"node3\" class=\"node\">\n<title>split1</title>\n<ellipse fill=\"none\" stroke=\"#000000\" cx=\"344.1076\" cy=\"-131.6102\" rx=\"130.2154\" ry=\"26.7407\"/>\n<text text-anchor=\"middle\" x=\"344.1076\" y=\"-135.4102\" font-family=\"Times,serif\" font-size=\"14.00\" fill=\"#000000\">split_feature_name: MaxTide</text>\n<text text-anchor=\"middle\" x=\"344.1076\" y=\"-120.4102\" font-family=\"Times,serif\" font-size=\"14.00\" fill=\"#000000\">threshold: 0.589</text>\n</g>\n<!-- split0&#45;&gt;split1 -->\n<g id=\"edge4\" class=\"edge\">\n<title>split0&#45;&gt;split1</title>\n<path fill=\"none\" stroke=\"#000000\" d=\"M180.8227,-211.5283C211.8914,-196.3221 251.8108,-176.7839 284.4017,-160.8326\"/>\n<polygon fill=\"#000000\" stroke=\"#000000\" points=\"285.943,-163.975 293.3863,-156.4352 282.8657,-157.6877 285.943,-163.975\"/>\n<text text-anchor=\"middle\" x=\"254.6076\" y=\"-180.2802\" font-family=\"Times,serif\" font-size=\"14.00\" fill=\"#000000\">&gt;</text>\n</g>\n<!-- leaf1 -->\n<g id=\"node4\" class=\"node\">\n<title>leaf1</title>\n<ellipse fill=\"none\" stroke=\"#000000\" cx=\"253.1076\" cy=\"-26.8701\" rx=\"82.0488\" ry=\"26.7407\"/>\n<text text-anchor=\"middle\" x=\"253.1076\" y=\"-30.6701\" font-family=\"Times,serif\" font-size=\"14.00\" fill=\"#000000\">leaf_index: 1</text>\n<text text-anchor=\"middle\" x=\"253.1076\" y=\"-15.6701\" font-family=\"Times,serif\" font-size=\"14.00\" fill=\"#000000\">leaf_value: 0.001</text>\n</g>\n<!-- split1&#45;&gt;leaf1 -->\n<g id=\"edge2\" class=\"edge\">\n<title>split1&#45;&gt;leaf1</title>\n<path fill=\"none\" stroke=\"#000000\" d=\"M320.909,-104.9088C309.1794,-91.4081 294.8228,-74.8838 282.345,-60.522\"/>\n<polygon fill=\"#000000\" stroke=\"#000000\" points=\"284.8356,-58.0521 275.6349,-52.7987 279.5514,-62.6431 284.8356,-58.0521\"/>\n<text text-anchor=\"middle\" x=\"312.6076\" y=\"-75.5401\" font-family=\"Times,serif\" font-size=\"14.00\" fill=\"#000000\">&lt;=</text>\n</g>\n<!-- leaf2 -->\n<g id=\"node5\" class=\"node\">\n<title>leaf2</title>\n<ellipse fill=\"none\" stroke=\"#000000\" cx=\"435.1076\" cy=\"-26.8701\" rx=\"82.0488\" ry=\"26.7407\"/>\n<text text-anchor=\"middle\" x=\"435.1076\" y=\"-30.6701\" font-family=\"Times,serif\" font-size=\"14.00\" fill=\"#000000\">leaf_index: 2</text>\n<text text-anchor=\"middle\" x=\"435.1076\" y=\"-15.6701\" font-family=\"Times,serif\" font-size=\"14.00\" fill=\"#000000\">leaf_value: 0.007</text>\n</g>\n<!-- split1&#45;&gt;leaf2 -->\n<g id=\"edge3\" class=\"edge\">\n<title>split1&#45;&gt;leaf2</title>\n<path fill=\"none\" stroke=\"#000000\" d=\"M367.3062,-104.9088C379.0359,-91.4081 393.3925,-74.8838 405.8702,-60.522\"/>\n<polygon fill=\"#000000\" stroke=\"#000000\" points=\"408.6639,-62.6431 412.5804,-52.7987 403.3797,-58.0521 408.6639,-62.6431\"/>\n<text text-anchor=\"middle\" x=\"398.6076\" y=\"-75.5401\" font-family=\"Times,serif\" font-size=\"14.00\" fill=\"#000000\">&gt;</text>\n</g>\n</g>\n</svg>\n"
                },
                "metadata": {}
              }
            ]
          }
        },
        "4359f8fa287c432fb9cea80f23062f36": {
          "model_module": "@jupyter-widgets/base",
          "model_name": "LayoutModel",
          "model_module_version": "1.2.0",
          "state": {
            "_model_module": "@jupyter-widgets/base",
            "_model_module_version": "1.2.0",
            "_model_name": "LayoutModel",
            "_view_count": null,
            "_view_module": "@jupyter-widgets/base",
            "_view_module_version": "1.2.0",
            "_view_name": "LayoutView",
            "align_content": null,
            "align_items": null,
            "align_self": null,
            "border": null,
            "bottom": null,
            "display": null,
            "flex": null,
            "flex_flow": null,
            "grid_area": null,
            "grid_auto_columns": null,
            "grid_auto_flow": null,
            "grid_auto_rows": null,
            "grid_column": null,
            "grid_gap": null,
            "grid_row": null,
            "grid_template_areas": null,
            "grid_template_columns": null,
            "grid_template_rows": null,
            "height": null,
            "justify_content": null,
            "justify_items": null,
            "left": null,
            "margin": null,
            "max_height": null,
            "max_width": null,
            "min_height": null,
            "min_width": null,
            "object_fit": null,
            "object_position": null,
            "order": null,
            "overflow": null,
            "overflow_x": null,
            "overflow_y": null,
            "padding": null,
            "right": null,
            "top": null,
            "visibility": null,
            "width": null
          }
        },
        "620d0883d1214f929b0694010a5452a5": {
          "model_module": "@jupyter-widgets/base",
          "model_name": "LayoutModel",
          "model_module_version": "1.2.0",
          "state": {
            "_model_module": "@jupyter-widgets/base",
            "_model_module_version": "1.2.0",
            "_model_name": "LayoutModel",
            "_view_count": null,
            "_view_module": "@jupyter-widgets/base",
            "_view_module_version": "1.2.0",
            "_view_name": "LayoutView",
            "align_content": null,
            "align_items": null,
            "align_self": null,
            "border": null,
            "bottom": null,
            "display": null,
            "flex": null,
            "flex_flow": null,
            "grid_area": null,
            "grid_auto_columns": null,
            "grid_auto_flow": null,
            "grid_auto_rows": null,
            "grid_column": null,
            "grid_gap": null,
            "grid_row": null,
            "grid_template_areas": null,
            "grid_template_columns": null,
            "grid_template_rows": null,
            "height": null,
            "justify_content": null,
            "justify_items": null,
            "left": null,
            "margin": null,
            "max_height": null,
            "max_width": null,
            "min_height": null,
            "min_width": null,
            "object_fit": null,
            "object_position": null,
            "order": null,
            "overflow": null,
            "overflow_x": null,
            "overflow_y": null,
            "padding": null,
            "right": null,
            "top": null,
            "visibility": null,
            "width": null
          }
        },
        "92b1267c6f14449195d8d26e23d47f90": {
          "model_module": "@jupyter-widgets/controls",
          "model_name": "SliderStyleModel",
          "model_module_version": "1.5.0",
          "state": {
            "_model_module": "@jupyter-widgets/controls",
            "_model_module_version": "1.5.0",
            "_model_name": "SliderStyleModel",
            "_view_count": null,
            "_view_module": "@jupyter-widgets/base",
            "_view_module_version": "1.2.0",
            "_view_name": "StyleView",
            "description_width": "",
            "handle_color": null
          }
        },
        "21b5e838a0cc49aeb900c6745fbba70b": {
          "model_module": "@jupyter-widgets/base",
          "model_name": "LayoutModel",
          "model_module_version": "1.2.0",
          "state": {
            "_model_module": "@jupyter-widgets/base",
            "_model_module_version": "1.2.0",
            "_model_name": "LayoutModel",
            "_view_count": null,
            "_view_module": "@jupyter-widgets/base",
            "_view_module_version": "1.2.0",
            "_view_name": "LayoutView",
            "align_content": null,
            "align_items": null,
            "align_self": null,
            "border": null,
            "bottom": null,
            "display": null,
            "flex": null,
            "flex_flow": null,
            "grid_area": null,
            "grid_auto_columns": null,
            "grid_auto_flow": null,
            "grid_auto_rows": null,
            "grid_column": null,
            "grid_gap": null,
            "grid_row": null,
            "grid_template_areas": null,
            "grid_template_columns": null,
            "grid_template_rows": null,
            "height": null,
            "justify_content": null,
            "justify_items": null,
            "left": null,
            "margin": null,
            "max_height": null,
            "max_width": null,
            "min_height": null,
            "min_width": null,
            "object_fit": null,
            "object_position": null,
            "order": null,
            "overflow": null,
            "overflow_x": null,
            "overflow_y": null,
            "padding": null,
            "right": null,
            "top": null,
            "visibility": null,
            "width": null
          }
        },
        "06ce92f1fad54e18affb7740f5a521ba": {
          "model_module": "@jupyter-widgets/controls",
          "model_name": "DescriptionStyleModel",
          "model_module_version": "1.5.0",
          "state": {
            "_model_module": "@jupyter-widgets/controls",
            "_model_module_version": "1.5.0",
            "_model_name": "DescriptionStyleModel",
            "_view_count": null,
            "_view_module": "@jupyter-widgets/base",
            "_view_module_version": "1.2.0",
            "_view_name": "StyleView",
            "description_width": ""
          }
        },
        "84619ac209eb4fa484e214c1c19d7d98": {
          "model_module": "@jupyter-widgets/base",
          "model_name": "LayoutModel",
          "model_module_version": "1.2.0",
          "state": {
            "_model_module": "@jupyter-widgets/base",
            "_model_module_version": "1.2.0",
            "_model_name": "LayoutModel",
            "_view_count": null,
            "_view_module": "@jupyter-widgets/base",
            "_view_module_version": "1.2.0",
            "_view_name": "LayoutView",
            "align_content": null,
            "align_items": null,
            "align_self": null,
            "border": null,
            "bottom": null,
            "display": null,
            "flex": null,
            "flex_flow": null,
            "grid_area": null,
            "grid_auto_columns": null,
            "grid_auto_flow": null,
            "grid_auto_rows": null,
            "grid_column": null,
            "grid_gap": null,
            "grid_row": null,
            "grid_template_areas": null,
            "grid_template_columns": null,
            "grid_template_rows": null,
            "height": null,
            "justify_content": null,
            "justify_items": null,
            "left": null,
            "margin": null,
            "max_height": null,
            "max_width": null,
            "min_height": null,
            "min_width": null,
            "object_fit": null,
            "object_position": null,
            "order": null,
            "overflow": null,
            "overflow_x": null,
            "overflow_y": null,
            "padding": null,
            "right": null,
            "top": null,
            "visibility": null,
            "width": null
          }
        },
        "61a91df60a8444359f272eced50a2ac0": {
          "model_module": "@jupyter-widgets/controls",
          "model_name": "SliderStyleModel",
          "model_module_version": "1.5.0",
          "state": {
            "_model_module": "@jupyter-widgets/controls",
            "_model_module_version": "1.5.0",
            "_model_name": "SliderStyleModel",
            "_view_count": null,
            "_view_module": "@jupyter-widgets/base",
            "_view_module_version": "1.2.0",
            "_view_name": "StyleView",
            "description_width": "",
            "handle_color": null
          }
        },
        "ff5900e6552a4162b40a136f581cb77b": {
          "model_module": "@jupyter-widgets/base",
          "model_name": "LayoutModel",
          "model_module_version": "1.2.0",
          "state": {
            "_model_module": "@jupyter-widgets/base",
            "_model_module_version": "1.2.0",
            "_model_name": "LayoutModel",
            "_view_count": null,
            "_view_module": "@jupyter-widgets/base",
            "_view_module_version": "1.2.0",
            "_view_name": "LayoutView",
            "align_content": null,
            "align_items": null,
            "align_self": null,
            "border": null,
            "bottom": null,
            "display": null,
            "flex": null,
            "flex_flow": null,
            "grid_area": null,
            "grid_auto_columns": null,
            "grid_auto_flow": null,
            "grid_auto_rows": null,
            "grid_column": null,
            "grid_gap": null,
            "grid_row": null,
            "grid_template_areas": null,
            "grid_template_columns": null,
            "grid_template_rows": null,
            "height": null,
            "justify_content": null,
            "justify_items": null,
            "left": null,
            "margin": null,
            "max_height": null,
            "max_width": null,
            "min_height": null,
            "min_width": null,
            "object_fit": null,
            "object_position": null,
            "order": null,
            "overflow": null,
            "overflow_x": null,
            "overflow_y": null,
            "padding": null,
            "right": null,
            "top": null,
            "visibility": null,
            "width": null
          }
        }
      }
    }
  },
  "cells": [
    {
      "cell_type": "markdown",
      "metadata": {
        "id": "view-in-github",
        "colab_type": "text"
      },
      "source": [
        "<a href=\"https://colab.research.google.com/github/fact-h/Graduation-project/blob/main/LightGBM_v1_1.ipynb\" target=\"_parent\"><img src=\"https://colab.research.google.com/assets/colab-badge.svg\" alt=\"Open In Colab\"/></a>"
      ]
    },
    {
      "cell_type": "markdown",
      "source": [
        "# 基于机器学习的城市洪涝快速模拟研究\n",
        "\n",
        "- 目标：根据降雨和潮位的序列信息预测某点的最大水深\n",
        "- 使用的机器学习算法：[LightGBM](https://lightgbm.readthedocs.io/en/latest/)\n",
        "- 模型输入特征：10个降雨和潮位特征\n",
        "- 模型输出变量：最大水深\n",
        "\n"
      ],
      "metadata": {
        "id": "gzH3KpmQn0dZ"
      }
    },
    {
      "cell_type": "markdown",
      "source": [
        "## 导入相关的模块"
      ],
      "metadata": {
        "id": "6lKEorfyoskp"
      }
    },
    {
      "cell_type": "code",
      "source": [
        "import numpy as np\n",
        "import pandas as pd\n",
        "import lightgbm as lgb\n",
        "from sklearn.metrics import mean_squared_error\n",
        "from sklearn.metrics import r2_score\n",
        "from sklearn.model_selection import GridSearchCV\n",
        "from matplotlib import pyplot as plt\n",
        "\n",
        "%matplotlib inline\n",
        "\n",
        "try:\n",
        "    # To enable interactive mode you should install ipywidgets\n",
        "    # https://github.com/jupyter-widgets/ipywidgets\n",
        "    from ipywidgets import interact, SelectMultiple\n",
        "    INTERACTIVE = True\n",
        "except ImportError:\n",
        "    INTERACTIVE = False"
      ],
      "metadata": {
        "id": "U90CtmSporFv"
      },
      "execution_count": 1,
      "outputs": []
    },
    {
      "cell_type": "markdown",
      "source": [
        "## 数据预处理"
      ],
      "metadata": {
        "id": "7HyySrtlDR-s"
      }
    },
    {
      "cell_type": "markdown",
      "source": [
        "### 加载数据集\n",
        "先上传两个CSV数据文件：\n",
        "- `E:\\毕业设计\\数据\\模型训练数据\\X.csv`\n",
        "- `E:\\毕业设计\\数据\\模型训练数据\\y.csv`"
      ],
      "metadata": {
        "id": "haDS6XW6pTkn"
      }
    },
    {
      "cell_type": "code",
      "source": [
        "df_X_raw = pd.read_csv('/content/X.csv')\n",
        "df_y = pd.read_csv('/content/y.csv')"
      ],
      "metadata": {
        "id": "Uaw97iSEVFLG"
      },
      "execution_count": 2,
      "outputs": []
    },
    {
      "cell_type": "markdown",
      "source": [
        "## 提取特征\n",
        "10个特征：\n",
        "- 6个降雨相关的特征：**累计降雨量 降雨重现期 降雨峰值 最大2h降雨量 最大3h降雨量 峰值前累计降雨量**\n",
        "- 4个潮位相关的特征：**最大潮位 潮位重现期 平均潮位 最大5h平均潮位**"
      ],
      "metadata": {
        "id": "UVMyRIVcBhlB"
      }
    },
    {
      "cell_type": "markdown",
      "source": [
        "### 创建降雨的特征DataFrame: `rain_feature_df`和创建潮位的有关特征DataFrame: `tide_feature_df`"
      ],
      "metadata": {
        "id": "UF-Sfm7XQrNo"
      }
    },
    {
      "cell_type": "code",
      "source": [
        "# 新建一个降雨DataFrame\n",
        "rain_feature_df = pd.DataFrame()\n",
        "\n",
        "# 添加累计降雨量\n",
        "rain_feature_df['CumRainfall'] = df_X_raw.iloc[:,2:9].sum()\n",
        "\n",
        "# 添加降雨重现期\n",
        "rain_feature_df['RainRP'] = [5,10,20,35,50,75,100]\n",
        "\n",
        "# 添加降雨峰值\n",
        "rain_feature_df['RainfallPeak'] = df_X_raw.iloc[:,2:9].max()\n",
        "\n",
        "# 添加最大2h降雨量\n",
        "rain_feature_df['MaxRainfall2h'] = np.add(df_X_raw.iloc[0:-2,2:9], df_X_raw.iloc[1:-1,2:9]).max()\n",
        "\n",
        "# 添加最大3h降雨量\n",
        "rain_feature_df['MaxRainfall3h'] = np.add(np.add(df_X_raw.iloc[0:-3,2:9],df_X_raw.iloc[1:-2,2:9]),df_X_raw.iloc[2:-1,2:9]).max()\n",
        "\n",
        "# 添加峰值前累计降雨量\n",
        "peak_index = df_X_raw[df_X_raw.iloc[:,2]==rain_feature_df['RainfallPeak'][0]].index.tolist()[0]\n",
        "rain_feature_df['CumRainfallBeforePeak'] = df_X_raw.iloc[0:peak_index,2:9].sum()\n",
        "\n",
        "\n",
        "\n",
        "# 创建一个从潮位中提取的特征DataFrame\n",
        "tide_feature_df = pd.DataFrame()\n",
        "\n",
        "# 添加最大潮位\n",
        "tide_feature_df['MaxTide'] = df_X_raw.iloc[:,9:].max()\n",
        "\n",
        "# 添加潮位重现期\n",
        "tide_feature_df['TideRP'] = [5,10,20,35,50,75,100]\n",
        "\n",
        "# 添加平均潮位\n",
        "tide_feature_df['MeanTide'] = df_X_raw.iloc[:,9:].mean()\n",
        "\n",
        "# 添加最大5h平均潮位\n",
        "tide_feature_df['MaxTide5h'] = np.add(\n",
        "    np.add(np.add(\n",
        "        np.add(df_X_raw.iloc[0:-5,9:],df_X_raw.iloc[1:-4,9:]),\n",
        "        df_X_raw.iloc[2:-3,9:]),df_X_raw.iloc[3:-2,9:]),\n",
        "        df_X_raw.iloc[4:-1,9:]).max()/5"
      ],
      "metadata": {
        "colab": {
          "base_uri": "https://localhost:8080/"
        },
        "id": "7P0IVfnpCHZu",
        "outputId": "6a743f11-6cff-441c-c0a2-47fc74c582ea"
      },
      "execution_count": 3,
      "outputs": [
        {
          "output_type": "stream",
          "name": "stderr",
          "text": [
            "/usr/local/lib/python3.7/dist-packages/ipykernel_launcher.py:14: FutureWarning: Calling a ufunc on non-aligned DataFrames (or DataFrame/Series combination). Currently, the indices are ignored and the result takes the index/columns of the first DataFrame. In the future , the DataFrames/Series will be aligned before applying the ufunc.\n",
            "Convert one of the arguments to a NumPy array (eg 'ufunc(df1, np.asarray(df2)') to keep the current behaviour, or align manually (eg 'df1, df2 = df1.align(df2)') before passing to the ufunc to obtain the future behaviour and silence this warning.\n",
            "  \n",
            "/usr/local/lib/python3.7/dist-packages/ipykernel_launcher.py:17: FutureWarning: Calling a ufunc on non-aligned DataFrames (or DataFrame/Series combination). Currently, the indices are ignored and the result takes the index/columns of the first DataFrame. In the future , the DataFrames/Series will be aligned before applying the ufunc.\n",
            "Convert one of the arguments to a NumPy array (eg 'ufunc(df1, np.asarray(df2)') to keep the current behaviour, or align manually (eg 'df1, df2 = df1.align(df2)') before passing to the ufunc to obtain the future behaviour and silence this warning.\n",
            "/usr/local/lib/python3.7/dist-packages/ipykernel_launcher.py:40: FutureWarning: Calling a ufunc on non-aligned DataFrames (or DataFrame/Series combination). Currently, the indices are ignored and the result takes the index/columns of the first DataFrame. In the future , the DataFrames/Series will be aligned before applying the ufunc.\n",
            "Convert one of the arguments to a NumPy array (eg 'ufunc(df1, np.asarray(df2)') to keep the current behaviour, or align manually (eg 'df1, df2 = df1.align(df2)') before passing to the ufunc to obtain the future behaviour and silence this warning.\n",
            "/usr/local/lib/python3.7/dist-packages/ipykernel_launcher.py:41: FutureWarning: Calling a ufunc on non-aligned DataFrames (or DataFrame/Series combination). Currently, the indices are ignored and the result takes the index/columns of the first DataFrame. In the future , the DataFrames/Series will be aligned before applying the ufunc.\n",
            "Convert one of the arguments to a NumPy array (eg 'ufunc(df1, np.asarray(df2)') to keep the current behaviour, or align manually (eg 'df1, df2 = df1.align(df2)') before passing to the ufunc to obtain the future behaviour and silence this warning.\n",
            "/usr/local/lib/python3.7/dist-packages/ipykernel_launcher.py:42: FutureWarning: Calling a ufunc on non-aligned DataFrames (or DataFrame/Series combination). Currently, the indices are ignored and the result takes the index/columns of the first DataFrame. In the future , the DataFrames/Series will be aligned before applying the ufunc.\n",
            "Convert one of the arguments to a NumPy array (eg 'ufunc(df1, np.asarray(df2)') to keep the current behaviour, or align manually (eg 'df1, df2 = df1.align(df2)') before passing to the ufunc to obtain the future behaviour and silence this warning.\n"
          ]
        }
      ]
    },
    {
      "cell_type": "markdown",
      "source": [
        "## 混合降雨和潮位数据"
      ],
      "metadata": {
        "id": "htT7L6KWW4GD"
      }
    },
    {
      "cell_type": "markdown",
      "source": [
        "### 重置索引，将`rainx`或`tidex`换为数字"
      ],
      "metadata": {
        "id": "lY2pyop_HVwx"
      }
    },
    {
      "cell_type": "code",
      "source": [
        "# 重置索引，将索引换为数字形式，方便后面数据组合\n",
        "rain_feature_df = rain_feature_df.reset_index(drop=True) # 重置索引后将原索引所在的列删除\n",
        "tide_feature_df = tide_feature_df.reset_index(drop=True)"
      ],
      "metadata": {
        "id": "1-DIDLw1XAEH"
      },
      "execution_count": 4,
      "outputs": []
    },
    {
      "cell_type": "markdown",
      "source": [
        "### 将降雨特征、潮位特征和最大水深组合在一起，形成49条数据样本\n",
        "先将降雨的每一行复制7遍，再用`concat`方法将7组潮位数据首尾相连，即相当于整个复制7遍。\n",
        "\n",
        "然后使用`join`方法连接降雨和潮位，每个重现期的降雨对应7个重现期的潮位。最后再将水深数据加上，得到总的数据集`df_data`。"
      ],
      "metadata": {
        "id": "vEhCoSm9HxTw"
      }
    },
    {
      "cell_type": "code",
      "source": [
        "# 将数据的每一行复制7遍\n",
        "rain_repeat_df = pd.DataFrame(np.repeat(rain_feature_df.values,tide_feature_df.shape[0],axis=0)) \n",
        "rain_repeat_df.columns = rain_feature_df.columns\n",
        "# 将所有数据复制7遍\n",
        "tide_concat_df = pd.concat([tide_feature_df, tide_feature_df, tide_feature_df, tide_feature_df, tide_feature_df, tide_feature_df, tide_feature_df]).reset_index(drop=True) \n",
        "\n",
        "# 组合降雨和潮位特征数据\n",
        "df_X = rain_repeat_df.join(tide_concat_df)\n",
        "# 添加输出变量-水深\n",
        "df_data = df_X.join(df_y['depth'])\n",
        "df_data.head()"
      ],
      "metadata": {
        "id": "1vTDD7sC1DCG",
        "colab": {
          "base_uri": "https://localhost:8080/",
          "height": 250
        },
        "outputId": "aeb77d8b-8247-44bf-9d6a-1300359f1643"
      },
      "execution_count": 5,
      "outputs": [
        {
          "output_type": "execute_result",
          "data": {
            "text/plain": [
              "   CumRainfall  RainRP  RainfallPeak  MaxRainfall2h  MaxRainfall3h  \\\n",
              "0   199.101882     5.0     56.394737      86.377019      99.455229   \n",
              "1   199.101882     5.0     56.394737      86.377019      99.455229   \n",
              "2   199.101882     5.0     56.394737      86.377019      99.455229   \n",
              "3   199.101882     5.0     56.394737      86.377019      99.455229   \n",
              "4   199.101882     5.0     56.394737      86.377019      99.455229   \n",
              "\n",
              "   CumRainfallBeforePeak   MaxTide  TideRP  MeanTide  MaxTide5h  depth  \n",
              "0              35.806351  2.898900       5  1.872049   2.579491   0.34  \n",
              "1              35.806351  3.159600      10  2.040403   2.811467   0.39  \n",
              "2              35.806351  3.400900      20  2.196230   3.026179   0.43  \n",
              "3              35.806351  3.585497      35  2.315439   3.190437   0.48  \n",
              "4              35.806351  3.701200      50  2.390157   3.293392   0.53  "
            ],
            "text/html": [
              "\n",
              "  <div id=\"df-f806f968-c37c-401f-b357-94ab4721edf8\">\n",
              "    <div class=\"colab-df-container\">\n",
              "      <div>\n",
              "<style scoped>\n",
              "    .dataframe tbody tr th:only-of-type {\n",
              "        vertical-align: middle;\n",
              "    }\n",
              "\n",
              "    .dataframe tbody tr th {\n",
              "        vertical-align: top;\n",
              "    }\n",
              "\n",
              "    .dataframe thead th {\n",
              "        text-align: right;\n",
              "    }\n",
              "</style>\n",
              "<table border=\"1\" class=\"dataframe\">\n",
              "  <thead>\n",
              "    <tr style=\"text-align: right;\">\n",
              "      <th></th>\n",
              "      <th>CumRainfall</th>\n",
              "      <th>RainRP</th>\n",
              "      <th>RainfallPeak</th>\n",
              "      <th>MaxRainfall2h</th>\n",
              "      <th>MaxRainfall3h</th>\n",
              "      <th>CumRainfallBeforePeak</th>\n",
              "      <th>MaxTide</th>\n",
              "      <th>TideRP</th>\n",
              "      <th>MeanTide</th>\n",
              "      <th>MaxTide5h</th>\n",
              "      <th>depth</th>\n",
              "    </tr>\n",
              "  </thead>\n",
              "  <tbody>\n",
              "    <tr>\n",
              "      <th>0</th>\n",
              "      <td>199.101882</td>\n",
              "      <td>5.0</td>\n",
              "      <td>56.394737</td>\n",
              "      <td>86.377019</td>\n",
              "      <td>99.455229</td>\n",
              "      <td>35.806351</td>\n",
              "      <td>2.898900</td>\n",
              "      <td>5</td>\n",
              "      <td>1.872049</td>\n",
              "      <td>2.579491</td>\n",
              "      <td>0.34</td>\n",
              "    </tr>\n",
              "    <tr>\n",
              "      <th>1</th>\n",
              "      <td>199.101882</td>\n",
              "      <td>5.0</td>\n",
              "      <td>56.394737</td>\n",
              "      <td>86.377019</td>\n",
              "      <td>99.455229</td>\n",
              "      <td>35.806351</td>\n",
              "      <td>3.159600</td>\n",
              "      <td>10</td>\n",
              "      <td>2.040403</td>\n",
              "      <td>2.811467</td>\n",
              "      <td>0.39</td>\n",
              "    </tr>\n",
              "    <tr>\n",
              "      <th>2</th>\n",
              "      <td>199.101882</td>\n",
              "      <td>5.0</td>\n",
              "      <td>56.394737</td>\n",
              "      <td>86.377019</td>\n",
              "      <td>99.455229</td>\n",
              "      <td>35.806351</td>\n",
              "      <td>3.400900</td>\n",
              "      <td>20</td>\n",
              "      <td>2.196230</td>\n",
              "      <td>3.026179</td>\n",
              "      <td>0.43</td>\n",
              "    </tr>\n",
              "    <tr>\n",
              "      <th>3</th>\n",
              "      <td>199.101882</td>\n",
              "      <td>5.0</td>\n",
              "      <td>56.394737</td>\n",
              "      <td>86.377019</td>\n",
              "      <td>99.455229</td>\n",
              "      <td>35.806351</td>\n",
              "      <td>3.585497</td>\n",
              "      <td>35</td>\n",
              "      <td>2.315439</td>\n",
              "      <td>3.190437</td>\n",
              "      <td>0.48</td>\n",
              "    </tr>\n",
              "    <tr>\n",
              "      <th>4</th>\n",
              "      <td>199.101882</td>\n",
              "      <td>5.0</td>\n",
              "      <td>56.394737</td>\n",
              "      <td>86.377019</td>\n",
              "      <td>99.455229</td>\n",
              "      <td>35.806351</td>\n",
              "      <td>3.701200</td>\n",
              "      <td>50</td>\n",
              "      <td>2.390157</td>\n",
              "      <td>3.293392</td>\n",
              "      <td>0.53</td>\n",
              "    </tr>\n",
              "  </tbody>\n",
              "</table>\n",
              "</div>\n",
              "      <button class=\"colab-df-convert\" onclick=\"convertToInteractive('df-f806f968-c37c-401f-b357-94ab4721edf8')\"\n",
              "              title=\"Convert this dataframe to an interactive table.\"\n",
              "              style=\"display:none;\">\n",
              "        \n",
              "  <svg xmlns=\"http://www.w3.org/2000/svg\" height=\"24px\"viewBox=\"0 0 24 24\"\n",
              "       width=\"24px\">\n",
              "    <path d=\"M0 0h24v24H0V0z\" fill=\"none\"/>\n",
              "    <path d=\"M18.56 5.44l.94 2.06.94-2.06 2.06-.94-2.06-.94-.94-2.06-.94 2.06-2.06.94zm-11 1L8.5 8.5l.94-2.06 2.06-.94-2.06-.94L8.5 2.5l-.94 2.06-2.06.94zm10 10l.94 2.06.94-2.06 2.06-.94-2.06-.94-.94-2.06-.94 2.06-2.06.94z\"/><path d=\"M17.41 7.96l-1.37-1.37c-.4-.4-.92-.59-1.43-.59-.52 0-1.04.2-1.43.59L10.3 9.45l-7.72 7.72c-.78.78-.78 2.05 0 2.83L4 21.41c.39.39.9.59 1.41.59.51 0 1.02-.2 1.41-.59l7.78-7.78 2.81-2.81c.8-.78.8-2.07 0-2.86zM5.41 20L4 18.59l7.72-7.72 1.47 1.35L5.41 20z\"/>\n",
              "  </svg>\n",
              "      </button>\n",
              "      \n",
              "  <style>\n",
              "    .colab-df-container {\n",
              "      display:flex;\n",
              "      flex-wrap:wrap;\n",
              "      gap: 12px;\n",
              "    }\n",
              "\n",
              "    .colab-df-convert {\n",
              "      background-color: #E8F0FE;\n",
              "      border: none;\n",
              "      border-radius: 50%;\n",
              "      cursor: pointer;\n",
              "      display: none;\n",
              "      fill: #1967D2;\n",
              "      height: 32px;\n",
              "      padding: 0 0 0 0;\n",
              "      width: 32px;\n",
              "    }\n",
              "\n",
              "    .colab-df-convert:hover {\n",
              "      background-color: #E2EBFA;\n",
              "      box-shadow: 0px 1px 2px rgba(60, 64, 67, 0.3), 0px 1px 3px 1px rgba(60, 64, 67, 0.15);\n",
              "      fill: #174EA6;\n",
              "    }\n",
              "\n",
              "    [theme=dark] .colab-df-convert {\n",
              "      background-color: #3B4455;\n",
              "      fill: #D2E3FC;\n",
              "    }\n",
              "\n",
              "    [theme=dark] .colab-df-convert:hover {\n",
              "      background-color: #434B5C;\n",
              "      box-shadow: 0px 1px 3px 1px rgba(0, 0, 0, 0.15);\n",
              "      filter: drop-shadow(0px 1px 2px rgba(0, 0, 0, 0.3));\n",
              "      fill: #FFFFFF;\n",
              "    }\n",
              "  </style>\n",
              "\n",
              "      <script>\n",
              "        const buttonEl =\n",
              "          document.querySelector('#df-f806f968-c37c-401f-b357-94ab4721edf8 button.colab-df-convert');\n",
              "        buttonEl.style.display =\n",
              "          google.colab.kernel.accessAllowed ? 'block' : 'none';\n",
              "\n",
              "        async function convertToInteractive(key) {\n",
              "          const element = document.querySelector('#df-f806f968-c37c-401f-b357-94ab4721edf8');\n",
              "          const dataTable =\n",
              "            await google.colab.kernel.invokeFunction('convertToInteractive',\n",
              "                                                     [key], {});\n",
              "          if (!dataTable) return;\n",
              "\n",
              "          const docLinkHtml = 'Like what you see? Visit the ' +\n",
              "            '<a target=\"_blank\" href=https://colab.research.google.com/notebooks/data_table.ipynb>data table notebook</a>'\n",
              "            + ' to learn more about interactive tables.';\n",
              "          element.innerHTML = '';\n",
              "          dataTable['output_type'] = 'display_data';\n",
              "          await google.colab.output.renderOutput(dataTable, element);\n",
              "          const docLink = document.createElement('div');\n",
              "          docLink.innerHTML = docLinkHtml;\n",
              "          element.appendChild(docLink);\n",
              "        }\n",
              "      </script>\n",
              "    </div>\n",
              "  </div>\n",
              "  "
            ]
          },
          "metadata": {},
          "execution_count": 5
        }
      ]
    },
    {
      "cell_type": "code",
      "source": [
        "# 归一化：z-score\n",
        "df_data_mean = df_data.mean()\n",
        "df_data_std = df_data.std()\n",
        "df_data_norm = (df_data - df_data.mean()) / df_data.std()\n",
        "df_data_norm"
      ],
      "metadata": {
        "id": "vKy4QfHkx4c8"
      },
      "execution_count": null,
      "outputs": []
    },
    {
      "cell_type": "code",
      "source": [
        "# 加入正态分布进行数据增强\n",
        "df_data_augmented = df_data_norm + 0.005 * df_data_norm * np.random.standard_normal(size=df_data_norm.shape)\n",
        "df_data_augmented"
      ],
      "metadata": {
        "id": "63KD2UNWzVgn"
      },
      "execution_count": null,
      "outputs": []
    },
    {
      "cell_type": "code",
      "source": [
        "# 将添加过噪声的数据加到总数据集中，并打乱数据\n",
        "df_all_data = pd.concat([df_data_norm,df_data_augmented])\n",
        "df_all_data = df_all_data.reset_index(drop=True)\n",
        "df_all_data = df_all_data.reindex(np.random.permutation(df_all_data.index))\n",
        "df_all_data = df_all_data.reset_index(drop=True)\n",
        "df_all_data"
      ],
      "metadata": {
        "id": "QtJDIWfczxFB"
      },
      "execution_count": null,
      "outputs": []
    },
    {
      "cell_type": "code",
      "source": [
        "# 创建训练集、验证集和测试集\n",
        "train_split = round(0.7 * df_all_data.shape[0])\n",
        "val_split = round(0.2 * df_all_data.shape[0])\n",
        "test_split = round(0.1 * df_all_data.shape[0])\n",
        "\n",
        "y_test = df_all_data.depth[0:test_split]\n",
        "y_val = df_all_data.depth[test_split:(val_split + test_split)]\n",
        "y_train = df_all_data.depth[(val_split + test_split):]\n",
        "\n",
        "X_test = df_all_data[0:test_split].drop(['depth'], axis=1)\n",
        "X_val = df_all_data[test_split:(val_split + test_split)].drop(['depth'], axis=1)\n",
        "X_train = df_all_data[(val_split + test_split):].drop(['depth'], axis=1)"
      ],
      "metadata": {
        "id": "NGwtnBe53PAG"
      },
      "execution_count": 26,
      "outputs": []
    },
    {
      "cell_type": "markdown",
      "source": [
        "# 进行训练"
      ],
      "metadata": {
        "id": "FlcZDB9y5-qR"
      }
    },
    {
      "cell_type": "code",
      "source": [
        "evals_result = {} # 为绘图记录评估结果\n",
        "gbm = lgb.LGBMRegressor(num_leaves=30,\n",
        "                        learning_rate=0.01,\n",
        "                        n_estimators=200)\n",
        "gbm.fit(X_train,y_train,\n",
        "        eval_set=[(X_val,y_val)],\n",
        "        eval_metric=['l1','l2'],\n",
        "        callbacks=[lgb.early_stopping(5), lgb.record_evaluation(evals_result)])"
      ],
      "metadata": {
        "id": "4MfyBf8x1vF7"
      },
      "execution_count": null,
      "outputs": []
    },
    {
      "cell_type": "markdown",
      "source": [
        "# 绘制训练过程中的指标变化"
      ],
      "metadata": {
        "id": "gpDkmwTDwJjk"
      }
    },
    {
      "cell_type": "code",
      "source": [
        "def render_metric(metric_name):\n",
        "    ax = lgb.plot_metric(evals_result, metric=metric_name, figsize=(10, 5))\n",
        "    plt.show()\n",
        "\n",
        "if INTERACTIVE:\n",
        "    # create widget to switch between metrics\n",
        "    interact(render_metric, metric_name=['l1','l2'])\n",
        "else:\n",
        "    render_metric('l1')"
      ],
      "metadata": {
        "colab": {
          "base_uri": "https://localhost:8080/",
          "height": 382,
          "referenced_widgets": [
            "664cc0eea9824eddb72cd6e3c950e2a5",
            "cd5e1ec3982f48b3afeff4e46a3a553b",
            "301a08a49ee14f53b4e44c14bfd480ac",
            "7e986bcb770d477c82ad25247039efcd",
            "be35e9db5ce943fb8c0e71c1c64e11cc",
            "65306880df0b476a90f7a2a604c460d2",
            "546a6360358a4ff7a91634036ea8ef59"
          ]
        },
        "id": "ccROadr2wPcs",
        "outputId": "f82af121-b0da-4f86-e1df-10fe4101af5d"
      },
      "execution_count": 27,
      "outputs": [
        {
          "output_type": "display_data",
          "data": {
            "text/plain": [
              "interactive(children=(Dropdown(description='metric_name', options=('l1', 'l2'), value='l1'), Output()), _dom_c…"
            ],
            "application/vnd.jupyter.widget-view+json": {
              "version_major": 2,
              "version_minor": 0,
              "model_id": "664cc0eea9824eddb72cd6e3c950e2a5"
            }
          },
          "metadata": {}
        }
      ]
    },
    {
      "cell_type": "markdown",
      "source": [
        "# 绘制特征重要性"
      ],
      "metadata": {
        "id": "Ukgg42b8xWRF"
      }
    },
    {
      "cell_type": "code",
      "source": [
        "def render_plot_importance(importance_type, max_features=10,\n",
        "                           ignore_zero=True, precision=3):\n",
        "    ax = lgb.plot_importance(gbm, importance_type=importance_type,\n",
        "                             max_num_features=max_features,\n",
        "                             ignore_zero=ignore_zero, figsize=(12, 8),\n",
        "                             precision=precision)\n",
        "    plt.show()\n",
        "\n",
        "if INTERACTIVE:\n",
        "    # create widget for interactive feature importance plot\n",
        "    interact(render_plot_importance,\n",
        "             importance_type=['split', 'gain'],\n",
        "             max_features=(1, X_train.shape[-1]),\n",
        "             precision=(0, 10))\n",
        "else:\n",
        "    render_plot_importance(importance_type='split')"
      ],
      "metadata": {
        "colab": {
          "base_uri": "https://localhost:8080/",
          "height": 641,
          "referenced_widgets": [
            "b24e5f25ca0f42a9a5290ad4aad27766",
            "49dd56970f4f495486fca9d41005df40",
            "4df2cb75045d457a9bb803dcb6089342",
            "8ba0a9daa53240cd8cc1b125cff60af6",
            "dd0b2847520548249c7fe7fb08e64f57",
            "d8506b3765d24b61a99f18e622a5f3f2",
            "ed5a13b907824130a448dd68b143de64",
            "a04fbf5c14db43db9bbcd20affe2e656",
            "49f241e8009a4cbaa04b78a64c6fd1e4",
            "93a0439d8dbf47d8839d1926a312f868",
            "d95d8ce0ae3440e5b0b7169d126925b9",
            "7d763ac5b986477c80ccaab47f409639",
            "68dce604347442eeb73447e081695364",
            "1782c5041dcc4211a4db1bafb8844b0b",
            "6ef85d7498614dac8955f3dac862f229",
            "6d3ca61ed7e54ad294c9c786006c2372"
          ]
        },
        "id": "eoU6FZLCxbK9",
        "outputId": "e853b5ea-498e-4b58-c28b-06976713e4b1"
      },
      "execution_count": 16,
      "outputs": [
        {
          "output_type": "display_data",
          "data": {
            "text/plain": [
              "interactive(children=(Dropdown(description='importance_type', options=('split', 'gain'), value='split'), IntSl…"
            ],
            "application/vnd.jupyter.widget-view+json": {
              "version_major": 2,
              "version_minor": 0,
              "model_id": "b24e5f25ca0f42a9a5290ad4aad27766"
            }
          },
          "metadata": {}
        }
      ]
    },
    {
      "cell_type": "markdown",
      "source": [
        "# 绘制直方图"
      ],
      "metadata": {
        "id": "SfLq-q25x56z"
      }
    },
    {
      "cell_type": "code",
      "source": [
        "def render_tree(tree_index, show_info, precision=3):\n",
        "    show_info = None if 'None' in show_info else show_info\n",
        "    return lgb.create_tree_digraph(gbm, tree_index=tree_index,\n",
        "                                   show_info=show_info, precision=precision)\n",
        "\n",
        "if INTERACTIVE:\n",
        "    # create widget to switch between trees and control info in nodes\n",
        "    interact(render_tree,\n",
        "             tree_index=(0, gbm.n_estimators - 1),\n",
        "             show_info=SelectMultiple(  # allow multiple values to be selected\n",
        "                 options=['None',\n",
        "                          'split_gain',\n",
        "                          'internal_value',\n",
        "                          'internal_count',\n",
        "                          'internal_weight',\n",
        "                          'leaf_count',\n",
        "                          'leaf_weight',\n",
        "                          'data_percentage'],\n",
        "                 value=['None']),\n",
        "             precision=(0, 10))\n",
        "    tree = None\n",
        "else:\n",
        "    tree = render_tree(53, ['None'])\n",
        "tree"
      ],
      "metadata": {
        "colab": {
          "base_uri": "https://localhost:8080/",
          "height": 540,
          "referenced_widgets": [
            "3d88bf67d6734b30acd7f85c614c695c",
            "2c01f08508974be68e83dc59c21d8dad",
            "065a3a7310d9492ca0c24737ea53a0cc",
            "fa0ea0513b324727ad414896caa4c499",
            "04704a0d289c4906a9317940f7e7f08f",
            "4359f8fa287c432fb9cea80f23062f36",
            "620d0883d1214f929b0694010a5452a5",
            "92b1267c6f14449195d8d26e23d47f90",
            "21b5e838a0cc49aeb900c6745fbba70b",
            "06ce92f1fad54e18affb7740f5a521ba",
            "84619ac209eb4fa484e214c1c19d7d98",
            "61a91df60a8444359f272eced50a2ac0",
            "ff5900e6552a4162b40a136f581cb77b"
          ]
        },
        "id": "t1hu4tZax7v1",
        "outputId": "06cdb50e-3547-4dc5-cdaf-1d284e54d03f"
      },
      "execution_count": 20,
      "outputs": [
        {
          "output_type": "display_data",
          "data": {
            "text/plain": [
              "interactive(children=(IntSlider(value=99, description='tree_index', max=199), SelectMultiple(description='show…"
            ],
            "application/vnd.jupyter.widget-view+json": {
              "version_major": 2,
              "version_minor": 0,
              "model_id": "3d88bf67d6734b30acd7f85c614c695c"
            }
          },
          "metadata": {}
        }
      ]
    },
    {
      "cell_type": "markdown",
      "source": [
        "# 开始预测"
      ],
      "metadata": {
        "id": "ReeLiuiD6iio"
      }
    },
    {
      "cell_type": "code",
      "source": [
        "# 预测\n",
        "y_pred = gbm.predict(X_test,num_iteration=gbm.best_iteration_)\n",
        "\n",
        "# 归一化后的评估\n",
        "rmse_test = mean_squared_error(y_test,y_pred) ** 0.5 # mse加根号即是rmse\n",
        "print(f'The RMSE of prediction is: {rmse_test}')"
      ],
      "metadata": {
        "id": "evtRaOn_6k0F",
        "colab": {
          "base_uri": "https://localhost:8080/"
        },
        "outputId": "6eb199de-d58e-4f8a-aa5f-7a8832a02e9b"
      },
      "execution_count": 28,
      "outputs": [
        {
          "output_type": "stream",
          "name": "stdout",
          "text": [
            "The RMSE of prediction is: 0.2811841873273574\n"
          ]
        }
      ]
    },
    {
      "cell_type": "code",
      "source": [
        "# 原始数据评估\n",
        "y_pred_raw = y_pred * df_data_std.depth + df_data_mean.depth\n",
        "y_test_raw = y_test * df_data_std.depth + df_data_mean.depth\n",
        "\n",
        "rmse_test_raw = mean_squared_error(y_test_raw,y_pred_raw) ** 0.5 # mse加根号即是rmse\n",
        "print(f'The RMSE of raw prediction is: {rmse_test_raw}')"
      ],
      "metadata": {
        "colab": {
          "base_uri": "https://localhost:8080/"
        },
        "id": "90bf0I0t7Mw2",
        "outputId": "f64561ca-2aff-406a-fc13-5ab28cb76788"
      },
      "execution_count": 29,
      "outputs": [
        {
          "output_type": "stream",
          "name": "stdout",
          "text": [
            "The RMSE of raw prediction is: 0.02697023978883221\n"
          ]
        }
      ]
    },
    {
      "cell_type": "code",
      "source": [
        "depth = [list(y_test_raw),list(y_pred_raw)]\n",
        "\n",
        "depth = np.transpose(depth)\n",
        "cols = ['real','predict']\n",
        "df = pd.DataFrame(data=depth,columns=cols)\n",
        "df['relative_error'] = np.abs(df.predict - df.real)\n",
        "df"
      ],
      "metadata": {
        "colab": {
          "base_uri": "https://localhost:8080/",
          "height": 363
        },
        "id": "dalOgDzF2ITa",
        "outputId": "d9794b40-0c63-47b5-ca15-56a098f64ad3"
      },
      "execution_count": 30,
      "outputs": [
        {
          "output_type": "execute_result",
          "data": {
            "text/plain": [
              "       real   predict  relative_error\n",
              "0  0.700000  0.702180        0.002180\n",
              "1  0.660000  0.687104        0.027104\n",
              "2  0.569983  0.588594        0.018611\n",
              "3  0.579947  0.584969        0.005022\n",
              "4  0.680000  0.635249        0.044751\n",
              "5  0.690184  0.648357        0.041827\n",
              "6  0.600000  0.597509        0.002491\n",
              "7  0.490000  0.518485        0.028485\n",
              "8  0.649960  0.612388        0.037572\n",
              "9  0.590000  0.603474        0.013474"
            ],
            "text/html": [
              "\n",
              "  <div id=\"df-7b52b23f-63d0-473f-bbb2-68ab3401c0f4\">\n",
              "    <div class=\"colab-df-container\">\n",
              "      <div>\n",
              "<style scoped>\n",
              "    .dataframe tbody tr th:only-of-type {\n",
              "        vertical-align: middle;\n",
              "    }\n",
              "\n",
              "    .dataframe tbody tr th {\n",
              "        vertical-align: top;\n",
              "    }\n",
              "\n",
              "    .dataframe thead th {\n",
              "        text-align: right;\n",
              "    }\n",
              "</style>\n",
              "<table border=\"1\" class=\"dataframe\">\n",
              "  <thead>\n",
              "    <tr style=\"text-align: right;\">\n",
              "      <th></th>\n",
              "      <th>real</th>\n",
              "      <th>predict</th>\n",
              "      <th>relative_error</th>\n",
              "    </tr>\n",
              "  </thead>\n",
              "  <tbody>\n",
              "    <tr>\n",
              "      <th>0</th>\n",
              "      <td>0.700000</td>\n",
              "      <td>0.702180</td>\n",
              "      <td>0.002180</td>\n",
              "    </tr>\n",
              "    <tr>\n",
              "      <th>1</th>\n",
              "      <td>0.660000</td>\n",
              "      <td>0.687104</td>\n",
              "      <td>0.027104</td>\n",
              "    </tr>\n",
              "    <tr>\n",
              "      <th>2</th>\n",
              "      <td>0.569983</td>\n",
              "      <td>0.588594</td>\n",
              "      <td>0.018611</td>\n",
              "    </tr>\n",
              "    <tr>\n",
              "      <th>3</th>\n",
              "      <td>0.579947</td>\n",
              "      <td>0.584969</td>\n",
              "      <td>0.005022</td>\n",
              "    </tr>\n",
              "    <tr>\n",
              "      <th>4</th>\n",
              "      <td>0.680000</td>\n",
              "      <td>0.635249</td>\n",
              "      <td>0.044751</td>\n",
              "    </tr>\n",
              "    <tr>\n",
              "      <th>5</th>\n",
              "      <td>0.690184</td>\n",
              "      <td>0.648357</td>\n",
              "      <td>0.041827</td>\n",
              "    </tr>\n",
              "    <tr>\n",
              "      <th>6</th>\n",
              "      <td>0.600000</td>\n",
              "      <td>0.597509</td>\n",
              "      <td>0.002491</td>\n",
              "    </tr>\n",
              "    <tr>\n",
              "      <th>7</th>\n",
              "      <td>0.490000</td>\n",
              "      <td>0.518485</td>\n",
              "      <td>0.028485</td>\n",
              "    </tr>\n",
              "    <tr>\n",
              "      <th>8</th>\n",
              "      <td>0.649960</td>\n",
              "      <td>0.612388</td>\n",
              "      <td>0.037572</td>\n",
              "    </tr>\n",
              "    <tr>\n",
              "      <th>9</th>\n",
              "      <td>0.590000</td>\n",
              "      <td>0.603474</td>\n",
              "      <td>0.013474</td>\n",
              "    </tr>\n",
              "  </tbody>\n",
              "</table>\n",
              "</div>\n",
              "      <button class=\"colab-df-convert\" onclick=\"convertToInteractive('df-7b52b23f-63d0-473f-bbb2-68ab3401c0f4')\"\n",
              "              title=\"Convert this dataframe to an interactive table.\"\n",
              "              style=\"display:none;\">\n",
              "        \n",
              "  <svg xmlns=\"http://www.w3.org/2000/svg\" height=\"24px\"viewBox=\"0 0 24 24\"\n",
              "       width=\"24px\">\n",
              "    <path d=\"M0 0h24v24H0V0z\" fill=\"none\"/>\n",
              "    <path d=\"M18.56 5.44l.94 2.06.94-2.06 2.06-.94-2.06-.94-.94-2.06-.94 2.06-2.06.94zm-11 1L8.5 8.5l.94-2.06 2.06-.94-2.06-.94L8.5 2.5l-.94 2.06-2.06.94zm10 10l.94 2.06.94-2.06 2.06-.94-2.06-.94-.94-2.06-.94 2.06-2.06.94z\"/><path d=\"M17.41 7.96l-1.37-1.37c-.4-.4-.92-.59-1.43-.59-.52 0-1.04.2-1.43.59L10.3 9.45l-7.72 7.72c-.78.78-.78 2.05 0 2.83L4 21.41c.39.39.9.59 1.41.59.51 0 1.02-.2 1.41-.59l7.78-7.78 2.81-2.81c.8-.78.8-2.07 0-2.86zM5.41 20L4 18.59l7.72-7.72 1.47 1.35L5.41 20z\"/>\n",
              "  </svg>\n",
              "      </button>\n",
              "      \n",
              "  <style>\n",
              "    .colab-df-container {\n",
              "      display:flex;\n",
              "      flex-wrap:wrap;\n",
              "      gap: 12px;\n",
              "    }\n",
              "\n",
              "    .colab-df-convert {\n",
              "      background-color: #E8F0FE;\n",
              "      border: none;\n",
              "      border-radius: 50%;\n",
              "      cursor: pointer;\n",
              "      display: none;\n",
              "      fill: #1967D2;\n",
              "      height: 32px;\n",
              "      padding: 0 0 0 0;\n",
              "      width: 32px;\n",
              "    }\n",
              "\n",
              "    .colab-df-convert:hover {\n",
              "      background-color: #E2EBFA;\n",
              "      box-shadow: 0px 1px 2px rgba(60, 64, 67, 0.3), 0px 1px 3px 1px rgba(60, 64, 67, 0.15);\n",
              "      fill: #174EA6;\n",
              "    }\n",
              "\n",
              "    [theme=dark] .colab-df-convert {\n",
              "      background-color: #3B4455;\n",
              "      fill: #D2E3FC;\n",
              "    }\n",
              "\n",
              "    [theme=dark] .colab-df-convert:hover {\n",
              "      background-color: #434B5C;\n",
              "      box-shadow: 0px 1px 3px 1px rgba(0, 0, 0, 0.15);\n",
              "      filter: drop-shadow(0px 1px 2px rgba(0, 0, 0, 0.3));\n",
              "      fill: #FFFFFF;\n",
              "    }\n",
              "  </style>\n",
              "\n",
              "      <script>\n",
              "        const buttonEl =\n",
              "          document.querySelector('#df-7b52b23f-63d0-473f-bbb2-68ab3401c0f4 button.colab-df-convert');\n",
              "        buttonEl.style.display =\n",
              "          google.colab.kernel.accessAllowed ? 'block' : 'none';\n",
              "\n",
              "        async function convertToInteractive(key) {\n",
              "          const element = document.querySelector('#df-7b52b23f-63d0-473f-bbb2-68ab3401c0f4');\n",
              "          const dataTable =\n",
              "            await google.colab.kernel.invokeFunction('convertToInteractive',\n",
              "                                                     [key], {});\n",
              "          if (!dataTable) return;\n",
              "\n",
              "          const docLinkHtml = 'Like what you see? Visit the ' +\n",
              "            '<a target=\"_blank\" href=https://colab.research.google.com/notebooks/data_table.ipynb>data table notebook</a>'\n",
              "            + ' to learn more about interactive tables.';\n",
              "          element.innerHTML = '';\n",
              "          dataTable['output_type'] = 'display_data';\n",
              "          await google.colab.output.renderOutput(dataTable, element);\n",
              "          const docLink = document.createElement('div');\n",
              "          docLink.innerHTML = docLinkHtml;\n",
              "          element.appendChild(docLink);\n",
              "        }\n",
              "      </script>\n",
              "    </div>\n",
              "  </div>\n",
              "  "
            ]
          },
          "metadata": {},
          "execution_count": 30
        }
      ]
    },
    {
      "cell_type": "code",
      "source": [
        "# 计算纳什效率系数\n",
        "H_obs = y_test_raw\n",
        "H_m = y_pred_raw\n",
        "H_m_mean = H_obs.mean()\n",
        "\n",
        "NSE = 1 - ((H_obs - H_m)**2).sum() / ((H_obs - H_m_mean)**2).sum()\n",
        "print(f'The NSE of prediction is: {NSE}')"
      ],
      "metadata": {
        "colab": {
          "base_uri": "https://localhost:8080/"
        },
        "id": "QdgXbAO701rO",
        "outputId": "951f7426-68c3-41c6-8909-0a1ef09ccbe8"
      },
      "execution_count": 31,
      "outputs": [
        {
          "output_type": "stream",
          "name": "stdout",
          "text": [
            "The NSE of prediction is: 0.8168656682543713\n"
          ]
        }
      ]
    },
    {
      "cell_type": "code",
      "source": [
        "# 计算R2_score\n",
        "R2 = r2_score(y_test_raw,y_pred_raw)\n",
        "print(f'The R2 score of prediction is: {R2}')"
      ],
      "metadata": {
        "colab": {
          "base_uri": "https://localhost:8080/"
        },
        "id": "MpIXcdRKSDH-",
        "outputId": "ebeb2bf7-d478-40d9-ae5a-8746d3378211"
      },
      "execution_count": 32,
      "outputs": [
        {
          "output_type": "stream",
          "name": "stdout",
          "text": [
            "The R2 score of prediction is: 0.8168656682543713\n"
          ]
        }
      ]
    }
  ]
}