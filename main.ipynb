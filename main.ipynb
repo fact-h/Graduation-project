{
  "nbformat": 4,
  "nbformat_minor": 0,
  "metadata": {
    "colab": {
      "name": "main",
      "provenance": [],
      "authorship_tag": "ABX9TyPdjqKVXsG7wGnSj63Ecyp/",
      "include_colab_link": true
    },
    "kernelspec": {
      "name": "python3",
      "display_name": "Python 3"
    },
    "language_info": {
      "name": "python"
    }
  },
  "cells": [
    {
      "cell_type": "markdown",
      "metadata": {
        "id": "view-in-github",
        "colab_type": "text"
      },
      "source": [
        "<a href=\"https://colab.research.google.com/github/fact-h/Graduation-project/blob/main/main.ipynb\" target=\"_parent\"><img src=\"https://colab.research.google.com/assets/colab-badge.svg\" alt=\"Open In Colab\"/></a>"
      ]
    },
    {
      "cell_type": "markdown",
      "source": [
        "# 复现论文\n",
        "目标：根据降雨序列预测最大水深，每次降雨的序列分为10个特征，最大水深作为标签"
      ],
      "metadata": {
        "id": "gzH3KpmQn0dZ"
      }
    },
    {
      "cell_type": "markdown",
      "source": [
        "## 导入相关的模块"
      ],
      "metadata": {
        "id": "6lKEorfyoskp"
      }
    },
    {
      "cell_type": "code",
      "source": [
        "import numpy as np\n",
        "import pandas as pd\n",
        "import tensorflow as tf\n",
        "from tensorflow.keras import layers\n",
        "from matplotlib import pyplot as plt"
      ],
      "metadata": {
        "id": "U90CtmSporFv"
      },
      "execution_count": 36,
      "outputs": []
    },
    {
      "cell_type": "markdown",
      "source": [
        "## 数据预处理\n",
        "### 加载数据集\n",
        "先上传CSV数据文件，再创建两个DataFrames：\n",
        "- **`train_df`** 包含训练集\n",
        "- **`test_df`** 包含测试集"
      ],
      "metadata": {
        "id": "haDS6XW6pTkn"
      }
    },
    {
      "cell_type": "code",
      "source": [
        "from google.colab import files\n",
        "uploaded = files.upload()"
      ],
      "metadata": {
        "colab": {
          "resources": {
            "http://localhost:8080/nbextensions/google.colab/files.js": {
              "data": "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",
              "ok": true,
              "headers": [
                [
                  "content-type",
                  "application/javascript"
                ]
              ],
              "status": 200,
              "status_text": ""
            }
          },
          "base_uri": "https://localhost:8080/",
          "height": 81
        },
        "id": "rp-5jrO3Ndc2",
        "outputId": "ee24cc28-8893-406c-e214-64fe07b7add2"
      },
      "execution_count": 57,
      "outputs": [
        {
          "output_type": "display_data",
          "data": {
            "text/html": [
              "\n",
              "     <input type=\"file\" id=\"files-f94757ca-dd09-42cb-a2d6-7c8f3cc1c699\" name=\"files[]\" multiple disabled\n",
              "        style=\"border:none\" />\n",
              "     <output id=\"result-f94757ca-dd09-42cb-a2d6-7c8f3cc1c699\">\n",
              "      Upload widget is only available when the cell has been executed in the\n",
              "      current browser session. Please rerun this cell to enable.\n",
              "      </output>\n",
              "      <script src=\"/nbextensions/google.colab/files.js\"></script> "
            ],
            "text/plain": [
              "<IPython.core.display.HTML object>"
            ]
          },
          "metadata": {}
        },
        {
          "output_type": "stream",
          "name": "stdout",
          "text": [
            "Saving test.csv to test (1).csv\n"
          ]
        }
      ]
    },
    {
      "cell_type": "code",
      "source": [
        "train_df = pd.read_csv('/content/train.csv')\n",
        "train_df = train_df.reindex(np.random.permutation(train_df.index)) # 打乱数据\n",
        "test_df = pd.read_csv('/content/test.csv')"
      ],
      "metadata": {
        "id": "Uaw97iSEVFLG"
      },
      "execution_count": 66,
      "outputs": []
    },
    {
      "cell_type": "code",
      "source": [
        "train_df.head()"
      ],
      "metadata": {
        "colab": {
          "base_uri": "https://localhost:8080/",
          "height": 206
        },
        "id": "rwQ83-NyWFXY",
        "outputId": "a855b3f4-59be-45a1-eb57-43ca19b62cf2"
      },
      "execution_count": 67,
      "outputs": [
        {
          "output_type": "execute_result",
          "data": {
            "text/html": [
              "\n",
              "  <div id=\"df-841627ee-5621-4701-8c11-9e454862d7eb\">\n",
              "    <div class=\"colab-df-container\">\n",
              "      <div>\n",
              "<style scoped>\n",
              "    .dataframe tbody tr th:only-of-type {\n",
              "        vertical-align: middle;\n",
              "    }\n",
              "\n",
              "    .dataframe tbody tr th {\n",
              "        vertical-align: top;\n",
              "    }\n",
              "\n",
              "    .dataframe thead th {\n",
              "        text-align: right;\n",
              "    }\n",
              "</style>\n",
              "<table border=\"1\" class=\"dataframe\">\n",
              "  <thead>\n",
              "    <tr style=\"text-align: right;\">\n",
              "      <th></th>\n",
              "      <th>rain1</th>\n",
              "      <th>rain2</th>\n",
              "      <th>rain3</th>\n",
              "      <th>rain4</th>\n",
              "      <th>rain5</th>\n",
              "      <th>rain6</th>\n",
              "      <th>rain7</th>\n",
              "      <th>rain8</th>\n",
              "      <th>rain9</th>\n",
              "      <th>rain10</th>\n",
              "      <th>depth</th>\n",
              "    </tr>\n",
              "  </thead>\n",
              "  <tbody>\n",
              "    <tr>\n",
              "      <th>13</th>\n",
              "      <td>0.095</td>\n",
              "      <td>0.095</td>\n",
              "      <td>0.095</td>\n",
              "      <td>0.095</td>\n",
              "      <td>5.040</td>\n",
              "      <td>3.233</td>\n",
              "      <td>7.607</td>\n",
              "      <td>16.165</td>\n",
              "      <td>34.612</td>\n",
              "      <td>28.051</td>\n",
              "      <td>0.209</td>\n",
              "    </tr>\n",
              "    <tr>\n",
              "      <th>10</th>\n",
              "      <td>3.423</td>\n",
              "      <td>21.300</td>\n",
              "      <td>11.506</td>\n",
              "      <td>4.564</td>\n",
              "      <td>5.705</td>\n",
              "      <td>4.564</td>\n",
              "      <td>5.705</td>\n",
              "      <td>14.739</td>\n",
              "      <td>9.033</td>\n",
              "      <td>14.548</td>\n",
              "      <td>0.294</td>\n",
              "    </tr>\n",
              "    <tr>\n",
              "      <th>3</th>\n",
              "      <td>0.076</td>\n",
              "      <td>0.076</td>\n",
              "      <td>0.076</td>\n",
              "      <td>0.076</td>\n",
              "      <td>4.048</td>\n",
              "      <td>2.597</td>\n",
              "      <td>6.109</td>\n",
              "      <td>12.983</td>\n",
              "      <td>27.798</td>\n",
              "      <td>22.529</td>\n",
              "      <td>0.158</td>\n",
              "    </tr>\n",
              "    <tr>\n",
              "      <th>31</th>\n",
              "      <td>0.469</td>\n",
              "      <td>3.282</td>\n",
              "      <td>5.470</td>\n",
              "      <td>25.475</td>\n",
              "      <td>41.730</td>\n",
              "      <td>13.754</td>\n",
              "      <td>13.441</td>\n",
              "      <td>21.412</td>\n",
              "      <td>20.005</td>\n",
              "      <td>11.253</td>\n",
              "      <td>0.324</td>\n",
              "    </tr>\n",
              "    <tr>\n",
              "      <th>25</th>\n",
              "      <td>5.117</td>\n",
              "      <td>31.837</td>\n",
              "      <td>17.197</td>\n",
              "      <td>6.822</td>\n",
              "      <td>8.528</td>\n",
              "      <td>6.822</td>\n",
              "      <td>8.528</td>\n",
              "      <td>22.030</td>\n",
              "      <td>13.502</td>\n",
              "      <td>21.746</td>\n",
              "      <td>0.317</td>\n",
              "    </tr>\n",
              "  </tbody>\n",
              "</table>\n",
              "</div>\n",
              "      <button class=\"colab-df-convert\" onclick=\"convertToInteractive('df-841627ee-5621-4701-8c11-9e454862d7eb')\"\n",
              "              title=\"Convert this dataframe to an interactive table.\"\n",
              "              style=\"display:none;\">\n",
              "        \n",
              "  <svg xmlns=\"http://www.w3.org/2000/svg\" height=\"24px\"viewBox=\"0 0 24 24\"\n",
              "       width=\"24px\">\n",
              "    <path d=\"M0 0h24v24H0V0z\" fill=\"none\"/>\n",
              "    <path d=\"M18.56 5.44l.94 2.06.94-2.06 2.06-.94-2.06-.94-.94-2.06-.94 2.06-2.06.94zm-11 1L8.5 8.5l.94-2.06 2.06-.94-2.06-.94L8.5 2.5l-.94 2.06-2.06.94zm10 10l.94 2.06.94-2.06 2.06-.94-2.06-.94-.94-2.06-.94 2.06-2.06.94z\"/><path d=\"M17.41 7.96l-1.37-1.37c-.4-.4-.92-.59-1.43-.59-.52 0-1.04.2-1.43.59L10.3 9.45l-7.72 7.72c-.78.78-.78 2.05 0 2.83L4 21.41c.39.39.9.59 1.41.59.51 0 1.02-.2 1.41-.59l7.78-7.78 2.81-2.81c.8-.78.8-2.07 0-2.86zM5.41 20L4 18.59l7.72-7.72 1.47 1.35L5.41 20z\"/>\n",
              "  </svg>\n",
              "      </button>\n",
              "      \n",
              "  <style>\n",
              "    .colab-df-container {\n",
              "      display:flex;\n",
              "      flex-wrap:wrap;\n",
              "      gap: 12px;\n",
              "    }\n",
              "\n",
              "    .colab-df-convert {\n",
              "      background-color: #E8F0FE;\n",
              "      border: none;\n",
              "      border-radius: 50%;\n",
              "      cursor: pointer;\n",
              "      display: none;\n",
              "      fill: #1967D2;\n",
              "      height: 32px;\n",
              "      padding: 0 0 0 0;\n",
              "      width: 32px;\n",
              "    }\n",
              "\n",
              "    .colab-df-convert:hover {\n",
              "      background-color: #E2EBFA;\n",
              "      box-shadow: 0px 1px 2px rgba(60, 64, 67, 0.3), 0px 1px 3px 1px rgba(60, 64, 67, 0.15);\n",
              "      fill: #174EA6;\n",
              "    }\n",
              "\n",
              "    [theme=dark] .colab-df-convert {\n",
              "      background-color: #3B4455;\n",
              "      fill: #D2E3FC;\n",
              "    }\n",
              "\n",
              "    [theme=dark] .colab-df-convert:hover {\n",
              "      background-color: #434B5C;\n",
              "      box-shadow: 0px 1px 3px 1px rgba(0, 0, 0, 0.15);\n",
              "      filter: drop-shadow(0px 1px 2px rgba(0, 0, 0, 0.3));\n",
              "      fill: #FFFFFF;\n",
              "    }\n",
              "  </style>\n",
              "\n",
              "      <script>\n",
              "        const buttonEl =\n",
              "          document.querySelector('#df-841627ee-5621-4701-8c11-9e454862d7eb button.colab-df-convert');\n",
              "        buttonEl.style.display =\n",
              "          google.colab.kernel.accessAllowed ? 'block' : 'none';\n",
              "\n",
              "        async function convertToInteractive(key) {\n",
              "          const element = document.querySelector('#df-841627ee-5621-4701-8c11-9e454862d7eb');\n",
              "          const dataTable =\n",
              "            await google.colab.kernel.invokeFunction('convertToInteractive',\n",
              "                                                     [key], {});\n",
              "          if (!dataTable) return;\n",
              "\n",
              "          const docLinkHtml = 'Like what you see? Visit the ' +\n",
              "            '<a target=\"_blank\" href=https://colab.research.google.com/notebooks/data_table.ipynb>data table notebook</a>'\n",
              "            + ' to learn more about interactive tables.';\n",
              "          element.innerHTML = '';\n",
              "          dataTable['output_type'] = 'display_data';\n",
              "          await google.colab.output.renderOutput(dataTable, element);\n",
              "          const docLink = document.createElement('div');\n",
              "          docLink.innerHTML = docLinkHtml;\n",
              "          element.appendChild(docLink);\n",
              "        }\n",
              "      </script>\n",
              "    </div>\n",
              "  </div>\n",
              "  "
            ],
            "text/plain": [
              "    rain1   rain2   rain3   rain4   rain5   rain6   rain7   rain8   rain9  \\\n",
              "13  0.095   0.095   0.095   0.095   5.040   3.233   7.607  16.165  34.612   \n",
              "10  3.423  21.300  11.506   4.564   5.705   4.564   5.705  14.739   9.033   \n",
              "3   0.076   0.076   0.076   0.076   4.048   2.597   6.109  12.983  27.798   \n",
              "31  0.469   3.282   5.470  25.475  41.730  13.754  13.441  21.412  20.005   \n",
              "25  5.117  31.837  17.197   6.822   8.528   6.822   8.528  22.030  13.502   \n",
              "\n",
              "    rain10  depth  \n",
              "13  28.051  0.209  \n",
              "10  14.548  0.294  \n",
              "3   22.529  0.158  \n",
              "31  11.253  0.324  \n",
              "25  21.746  0.317  "
            ]
          },
          "metadata": {},
          "execution_count": 67
        }
      ]
    },
    {
      "cell_type": "code",
      "source": [
        "test_df.head()"
      ],
      "metadata": {
        "colab": {
          "base_uri": "https://localhost:8080/",
          "height": 143
        },
        "id": "1Pu7eNve7YTH",
        "outputId": "b64ac1d0-8cae-482c-b360-761c838f5b7f"
      },
      "execution_count": 68,
      "outputs": [
        {
          "output_type": "execute_result",
          "data": {
            "text/html": [
              "\n",
              "  <div id=\"df-56e5df80-bf33-4e23-9952-dab2cd80797a\">\n",
              "    <div class=\"colab-df-container\">\n",
              "      <div>\n",
              "<style scoped>\n",
              "    .dataframe tbody tr th:only-of-type {\n",
              "        vertical-align: middle;\n",
              "    }\n",
              "\n",
              "    .dataframe tbody tr th {\n",
              "        vertical-align: top;\n",
              "    }\n",
              "\n",
              "    .dataframe thead th {\n",
              "        text-align: right;\n",
              "    }\n",
              "</style>\n",
              "<table border=\"1\" class=\"dataframe\">\n",
              "  <thead>\n",
              "    <tr style=\"text-align: right;\">\n",
              "      <th></th>\n",
              "      <th>rain1</th>\n",
              "      <th>rain2</th>\n",
              "      <th>rain3</th>\n",
              "      <th>rain4</th>\n",
              "      <th>rain5</th>\n",
              "      <th>rain6</th>\n",
              "      <th>rain7</th>\n",
              "      <th>rain8</th>\n",
              "      <th>rain9</th>\n",
              "      <th>rain10</th>\n",
              "      <th>depth</th>\n",
              "    </tr>\n",
              "  </thead>\n",
              "  <tbody>\n",
              "    <tr>\n",
              "      <th>0</th>\n",
              "      <td>2.545</td>\n",
              "      <td>15.836</td>\n",
              "      <td>8.555</td>\n",
              "      <td>3.394</td>\n",
              "      <td>4.242</td>\n",
              "      <td>3.394</td>\n",
              "      <td>4.242</td>\n",
              "      <td>10.958</td>\n",
              "      <td>6.717</td>\n",
              "      <td>10.817</td>\n",
              "      <td>0.27</td>\n",
              "    </tr>\n",
              "    <tr>\n",
              "      <th>1</th>\n",
              "      <td>2.545</td>\n",
              "      <td>15.836</td>\n",
              "      <td>8.555</td>\n",
              "      <td>3.394</td>\n",
              "      <td>4.242</td>\n",
              "      <td>3.394</td>\n",
              "      <td>4.242</td>\n",
              "      <td>10.958</td>\n",
              "      <td>6.717</td>\n",
              "      <td>10.817</td>\n",
              "      <td>0.27</td>\n",
              "    </tr>\n",
              "    <tr>\n",
              "      <th>2</th>\n",
              "      <td>2.545</td>\n",
              "      <td>15.836</td>\n",
              "      <td>8.555</td>\n",
              "      <td>3.394</td>\n",
              "      <td>4.242</td>\n",
              "      <td>3.394</td>\n",
              "      <td>4.242</td>\n",
              "      <td>10.958</td>\n",
              "      <td>6.717</td>\n",
              "      <td>10.817</td>\n",
              "      <td>0.27</td>\n",
              "    </tr>\n",
              "  </tbody>\n",
              "</table>\n",
              "</div>\n",
              "      <button class=\"colab-df-convert\" onclick=\"convertToInteractive('df-56e5df80-bf33-4e23-9952-dab2cd80797a')\"\n",
              "              title=\"Convert this dataframe to an interactive table.\"\n",
              "              style=\"display:none;\">\n",
              "        \n",
              "  <svg xmlns=\"http://www.w3.org/2000/svg\" height=\"24px\"viewBox=\"0 0 24 24\"\n",
              "       width=\"24px\">\n",
              "    <path d=\"M0 0h24v24H0V0z\" fill=\"none\"/>\n",
              "    <path d=\"M18.56 5.44l.94 2.06.94-2.06 2.06-.94-2.06-.94-.94-2.06-.94 2.06-2.06.94zm-11 1L8.5 8.5l.94-2.06 2.06-.94-2.06-.94L8.5 2.5l-.94 2.06-2.06.94zm10 10l.94 2.06.94-2.06 2.06-.94-2.06-.94-.94-2.06-.94 2.06-2.06.94z\"/><path d=\"M17.41 7.96l-1.37-1.37c-.4-.4-.92-.59-1.43-.59-.52 0-1.04.2-1.43.59L10.3 9.45l-7.72 7.72c-.78.78-.78 2.05 0 2.83L4 21.41c.39.39.9.59 1.41.59.51 0 1.02-.2 1.41-.59l7.78-7.78 2.81-2.81c.8-.78.8-2.07 0-2.86zM5.41 20L4 18.59l7.72-7.72 1.47 1.35L5.41 20z\"/>\n",
              "  </svg>\n",
              "      </button>\n",
              "      \n",
              "  <style>\n",
              "    .colab-df-container {\n",
              "      display:flex;\n",
              "      flex-wrap:wrap;\n",
              "      gap: 12px;\n",
              "    }\n",
              "\n",
              "    .colab-df-convert {\n",
              "      background-color: #E8F0FE;\n",
              "      border: none;\n",
              "      border-radius: 50%;\n",
              "      cursor: pointer;\n",
              "      display: none;\n",
              "      fill: #1967D2;\n",
              "      height: 32px;\n",
              "      padding: 0 0 0 0;\n",
              "      width: 32px;\n",
              "    }\n",
              "\n",
              "    .colab-df-convert:hover {\n",
              "      background-color: #E2EBFA;\n",
              "      box-shadow: 0px 1px 2px rgba(60, 64, 67, 0.3), 0px 1px 3px 1px rgba(60, 64, 67, 0.15);\n",
              "      fill: #174EA6;\n",
              "    }\n",
              "\n",
              "    [theme=dark] .colab-df-convert {\n",
              "      background-color: #3B4455;\n",
              "      fill: #D2E3FC;\n",
              "    }\n",
              "\n",
              "    [theme=dark] .colab-df-convert:hover {\n",
              "      background-color: #434B5C;\n",
              "      box-shadow: 0px 1px 3px 1px rgba(0, 0, 0, 0.15);\n",
              "      filter: drop-shadow(0px 1px 2px rgba(0, 0, 0, 0.3));\n",
              "      fill: #FFFFFF;\n",
              "    }\n",
              "  </style>\n",
              "\n",
              "      <script>\n",
              "        const buttonEl =\n",
              "          document.querySelector('#df-56e5df80-bf33-4e23-9952-dab2cd80797a button.colab-df-convert');\n",
              "        buttonEl.style.display =\n",
              "          google.colab.kernel.accessAllowed ? 'block' : 'none';\n",
              "\n",
              "        async function convertToInteractive(key) {\n",
              "          const element = document.querySelector('#df-56e5df80-bf33-4e23-9952-dab2cd80797a');\n",
              "          const dataTable =\n",
              "            await google.colab.kernel.invokeFunction('convertToInteractive',\n",
              "                                                     [key], {});\n",
              "          if (!dataTable) return;\n",
              "\n",
              "          const docLinkHtml = 'Like what you see? Visit the ' +\n",
              "            '<a target=\"_blank\" href=https://colab.research.google.com/notebooks/data_table.ipynb>data table notebook</a>'\n",
              "            + ' to learn more about interactive tables.';\n",
              "          element.innerHTML = '';\n",
              "          dataTable['output_type'] = 'display_data';\n",
              "          await google.colab.output.renderOutput(dataTable, element);\n",
              "          const docLink = document.createElement('div');\n",
              "          docLink.innerHTML = docLinkHtml;\n",
              "          element.appendChild(docLink);\n",
              "        }\n",
              "      </script>\n",
              "    </div>\n",
              "  </div>\n",
              "  "
            ],
            "text/plain": [
              "   rain1   rain2  rain3  rain4  rain5  rain6  rain7   rain8  rain9  rain10  \\\n",
              "0  2.545  15.836  8.555  3.394  4.242  3.394  4.242  10.958  6.717  10.817   \n",
              "1  2.545  15.836  8.555  3.394  4.242  3.394  4.242  10.958  6.717  10.817   \n",
              "2  2.545  15.836  8.555  3.394  4.242  3.394  4.242  10.958  6.717  10.817   \n",
              "\n",
              "   depth  \n",
              "0   0.27  \n",
              "1   0.27  \n",
              "2   0.27  "
            ]
          },
          "metadata": {},
          "execution_count": 68
        }
      ]
    },
    {
      "cell_type": "markdown",
      "source": [
        "### 归一化\n",
        "当建立的模型有多个特征时，每个特征的值应该大致在相同范围。"
      ],
      "metadata": {
        "id": "aiG4bjDGqglj"
      }
    },
    {
      "cell_type": "code",
      "source": [
        "# 计算训练集每个特征(列)的Z-scores\n",
        "train_df_mean = train_df.mean()\n",
        "train_df_std = train_df.std()\n",
        "train_df_norm = (train_df - train_df_mean)/train_df_std\n",
        "\n",
        "# 计算测试集每个特征(列)的Z-scores\n",
        "test_df_norm = (test_df - train_df_mean)/train_df_std\n",
        "\n",
        "print(\"Normalized the values.\")"
      ],
      "metadata": {
        "id": "FKEY2n8Psej3",
        "outputId": "9fd9dd03-d760-42b1-89a4-11f85b7b2631",
        "colab": {
          "base_uri": "https://localhost:8080/"
        }
      },
      "execution_count": 78,
      "outputs": [
        {
          "output_type": "stream",
          "name": "stdout",
          "text": [
            "Normalized the values.\n"
          ]
        }
      ]
    },
    {
      "cell_type": "code",
      "source": [
        "train_df_norm.head()"
      ],
      "metadata": {
        "id": "bSC7vYlN08Dg",
        "outputId": "ea8f1f59-fc5a-406e-c160-aebd3dc37be5",
        "colab": {
          "base_uri": "https://localhost:8080/",
          "height": 206
        }
      },
      "execution_count": 80,
      "outputs": [
        {
          "output_type": "execute_result",
          "data": {
            "text/html": [
              "\n",
              "  <div id=\"df-18d59ba9-dda2-4baf-88a2-7bd3dde8572a\">\n",
              "    <div class=\"colab-df-container\">\n",
              "      <div>\n",
              "<style scoped>\n",
              "    .dataframe tbody tr th:only-of-type {\n",
              "        vertical-align: middle;\n",
              "    }\n",
              "\n",
              "    .dataframe tbody tr th {\n",
              "        vertical-align: top;\n",
              "    }\n",
              "\n",
              "    .dataframe thead th {\n",
              "        text-align: right;\n",
              "    }\n",
              "</style>\n",
              "<table border=\"1\" class=\"dataframe\">\n",
              "  <thead>\n",
              "    <tr style=\"text-align: right;\">\n",
              "      <th></th>\n",
              "      <th>rain1</th>\n",
              "      <th>rain2</th>\n",
              "      <th>rain3</th>\n",
              "      <th>rain4</th>\n",
              "      <th>rain5</th>\n",
              "      <th>rain6</th>\n",
              "      <th>rain7</th>\n",
              "      <th>rain8</th>\n",
              "      <th>rain9</th>\n",
              "      <th>rain10</th>\n",
              "      <th>depth</th>\n",
              "    </tr>\n",
              "  </thead>\n",
              "  <tbody>\n",
              "    <tr>\n",
              "      <th>13</th>\n",
              "      <td>-0.807000</td>\n",
              "      <td>-0.656299</td>\n",
              "      <td>-1.006945</td>\n",
              "      <td>-0.791458</td>\n",
              "      <td>-0.633365</td>\n",
              "      <td>-1.345765</td>\n",
              "      <td>-0.337043</td>\n",
              "      <td>0.080626</td>\n",
              "      <td>0.678383</td>\n",
              "      <td>0.970423</td>\n",
              "      <td>-1.643730</td>\n",
              "    </tr>\n",
              "    <tr>\n",
              "      <th>10</th>\n",
              "      <td>0.790026</td>\n",
              "      <td>1.457196</td>\n",
              "      <td>1.071760</td>\n",
              "      <td>-0.566078</td>\n",
              "      <td>-0.570714</td>\n",
              "      <td>-0.891327</td>\n",
              "      <td>-1.036100</td>\n",
              "      <td>-0.126043</td>\n",
              "      <td>-0.774774</td>\n",
              "      <td>-0.198988</td>\n",
              "      <td>0.360408</td>\n",
              "    </tr>\n",
              "    <tr>\n",
              "      <th>3</th>\n",
              "      <td>-0.816117</td>\n",
              "      <td>-0.658193</td>\n",
              "      <td>-1.010407</td>\n",
              "      <td>-0.792416</td>\n",
              "      <td>-0.726823</td>\n",
              "      <td>-1.562912</td>\n",
              "      <td>-0.887615</td>\n",
              "      <td>-0.380538</td>\n",
              "      <td>0.291276</td>\n",
              "      <td>0.492197</td>\n",
              "      <td>-2.846213</td>\n",
              "    </tr>\n",
              "    <tr>\n",
              "      <th>31</th>\n",
              "      <td>-0.627526</td>\n",
              "      <td>-0.338652</td>\n",
              "      <td>-0.027799</td>\n",
              "      <td>0.488504</td>\n",
              "      <td>2.823268</td>\n",
              "      <td>2.246378</td>\n",
              "      <td>1.807174</td>\n",
              "      <td>0.841069</td>\n",
              "      <td>-0.151449</td>\n",
              "      <td>-0.484348</td>\n",
              "      <td>1.067751</td>\n",
              "    </tr>\n",
              "    <tr>\n",
              "      <th>25</th>\n",
              "      <td>1.602935</td>\n",
              "      <td>2.507414</td>\n",
              "      <td>2.108472</td>\n",
              "      <td>-0.452203</td>\n",
              "      <td>-0.304754</td>\n",
              "      <td>-0.120387</td>\n",
              "      <td>0.001460</td>\n",
              "      <td>0.930635</td>\n",
              "      <td>-0.520888</td>\n",
              "      <td>0.424386</td>\n",
              "      <td>0.902704</td>\n",
              "    </tr>\n",
              "  </tbody>\n",
              "</table>\n",
              "</div>\n",
              "      <button class=\"colab-df-convert\" onclick=\"convertToInteractive('df-18d59ba9-dda2-4baf-88a2-7bd3dde8572a')\"\n",
              "              title=\"Convert this dataframe to an interactive table.\"\n",
              "              style=\"display:none;\">\n",
              "        \n",
              "  <svg xmlns=\"http://www.w3.org/2000/svg\" height=\"24px\"viewBox=\"0 0 24 24\"\n",
              "       width=\"24px\">\n",
              "    <path d=\"M0 0h24v24H0V0z\" fill=\"none\"/>\n",
              "    <path d=\"M18.56 5.44l.94 2.06.94-2.06 2.06-.94-2.06-.94-.94-2.06-.94 2.06-2.06.94zm-11 1L8.5 8.5l.94-2.06 2.06-.94-2.06-.94L8.5 2.5l-.94 2.06-2.06.94zm10 10l.94 2.06.94-2.06 2.06-.94-2.06-.94-.94-2.06-.94 2.06-2.06.94z\"/><path d=\"M17.41 7.96l-1.37-1.37c-.4-.4-.92-.59-1.43-.59-.52 0-1.04.2-1.43.59L10.3 9.45l-7.72 7.72c-.78.78-.78 2.05 0 2.83L4 21.41c.39.39.9.59 1.41.59.51 0 1.02-.2 1.41-.59l7.78-7.78 2.81-2.81c.8-.78.8-2.07 0-2.86zM5.41 20L4 18.59l7.72-7.72 1.47 1.35L5.41 20z\"/>\n",
              "  </svg>\n",
              "      </button>\n",
              "      \n",
              "  <style>\n",
              "    .colab-df-container {\n",
              "      display:flex;\n",
              "      flex-wrap:wrap;\n",
              "      gap: 12px;\n",
              "    }\n",
              "\n",
              "    .colab-df-convert {\n",
              "      background-color: #E8F0FE;\n",
              "      border: none;\n",
              "      border-radius: 50%;\n",
              "      cursor: pointer;\n",
              "      display: none;\n",
              "      fill: #1967D2;\n",
              "      height: 32px;\n",
              "      padding: 0 0 0 0;\n",
              "      width: 32px;\n",
              "    }\n",
              "\n",
              "    .colab-df-convert:hover {\n",
              "      background-color: #E2EBFA;\n",
              "      box-shadow: 0px 1px 2px rgba(60, 64, 67, 0.3), 0px 1px 3px 1px rgba(60, 64, 67, 0.15);\n",
              "      fill: #174EA6;\n",
              "    }\n",
              "\n",
              "    [theme=dark] .colab-df-convert {\n",
              "      background-color: #3B4455;\n",
              "      fill: #D2E3FC;\n",
              "    }\n",
              "\n",
              "    [theme=dark] .colab-df-convert:hover {\n",
              "      background-color: #434B5C;\n",
              "      box-shadow: 0px 1px 3px 1px rgba(0, 0, 0, 0.15);\n",
              "      filter: drop-shadow(0px 1px 2px rgba(0, 0, 0, 0.3));\n",
              "      fill: #FFFFFF;\n",
              "    }\n",
              "  </style>\n",
              "\n",
              "      <script>\n",
              "        const buttonEl =\n",
              "          document.querySelector('#df-18d59ba9-dda2-4baf-88a2-7bd3dde8572a button.colab-df-convert');\n",
              "        buttonEl.style.display =\n",
              "          google.colab.kernel.accessAllowed ? 'block' : 'none';\n",
              "\n",
              "        async function convertToInteractive(key) {\n",
              "          const element = document.querySelector('#df-18d59ba9-dda2-4baf-88a2-7bd3dde8572a');\n",
              "          const dataTable =\n",
              "            await google.colab.kernel.invokeFunction('convertToInteractive',\n",
              "                                                     [key], {});\n",
              "          if (!dataTable) return;\n",
              "\n",
              "          const docLinkHtml = 'Like what you see? Visit the ' +\n",
              "            '<a target=\"_blank\" href=https://colab.research.google.com/notebooks/data_table.ipynb>data table notebook</a>'\n",
              "            + ' to learn more about interactive tables.';\n",
              "          element.innerHTML = '';\n",
              "          dataTable['output_type'] = 'display_data';\n",
              "          await google.colab.output.renderOutput(dataTable, element);\n",
              "          const docLink = document.createElement('div');\n",
              "          docLink.innerHTML = docLinkHtml;\n",
              "          element.appendChild(docLink);\n",
              "        }\n",
              "      </script>\n",
              "    </div>\n",
              "  </div>\n",
              "  "
            ],
            "text/plain": [
              "       rain1     rain2     rain3     rain4     rain5     rain6     rain7  \\\n",
              "13 -0.807000 -0.656299 -1.006945 -0.791458 -0.633365 -1.345765 -0.337043   \n",
              "10  0.790026  1.457196  1.071760 -0.566078 -0.570714 -0.891327 -1.036100   \n",
              "3  -0.816117 -0.658193 -1.010407 -0.792416 -0.726823 -1.562912 -0.887615   \n",
              "31 -0.627526 -0.338652 -0.027799  0.488504  2.823268  2.246378  1.807174   \n",
              "25  1.602935  2.507414  2.108472 -0.452203 -0.304754 -0.120387  0.001460   \n",
              "\n",
              "       rain8     rain9    rain10     depth  \n",
              "13  0.080626  0.678383  0.970423 -1.643730  \n",
              "10 -0.126043 -0.774774 -0.198988  0.360408  \n",
              "3  -0.380538  0.291276  0.492197 -2.846213  \n",
              "31  0.841069 -0.151449 -0.484348  1.067751  \n",
              "25  0.930635 -0.520888  0.424386  0.902704  "
            ]
          },
          "metadata": {},
          "execution_count": 80
        }
      ]
    },
    {
      "cell_type": "code",
      "source": [
        "test_df_norm.head()"
      ],
      "metadata": {
        "id": "fWOfqPzS0_0o",
        "outputId": "bde51c09-31d0-4a65-9bcf-d4857acc8af0",
        "colab": {
          "base_uri": "https://localhost:8080/",
          "height": 143
        }
      },
      "execution_count": 81,
      "outputs": [
        {
          "output_type": "execute_result",
          "data": {
            "text/html": [
              "\n",
              "  <div id=\"df-93881072-bbb0-488c-a46f-dba85865f5ee\">\n",
              "    <div class=\"colab-df-container\">\n",
              "      <div>\n",
              "<style scoped>\n",
              "    .dataframe tbody tr th:only-of-type {\n",
              "        vertical-align: middle;\n",
              "    }\n",
              "\n",
              "    .dataframe tbody tr th {\n",
              "        vertical-align: top;\n",
              "    }\n",
              "\n",
              "    .dataframe thead th {\n",
              "        text-align: right;\n",
              "    }\n",
              "</style>\n",
              "<table border=\"1\" class=\"dataframe\">\n",
              "  <thead>\n",
              "    <tr style=\"text-align: right;\">\n",
              "      <th></th>\n",
              "      <th>rain1</th>\n",
              "      <th>rain2</th>\n",
              "      <th>rain3</th>\n",
              "      <th>rain4</th>\n",
              "      <th>rain5</th>\n",
              "      <th>rain6</th>\n",
              "      <th>rain7</th>\n",
              "      <th>rain8</th>\n",
              "      <th>rain9</th>\n",
              "      <th>rain10</th>\n",
              "      <th>depth</th>\n",
              "    </tr>\n",
              "  </thead>\n",
              "  <tbody>\n",
              "    <tr>\n",
              "      <th>0</th>\n",
              "      <td>0.368695</td>\n",
              "      <td>0.912601</td>\n",
              "      <td>0.534186</td>\n",
              "      <td>-0.625083</td>\n",
              "      <td>-0.708546</td>\n",
              "      <td>-1.290795</td>\n",
              "      <td>-1.573808</td>\n",
              "      <td>-0.67402</td>\n",
              "      <td>-0.906348</td>\n",
              "      <td>-0.522107</td>\n",
              "      <td>-0.205466</td>\n",
              "    </tr>\n",
              "    <tr>\n",
              "      <th>1</th>\n",
              "      <td>0.368695</td>\n",
              "      <td>0.912601</td>\n",
              "      <td>0.534186</td>\n",
              "      <td>-0.625083</td>\n",
              "      <td>-0.708546</td>\n",
              "      <td>-1.290795</td>\n",
              "      <td>-1.573808</td>\n",
              "      <td>-0.67402</td>\n",
              "      <td>-0.906348</td>\n",
              "      <td>-0.522107</td>\n",
              "      <td>-0.205466</td>\n",
              "    </tr>\n",
              "    <tr>\n",
              "      <th>2</th>\n",
              "      <td>0.368695</td>\n",
              "      <td>0.912601</td>\n",
              "      <td>0.534186</td>\n",
              "      <td>-0.625083</td>\n",
              "      <td>-0.708546</td>\n",
              "      <td>-1.290795</td>\n",
              "      <td>-1.573808</td>\n",
              "      <td>-0.67402</td>\n",
              "      <td>-0.906348</td>\n",
              "      <td>-0.522107</td>\n",
              "      <td>-0.205466</td>\n",
              "    </tr>\n",
              "  </tbody>\n",
              "</table>\n",
              "</div>\n",
              "      <button class=\"colab-df-convert\" onclick=\"convertToInteractive('df-93881072-bbb0-488c-a46f-dba85865f5ee')\"\n",
              "              title=\"Convert this dataframe to an interactive table.\"\n",
              "              style=\"display:none;\">\n",
              "        \n",
              "  <svg xmlns=\"http://www.w3.org/2000/svg\" height=\"24px\"viewBox=\"0 0 24 24\"\n",
              "       width=\"24px\">\n",
              "    <path d=\"M0 0h24v24H0V0z\" fill=\"none\"/>\n",
              "    <path d=\"M18.56 5.44l.94 2.06.94-2.06 2.06-.94-2.06-.94-.94-2.06-.94 2.06-2.06.94zm-11 1L8.5 8.5l.94-2.06 2.06-.94-2.06-.94L8.5 2.5l-.94 2.06-2.06.94zm10 10l.94 2.06.94-2.06 2.06-.94-2.06-.94-.94-2.06-.94 2.06-2.06.94z\"/><path d=\"M17.41 7.96l-1.37-1.37c-.4-.4-.92-.59-1.43-.59-.52 0-1.04.2-1.43.59L10.3 9.45l-7.72 7.72c-.78.78-.78 2.05 0 2.83L4 21.41c.39.39.9.59 1.41.59.51 0 1.02-.2 1.41-.59l7.78-7.78 2.81-2.81c.8-.78.8-2.07 0-2.86zM5.41 20L4 18.59l7.72-7.72 1.47 1.35L5.41 20z\"/>\n",
              "  </svg>\n",
              "      </button>\n",
              "      \n",
              "  <style>\n",
              "    .colab-df-container {\n",
              "      display:flex;\n",
              "      flex-wrap:wrap;\n",
              "      gap: 12px;\n",
              "    }\n",
              "\n",
              "    .colab-df-convert {\n",
              "      background-color: #E8F0FE;\n",
              "      border: none;\n",
              "      border-radius: 50%;\n",
              "      cursor: pointer;\n",
              "      display: none;\n",
              "      fill: #1967D2;\n",
              "      height: 32px;\n",
              "      padding: 0 0 0 0;\n",
              "      width: 32px;\n",
              "    }\n",
              "\n",
              "    .colab-df-convert:hover {\n",
              "      background-color: #E2EBFA;\n",
              "      box-shadow: 0px 1px 2px rgba(60, 64, 67, 0.3), 0px 1px 3px 1px rgba(60, 64, 67, 0.15);\n",
              "      fill: #174EA6;\n",
              "    }\n",
              "\n",
              "    [theme=dark] .colab-df-convert {\n",
              "      background-color: #3B4455;\n",
              "      fill: #D2E3FC;\n",
              "    }\n",
              "\n",
              "    [theme=dark] .colab-df-convert:hover {\n",
              "      background-color: #434B5C;\n",
              "      box-shadow: 0px 1px 3px 1px rgba(0, 0, 0, 0.15);\n",
              "      filter: drop-shadow(0px 1px 2px rgba(0, 0, 0, 0.3));\n",
              "      fill: #FFFFFF;\n",
              "    }\n",
              "  </style>\n",
              "\n",
              "      <script>\n",
              "        const buttonEl =\n",
              "          document.querySelector('#df-93881072-bbb0-488c-a46f-dba85865f5ee button.colab-df-convert');\n",
              "        buttonEl.style.display =\n",
              "          google.colab.kernel.accessAllowed ? 'block' : 'none';\n",
              "\n",
              "        async function convertToInteractive(key) {\n",
              "          const element = document.querySelector('#df-93881072-bbb0-488c-a46f-dba85865f5ee');\n",
              "          const dataTable =\n",
              "            await google.colab.kernel.invokeFunction('convertToInteractive',\n",
              "                                                     [key], {});\n",
              "          if (!dataTable) return;\n",
              "\n",
              "          const docLinkHtml = 'Like what you see? Visit the ' +\n",
              "            '<a target=\"_blank\" href=https://colab.research.google.com/notebooks/data_table.ipynb>data table notebook</a>'\n",
              "            + ' to learn more about interactive tables.';\n",
              "          element.innerHTML = '';\n",
              "          dataTable['output_type'] = 'display_data';\n",
              "          await google.colab.output.renderOutput(dataTable, element);\n",
              "          const docLink = document.createElement('div');\n",
              "          docLink.innerHTML = docLinkHtml;\n",
              "          element.appendChild(docLink);\n",
              "        }\n",
              "      </script>\n",
              "    </div>\n",
              "  </div>\n",
              "  "
            ],
            "text/plain": [
              "      rain1     rain2     rain3     rain4     rain5     rain6     rain7  \\\n",
              "0  0.368695  0.912601  0.534186 -0.625083 -0.708546 -1.290795 -1.573808   \n",
              "1  0.368695  0.912601  0.534186 -0.625083 -0.708546 -1.290795 -1.573808   \n",
              "2  0.368695  0.912601  0.534186 -0.625083 -0.708546 -1.290795 -1.573808   \n",
              "\n",
              "     rain8     rain9    rain10     depth  \n",
              "0 -0.67402 -0.906348 -0.522107 -0.205466  \n",
              "1 -0.67402 -0.906348 -0.522107 -0.205466  \n",
              "2 -0.67402 -0.906348 -0.522107 -0.205466  "
            ]
          },
          "metadata": {},
          "execution_count": 81
        }
      ]
    },
    {
      "cell_type": "markdown",
      "source": [
        "## 表示数据\n",
        "下面的代码创建一个特征层，包括10个特征：从`rain1`到`rain10`。\n",
        "\n",
        "确定训练模型要用的特征以及这些特征的表示方式。`my_feature_layer`在训练模型时才会用到。"
      ],
      "metadata": {
        "id": "rsITXpWWKx94"
      }
    },
    {
      "cell_type": "code",
      "source": [
        "# 创建一个空的列表，用来放所有特征列\n",
        "feature_columns = []\n",
        "\n",
        "# 将各降雨值表示为浮点数值\n",
        "rain1 = tf.feature_column.numeric_column(\"rain1\")\n",
        "feature_columns.append(rain1)\n",
        "\n",
        "rain2 = tf.feature_column.numeric_column(\"rain2\")\n",
        "feature_columns.append(rain2)\n",
        "\n",
        "rain3 = tf.feature_column.numeric_column(\"rain3\")\n",
        "feature_columns.append(rain3)\n",
        "\n",
        "rain4 = tf.feature_column.numeric_column(\"rain4\")\n",
        "feature_columns.append(rain4)\n",
        "\n",
        "rain5 = tf.feature_column.numeric_column(\"rain5\")\n",
        "feature_columns.append(rain5)\n",
        "\n",
        "rain6 = tf.feature_column.numeric_column(\"rain6\")\n",
        "feature_columns.append(rain6)\n",
        "\n",
        "rain7 = tf.feature_column.numeric_column(\"rain7\")\n",
        "feature_columns.append(rain7)\n",
        "\n",
        "rain8 = tf.feature_column.numeric_column(\"rain8\")\n",
        "feature_columns.append(rain8)\n",
        "\n",
        "rain9 = tf.feature_column.numeric_column(\"rain9\")\n",
        "feature_columns.append(rain9)\n",
        "\n",
        "rain10 = tf.feature_column.numeric_column(\"rain10\")\n",
        "feature_columns.append(rain10)\n",
        "\n",
        "# 将特征列的列表转化为一个层，稍后添加到模型中\n",
        "my_feature_layer = tf.keras.layers.DenseFeatures(feature_columns)"
      ],
      "metadata": {
        "id": "B32ykWEU2Iky"
      },
      "execution_count": 70,
      "outputs": []
    },
    {
      "cell_type": "markdown",
      "source": [
        "## 定义绘图函数"
      ],
      "metadata": {
        "id": "Dsmvi91jLyfy"
      }
    },
    {
      "cell_type": "code",
      "source": [
        "def plot_the_loss_curve(epochs, mse):\n",
        "  # 绘制loss vs. epoch的曲线图\n",
        "  plt.figure()\n",
        "  plt.xlabel(\"Epoch\")\n",
        "  plt.ylabel(\"Mean Squared Error\")\n",
        "\n",
        "  plt.plot(epochs, mse, label=\"Loss\")\n",
        "  plt.legend()\n",
        "  plt.ylim([mse.min()*0.95, mse.max()*1.03])\n",
        "  plt.show()\n",
        "\n",
        "print(\"定义plot_the_loss_curve函数\")  "
      ],
      "metadata": {
        "id": "K6BWXdhsL3c8",
        "outputId": "2ba54c2b-24dc-4ea6-a843-3f072df10b80",
        "colab": {
          "base_uri": "https://localhost:8080/"
        }
      },
      "execution_count": 71,
      "outputs": [
        {
          "output_type": "stream",
          "name": "stdout",
          "text": [
            "定义plot_the_loss_curve函数\n"
          ]
        }
      ]
    },
    {
      "cell_type": "markdown",
      "source": [
        "## 定义一个深度神经网络模型\n",
        "`create_model`函数定义了神经网络的拓扑结构：\n",
        "- 深度神经网络的层数\n",
        "- 每一层的节点数\n",
        "\n",
        "`create_model`还定义了每一层的激活函数"
      ],
      "metadata": {
        "id": "dPcSEx0aUiQ4"
      }
    },
    {
      "cell_type": "code",
      "source": [
        "def create_model(my_learning_rate, my_feature_layer):\n",
        "  # 创建并配置模型\n",
        "  # 使用sequential创建模型\n",
        "  model = tf.keras.models.Sequential()\n",
        "\n",
        "  # 添加一个包含特征列的层到模型，也就是输入层\n",
        "  model.add(my_feature_layer)\n",
        "\n",
        "  # 对于每一层，使用 tf.keras.layers.Dense 方法描述模型的拓扑结构\n",
        "  # 确定以下参数：\n",
        "  #     * units 指定该层的节点数量\n",
        "  #     * activation 指定激活函数（Rectified Linear Unit a.k.a. ReLU）\n",
        "  #     * name 在debug的时候有用\n",
        "\n",
        "  # 定义第一个隐藏层，包含20个节点\n",
        "  model.add(tf.keras.layers.Dense(\n",
        "      units=20,\n",
        "      activation='relu',\n",
        "      kernel_regularizer=tf.keras.regularizers.l2(l2=0.01), # 加入正则项，防止模型过于复杂出现过拟合现象\n",
        "      name='Hidden1'))\n",
        "  \n",
        "  # 添加一个dropout层，dropout可随机使一定比例的输入节点失效，即变为0\n",
        "  # 可防止过拟合\n",
        "  # model.add(tf.keras.layers.Dropout(rate=0.1)) \n",
        "\n",
        "  # 定义第二个隐藏层，包含12个节点\n",
        "  model.add(tf.keras.layers.Dense(\n",
        "      units=12,\n",
        "      activation='relu',\n",
        "      kernel_regularizer=tf.keras.regularizers.l2(l2=0.01),\n",
        "      name='Hidden2'))\n",
        "  \n",
        "  # 添加一个dropout层，dropout可随机使一定比例的输入节点失效，即变为0\n",
        "  # 可防止过拟合\n",
        "  # model.add(tf.keras.layers.Dropout(rate=0.1)) \n",
        "\n",
        "  # 定义输出层\n",
        "  model.add(tf.keras.layers.Dense(units=1,name='Output'))\n",
        "\n",
        "  # 配置模型\n",
        "  model.compile(optimizer=tf.keras.optimizers.Adam(lr=my_learning_rate),\n",
        "                loss=\"mean_squared_error\",\n",
        "                metrics=[tf.keras.metrics.MeanSquaredError()])\n",
        "  \n",
        "  return model"
      ],
      "metadata": {
        "id": "DEONQplyVEX7"
      },
      "execution_count": 97,
      "outputs": []
    },
    {
      "cell_type": "markdown",
      "source": [
        "## 定义训练函数\n",
        "定义的`train_model`函数从输入的特征和标签训练模型，使用`tf.keras.Model.fit`方法训练模型，该方法的参数`x`非常灵活，支持多种方式传入特征数据，下面使用Python的字典输入数据：\n",
        "- *keys*是每个特征的名字（例如，`rain1`,`rain2`等）\n",
        "- 每个键的值是包含该特征的值的NumPy序列\n"
      ],
      "metadata": {
        "id": "SBtFGg5aDc2Y"
      }
    },
    {
      "cell_type": "code",
      "source": [
        "def train_model(model, dataset, epochs, label_name, batch_size=None, my_validation_split=0.2):\n",
        "  # 将数据集分为特征和标签\n",
        "  # 特征存储为字典类型\n",
        "  features = {name:np.array(value) for name, value in dataset.items()}\n",
        "  label = np.array(features.pop(label_name))\n",
        "\n",
        "  # 训练模型，并将结果存储在history\n",
        "  history = model.fit(x=features, y=label, batch_size=batch_size,\n",
        "                      epochs=epochs, shuffle=True,\n",
        "                      validation_split=my_validation_split)\n",
        "  # epochs列表从history剩余部分分开存储\n",
        "  epochs = history.epoch\n",
        "\n",
        "  # 为追踪训练进展，得到每个epoch的模型均方差\n",
        "  hist = pd.DataFrame(history.history)\n",
        "  mse = hist[\"mean_squared_error\"]\n",
        "\n",
        "  return epochs, mse\n"
      ],
      "metadata": {
        "id": "VhlkqzZvFpqg"
      },
      "execution_count": 87,
      "outputs": []
    },
    {
      "cell_type": "markdown",
      "source": [
        "## 调用函数建立并训练深度神经网络\n",
        "可修改三个超参数查看测试集的损失函数是否减小"
      ],
      "metadata": {
        "id": "2BX8xkBoItIB"
      }
    },
    {
      "cell_type": "code",
      "source": [
        "# 下面的变量是超参数\n",
        "learning_rate = 0.01\n",
        "epochs = 30\n",
        "batch_size = None\n",
        "\n",
        "# 将原始的训练集分为一个较小的训练集和一个验证集\n",
        "validation_split = 0.2\n",
        "\n",
        "# 指定标签，即水深\n",
        "label_name = \"depth\"\n",
        "\n",
        "# 构建模型拓扑结构，输入学习率和特征层\n",
        "my_model = create_model(learning_rate, my_feature_layer)\n",
        "\n",
        "# 使用归一化后的训练集训练模型，模型使用feature_layer定义的特征，此处全部使用\n",
        "epochs, mse = train_model(my_model, train_df_norm, epochs,\n",
        "                          label_name, batch_size,\n",
        "                          validation_split)\n",
        "plot_the_loss_curve(epochs, mse)\n",
        "\n",
        "# 使用训练集建立模型后，使用测试集测试模型\n",
        "test_features = {name:np.array(value) for name, value in test_df_norm.items()}\n",
        "test_label = np.array(test_features.pop(label_name)) # 分离标签\n",
        "print(\"\\n 使用测试集评估模型：\")\n",
        "my_model.evaluate(x=test_features, y=test_label)"
      ],
      "metadata": {
        "id": "xxVlb3TEI1WT",
        "outputId": "f8b93bd9-d936-4776-cee5-6c62ba44efb4",
        "colab": {
          "base_uri": "https://localhost:8080/",
          "height": 1000
        }
      },
      "execution_count": 109,
      "outputs": [
        {
          "output_type": "stream",
          "name": "stdout",
          "text": [
            "Epoch 1/30\n",
            "WARNING:tensorflow:Layers in a Sequential model should only have a single input tensor. Received: inputs={'rain1': <tf.Tensor 'IteratorGetNext:0' shape=(None,) dtype=float32>, 'rain2': <tf.Tensor 'IteratorGetNext:2' shape=(None,) dtype=float32>, 'rain3': <tf.Tensor 'IteratorGetNext:3' shape=(None,) dtype=float32>, 'rain4': <tf.Tensor 'IteratorGetNext:4' shape=(None,) dtype=float32>, 'rain5': <tf.Tensor 'IteratorGetNext:5' shape=(None,) dtype=float32>, 'rain6': <tf.Tensor 'IteratorGetNext:6' shape=(None,) dtype=float32>, 'rain7': <tf.Tensor 'IteratorGetNext:7' shape=(None,) dtype=float32>, 'rain8': <tf.Tensor 'IteratorGetNext:8' shape=(None,) dtype=float32>, 'rain9': <tf.Tensor 'IteratorGetNext:9' shape=(None,) dtype=float32>, 'rain10': <tf.Tensor 'IteratorGetNext:1' shape=(None,) dtype=float32>}. Consider rewriting this model with the Functional API.\n"
          ]
        },
        {
          "output_type": "stream",
          "name": "stderr",
          "text": [
            "/usr/local/lib/python3.7/dist-packages/keras/optimizer_v2/adam.py:105: UserWarning: The `lr` argument is deprecated, use `learning_rate` instead.\n",
            "  super(Adam, self).__init__(name, **kwargs)\n"
          ]
        },
        {
          "output_type": "stream",
          "name": "stdout",
          "text": [
            "WARNING:tensorflow:Layers in a Sequential model should only have a single input tensor. Received: inputs={'rain1': <tf.Tensor 'IteratorGetNext:0' shape=(None,) dtype=float32>, 'rain2': <tf.Tensor 'IteratorGetNext:2' shape=(None,) dtype=float32>, 'rain3': <tf.Tensor 'IteratorGetNext:3' shape=(None,) dtype=float32>, 'rain4': <tf.Tensor 'IteratorGetNext:4' shape=(None,) dtype=float32>, 'rain5': <tf.Tensor 'IteratorGetNext:5' shape=(None,) dtype=float32>, 'rain6': <tf.Tensor 'IteratorGetNext:6' shape=(None,) dtype=float32>, 'rain7': <tf.Tensor 'IteratorGetNext:7' shape=(None,) dtype=float32>, 'rain8': <tf.Tensor 'IteratorGetNext:8' shape=(None,) dtype=float32>, 'rain9': <tf.Tensor 'IteratorGetNext:9' shape=(None,) dtype=float32>, 'rain10': <tf.Tensor 'IteratorGetNext:1' shape=(None,) dtype=float32>}. Consider rewriting this model with the Functional API.\n",
            "1/1 [==============================] - ETA: 0s - loss: 1.7460 - mean_squared_error: 1.4607WARNING:tensorflow:Layers in a Sequential model should only have a single input tensor. Received: inputs={'rain1': <tf.Tensor 'IteratorGetNext:0' shape=(None,) dtype=float32>, 'rain2': <tf.Tensor 'IteratorGetNext:2' shape=(None,) dtype=float32>, 'rain3': <tf.Tensor 'IteratorGetNext:3' shape=(None,) dtype=float32>, 'rain4': <tf.Tensor 'IteratorGetNext:4' shape=(None,) dtype=float32>, 'rain5': <tf.Tensor 'IteratorGetNext:5' shape=(None,) dtype=float32>, 'rain6': <tf.Tensor 'IteratorGetNext:6' shape=(None,) dtype=float32>, 'rain7': <tf.Tensor 'IteratorGetNext:7' shape=(None,) dtype=float32>, 'rain8': <tf.Tensor 'IteratorGetNext:8' shape=(None,) dtype=float32>, 'rain9': <tf.Tensor 'IteratorGetNext:9' shape=(None,) dtype=float32>, 'rain10': <tf.Tensor 'IteratorGetNext:1' shape=(None,) dtype=float32>}. Consider rewriting this model with the Functional API.\n",
            "1/1 [==============================] - 1s 1s/step - loss: 1.7460 - mean_squared_error: 1.4607 - val_loss: 1.2842 - val_mean_squared_error: 1.0034\n",
            "Epoch 2/30\n",
            "1/1 [==============================] - 0s 50ms/step - loss: 1.3396 - mean_squared_error: 1.0587 - val_loss: 1.0258 - val_mean_squared_error: 0.7492\n",
            "Epoch 3/30\n",
            "1/1 [==============================] - 0s 71ms/step - loss: 1.0594 - mean_squared_error: 0.7828 - val_loss: 0.8328 - val_mean_squared_error: 0.5599\n",
            "Epoch 4/30\n",
            "1/1 [==============================] - 0s 43ms/step - loss: 0.8538 - mean_squared_error: 0.5808 - val_loss: 0.6832 - val_mean_squared_error: 0.4135\n",
            "Epoch 5/30\n",
            "1/1 [==============================] - 0s 43ms/step - loss: 0.6951 - mean_squared_error: 0.4254 - val_loss: 0.5715 - val_mean_squared_error: 0.3045\n",
            "Epoch 6/30\n",
            "1/1 [==============================] - 0s 50ms/step - loss: 0.5769 - mean_squared_error: 0.3099 - val_loss: 0.4977 - val_mean_squared_error: 0.2330\n",
            "Epoch 7/30\n",
            "1/1 [==============================] - 0s 62ms/step - loss: 0.4958 - mean_squared_error: 0.2311 - val_loss: 0.4367 - val_mean_squared_error: 0.1737\n",
            "Epoch 8/30\n",
            "1/1 [==============================] - 0s 49ms/step - loss: 0.4344 - mean_squared_error: 0.1714 - val_loss: 0.3885 - val_mean_squared_error: 0.1269\n",
            "Epoch 9/30\n",
            "1/1 [==============================] - 0s 52ms/step - loss: 0.3859 - mean_squared_error: 0.1243 - val_loss: 0.3524 - val_mean_squared_error: 0.0920\n",
            "Epoch 10/30\n",
            "1/1 [==============================] - 0s 54ms/step - loss: 0.3495 - mean_squared_error: 0.0891 - val_loss: 0.3284 - val_mean_squared_error: 0.0692\n",
            "Epoch 11/30\n",
            "1/1 [==============================] - 0s 50ms/step - loss: 0.3263 - mean_squared_error: 0.0670 - val_loss: 0.3148 - val_mean_squared_error: 0.0567\n",
            "Epoch 12/30\n",
            "1/1 [==============================] - 0s 63ms/step - loss: 0.3162 - mean_squared_error: 0.0581 - val_loss: 0.3109 - val_mean_squared_error: 0.0541\n",
            "Epoch 13/30\n",
            "1/1 [==============================] - 0s 57ms/step - loss: 0.3138 - mean_squared_error: 0.0570 - val_loss: 0.3152 - val_mean_squared_error: 0.0600\n",
            "Epoch 14/30\n",
            "1/1 [==============================] - 0s 59ms/step - loss: 0.3154 - mean_squared_error: 0.0601 - val_loss: 0.3236 - val_mean_squared_error: 0.0702\n",
            "Epoch 15/30\n",
            "1/1 [==============================] - 0s 49ms/step - loss: 0.3181 - mean_squared_error: 0.0647 - val_loss: 0.3294 - val_mean_squared_error: 0.0783\n",
            "Epoch 16/30\n",
            "1/1 [==============================] - 0s 51ms/step - loss: 0.3184 - mean_squared_error: 0.0673 - val_loss: 0.3301 - val_mean_squared_error: 0.0816\n",
            "Epoch 17/30\n",
            "1/1 [==============================] - 0s 42ms/step - loss: 0.3139 - mean_squared_error: 0.0654 - val_loss: 0.3246 - val_mean_squared_error: 0.0790\n",
            "Epoch 18/30\n",
            "1/1 [==============================] - 0s 49ms/step - loss: 0.3047 - mean_squared_error: 0.0592 - val_loss: 0.3136 - val_mean_squared_error: 0.0713\n",
            "Epoch 19/30\n",
            "1/1 [==============================] - 0s 54ms/step - loss: 0.2922 - mean_squared_error: 0.0500 - val_loss: 0.2989 - val_mean_squared_error: 0.0600\n",
            "Epoch 20/30\n",
            "1/1 [==============================] - 0s 49ms/step - loss: 0.2783 - mean_squared_error: 0.0395 - val_loss: 0.2841 - val_mean_squared_error: 0.0489\n",
            "Epoch 21/30\n",
            "1/1 [==============================] - 0s 42ms/step - loss: 0.2645 - mean_squared_error: 0.0293 - val_loss: 0.2719 - val_mean_squared_error: 0.0404\n",
            "Epoch 22/30\n",
            "1/1 [==============================] - 0s 65ms/step - loss: 0.2528 - mean_squared_error: 0.0213 - val_loss: 0.2634 - val_mean_squared_error: 0.0356\n",
            "Epoch 23/30\n",
            "1/1 [==============================] - 0s 55ms/step - loss: 0.2447 - mean_squared_error: 0.0169 - val_loss: 0.2584 - val_mean_squared_error: 0.0344\n",
            "Epoch 24/30\n",
            "1/1 [==============================] - 0s 53ms/step - loss: 0.2400 - mean_squared_error: 0.0160 - val_loss: 0.2563 - val_mean_squared_error: 0.0361\n",
            "Epoch 25/30\n",
            "1/1 [==============================] - 0s 54ms/step - loss: 0.2379 - mean_squared_error: 0.0177 - val_loss: 0.2559 - val_mean_squared_error: 0.0394\n",
            "Epoch 26/30\n",
            "1/1 [==============================] - 0s 52ms/step - loss: 0.2367 - mean_squared_error: 0.0202 - val_loss: 0.2555 - val_mean_squared_error: 0.0427\n",
            "Epoch 27/30\n",
            "1/1 [==============================] - 0s 52ms/step - loss: 0.2350 - mean_squared_error: 0.0222 - val_loss: 0.2541 - val_mean_squared_error: 0.0448\n",
            "Epoch 28/30\n",
            "1/1 [==============================] - 0s 53ms/step - loss: 0.2322 - mean_squared_error: 0.0229 - val_loss: 0.2511 - val_mean_squared_error: 0.0452\n",
            "Epoch 29/30\n",
            "1/1 [==============================] - 0s 72ms/step - loss: 0.2284 - mean_squared_error: 0.0225 - val_loss: 0.2475 - val_mean_squared_error: 0.0451\n",
            "Epoch 30/30\n",
            "1/1 [==============================] - 0s 54ms/step - loss: 0.2232 - mean_squared_error: 0.0207 - val_loss: 0.2435 - val_mean_squared_error: 0.0442\n"
          ]
        },
        {
          "output_type": "display_data",
          "data": {
            "image/png": "[encoded data removed]",
            "text/plain": [
              "<Figure size 432x288 with 1 Axes>"
            ]
          },
          "metadata": {
            "needs_background": "light"
          }
        },
        {
          "output_type": "stream",
          "name": "stdout",
          "text": [
            "\n",
            " 使用测试集评估模型：\n",
            "1/1 [==============================] - 0s 34ms/step - loss: 0.2007 - mean_squared_error: 0.0014\n"
          ]
        },
        {
          "output_type": "execute_result",
          "data": {
            "text/plain": [
              "[0.2006930559873581, 0.0014156674733385444]"
            ]
          },
          "metadata": {},
          "execution_count": 109
        }
      ]
    },
    {
      "cell_type": "code",
      "source": [
        "my_model.evaluate(x=test_features, y=test_label, batch_size=batch_size)"
      ],
      "metadata": {
        "id": "X9f3Say20R2p",
        "outputId": "083e8bb8-f3ee-4169-83e9-ca9b03cfa940",
        "colab": {
          "base_uri": "https://localhost:8080/"
        }
      },
      "execution_count": 104,
      "outputs": [
        {
          "output_type": "stream",
          "name": "stdout",
          "text": [
            "1/1 [==============================] - 0s 34ms/step - loss: 0.1817 - mean_squared_error: 0.0418\n"
          ]
        },
        {
          "output_type": "execute_result",
          "data": {
            "text/plain": [
              "[0.18168437480926514, 0.04181666672229767]"
            ]
          },
          "metadata": {},
          "execution_count": 104
        }
      ]
    },
    {
      "cell_type": "code",
      "source": [
        "print(my_model.predict(test_features) * train_df_std[-1] + train_df_mean[-1])"
      ],
      "metadata": {
        "id": "9BHGN04VRXz0",
        "outputId": "cd9b0b22-3d76-416f-8b63-c78c54a701de",
        "colab": {
          "base_uri": "https://localhost:8080/"
        }
      },
      "execution_count": 115,
      "outputs": [
        {
          "output_type": "stream",
          "name": "stdout",
          "text": [
            "[[0.26840425]\n",
            " [0.26840425]\n",
            " [0.26840425]]\n"
          ]
        }
      ]
    },
    {
      "cell_type": "code",
      "source": [
        "print(train_df_std[-1])"
      ],
      "metadata": {
        "id": "R9sxa04059cq",
        "outputId": "94a041f7-623e-4de8-ec72-c627bfce2eee",
        "colab": {
          "base_uri": "https://localhost:8080/"
        }
      },
      "execution_count": 114,
      "outputs": [
        {
          "output_type": "stream",
          "name": "stdout",
          "text": [
            "0.04241224256423764\n"
          ]
        }
      ]
    }
  ]
}